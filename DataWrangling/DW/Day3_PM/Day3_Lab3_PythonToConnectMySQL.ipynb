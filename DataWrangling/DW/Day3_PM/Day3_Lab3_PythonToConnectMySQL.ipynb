{
 "cells": [
  {
   "cell_type": "code",
   "execution_count": 1,
   "id": "d861a1c0",
   "metadata": {},
   "outputs": [
    {
     "name": "stdout",
     "output_type": "stream",
     "text": [
      "Collecting mysqlclient\n",
      "  Downloading mysqlclient-2.0.3-cp38-cp38-win_amd64.whl (179 kB)\n",
      "Installing collected packages: mysqlclient\n",
      "Successfully installed mysqlclient-2.0.3\n"
     ]
    }
   ],
   "source": [
    "#windows\n",
    "!pip install mysqlclient"
   ]
  },
  {
   "cell_type": "code",
   "execution_count": 2,
   "id": "22f39018",
   "metadata": {},
   "outputs": [],
   "source": [
    "# Mac users\n",
    "#!conda install mysqlclient"
   ]
  },
  {
   "cell_type": "code",
   "execution_count": 52,
   "id": "cd93f109",
   "metadata": {},
   "outputs": [],
   "source": [
    "import MySQLdb\n",
    "import pandas as pd"
   ]
  },
  {
   "cell_type": "code",
   "execution_count": 51,
   "id": "5bc3dba5",
   "metadata": {},
   "outputs": [
    {
     "name": "stdout",
     "output_type": "stream",
     "text": [
      "00002\n",
      "Taylor\n",
      "Swift\n",
      "23\n",
      "00003\n",
      "Michael\n",
      "Jackson\n",
      "55\n",
      "0001\n",
      "Wei-Meng\n",
      "Lee\n",
      "25\n"
     ]
    }
   ],
   "source": [
    "db = MySQLdb.connect (user='user1',\n",
    "                      passwd='password',\n",
    "                      host='127.0.0.1',\n",
    "                      db='my_db')\n",
    "cur = db.cursor()\n",
    "def get_allrecords():\n",
    "    cur.execute(\"select * from Persons\")\n",
    "    for row in cur.fetchall() :\n",
    "        print (row[0])\n",
    "        print (row[1])\n",
    "        print (row[2])\n",
    "        print (row[3])\n",
    "        \n",
    "get_allrecords()\n",
    "#db.close()"
   ]
  },
  {
   "cell_type": "code",
   "execution_count": 47,
   "id": "ee98ea49",
   "metadata": {},
   "outputs": [],
   "source": [
    "def insert_record(ID, first_name, last_name, age) :    \n",
    "    try:\n",
    "        cur.execute(\"\"\"INSERT INTO Persons (ID, FirstName, LastName, Age) VALUES (%s, %s, %s, %s)\"\"\", (ID, first_name, last_name, age))\n",
    "        db.commit()\n",
    "    except MySQLdb.Error as e:\n",
    "        print (\"Error %d: %s\" % (e.args[0], e.args[1]))\n",
    "        db.rollback()\n",
    "\n",
    "insert_record('00003', 'Michael', 'Jackson', 55)\n",
    " "
   ]
  },
  {
   "cell_type": "code",
   "execution_count": 48,
   "id": "0e098cc7",
   "metadata": {},
   "outputs": [],
   "source": [
    "def update_record(ID, first_name, last_name, age) :\n",
    "    try:\n",
    "        cur.execute(\"\"\"\n",
    "            UPDATE Persons\n",
    "            SET FirstName=%s,\n",
    "            LastName=%s,\n",
    "            Age=%s\n",
    "            WHERE ID=%s\n",
    "        \"\"\", (first_name, last_name, age, ID))\n",
    "        db.commit()\n",
    "    except MySQLdb.Error as e:\n",
    "        print (\"Error %d: %s\" % (e.args[0], e.args[1]))\n",
    "        db.rollback()"
   ]
  },
  {
   "cell_type": "code",
   "execution_count": 45,
   "id": "d898cbf6",
   "metadata": {},
   "outputs": [],
   "source": [
    "update_record('00002', 'Taylor', 'Swift', 23)"
   ]
  },
  {
   "cell_type": "code",
   "execution_count": 50,
   "id": "6ac8cb79",
   "metadata": {},
   "outputs": [],
   "source": [
    "def delete_record(ID):\n",
    "    try:\n",
    "        cur.execute(\"\"\"\n",
    "            DELETE FROM Persons\n",
    "            WHERE ID=%s\n",
    "        \"\"\", [ID])\n",
    "        db.commit()\n",
    "    except MySQLdb.Error as e:\n",
    "        print (\"Error %d: %s\" % (e.args[0], e.args[1]))\n",
    "        db.rollback()\n"
   ]
  },
  {
   "cell_type": "code",
   "execution_count": 53,
   "id": "fa7c96e2",
   "metadata": {},
   "outputs": [
    {
     "data": {
      "text/html": [
       "<div>\n",
       "<style scoped>\n",
       "    .dataframe tbody tr th:only-of-type {\n",
       "        vertical-align: middle;\n",
       "    }\n",
       "\n",
       "    .dataframe tbody tr th {\n",
       "        vertical-align: top;\n",
       "    }\n",
       "\n",
       "    .dataframe thead th {\n",
       "        text-align: right;\n",
       "    }\n",
       "</style>\n",
       "<table border=\"1\" class=\"dataframe\">\n",
       "  <thead>\n",
       "    <tr style=\"text-align: right;\">\n",
       "      <th></th>\n",
       "      <th>ID</th>\n",
       "      <th>FirstName</th>\n",
       "      <th>LastName</th>\n",
       "      <th>Age</th>\n",
       "    </tr>\n",
       "  </thead>\n",
       "  <tbody>\n",
       "    <tr>\n",
       "      <th>0</th>\n",
       "      <td>00002</td>\n",
       "      <td>Taylor</td>\n",
       "      <td>Swift</td>\n",
       "      <td>23</td>\n",
       "    </tr>\n",
       "    <tr>\n",
       "      <th>1</th>\n",
       "      <td>00003</td>\n",
       "      <td>Michael</td>\n",
       "      <td>Jackson</td>\n",
       "      <td>55</td>\n",
       "    </tr>\n",
       "    <tr>\n",
       "      <th>2</th>\n",
       "      <td>0001</td>\n",
       "      <td>Wei-Meng</td>\n",
       "      <td>Lee</td>\n",
       "      <td>25</td>\n",
       "    </tr>\n",
       "  </tbody>\n",
       "</table>\n",
       "</div>"
      ],
      "text/plain": [
       "      ID FirstName LastName  Age\n",
       "0  00002    Taylor    Swift   23\n",
       "1  00003   Michael  Jackson   55\n",
       "2   0001  Wei-Meng      Lee   25"
      ]
     },
     "execution_count": 53,
     "metadata": {},
     "output_type": "execute_result"
    }
   ],
   "source": [
    "pd.read_sql('select * from persons', con=db)"
   ]
  },
  {
   "cell_type": "code",
   "execution_count": 56,
   "id": "8c99b01e",
   "metadata": {},
   "outputs": [
    {
     "name": "stdout",
     "output_type": "stream",
     "text": [
      "   index         A         B         C\n",
      "0      0  0.977429  0.172567  0.363494\n",
      "1      1  0.949939  0.462965  0.069413\n",
      "2      2  0.208220  0.215814  0.008830\n",
      "3      3  0.037687  0.734373  0.474555\n",
      "4      4  0.659887  0.427297  0.184114\n"
     ]
    }
   ],
   "source": [
    "import pandas as pd \n",
    "import numpy as np\n",
    "from sqlalchemy import create_engine\n",
    "\n",
    "user = \"user1\"\n",
    "password = \"password\"\n",
    "engine = create_engine(f\"mysql://{user}:{password}@{host}/{db}\")\n",
    "con = engine.connect()\n",
    "df = pd.DataFrame(np.random.rand(5,3), columns=('A','B','C'))\n",
    "df.to_sql(con = con, name='mytable', if_exists='replace')\n",
    "df_database = pd.read_sql(\"SELECT * FROM mytable\", con = con)\n",
    "print(df_database)\n",
    "#con.close()"
   ]
  },
  {
   "cell_type": "code",
   "execution_count": null,
   "id": "6773a5a2",
   "metadata": {},
   "outputs": [],
   "source": []
  }
 ],
 "metadata": {
  "kernelspec": {
   "display_name": "Python 3",
   "language": "python",
   "name": "python3"
  },
  "language_info": {
   "codemirror_mode": {
    "name": "ipython",
    "version": 3
   },
   "file_extension": ".py",
   "mimetype": "text/x-python",
   "name": "python",
   "nbconvert_exporter": "python",
   "pygments_lexer": "ipython3",
   "version": "3.8.8"
  }
 },
 "nbformat": 4,
 "nbformat_minor": 5
}
