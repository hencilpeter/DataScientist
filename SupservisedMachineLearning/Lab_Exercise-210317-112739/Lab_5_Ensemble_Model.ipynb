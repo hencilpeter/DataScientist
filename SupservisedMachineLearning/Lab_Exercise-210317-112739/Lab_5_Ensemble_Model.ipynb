{
 "cells": [
  {
   "cell_type": "markdown",
   "metadata": {},
   "source": [
    "<table class=\"table table-bordered\">\n",
    "    <tr>\n",
    "        <th style=\"text-align:center;\"><h1>Supervised Machine Learning</h1><h2>Lab 5 - Ensemble Models </h2></th>\n",
    "    </tr>\n",
    "</table>"
   ]
  },
  {
   "cell_type": "code",
   "execution_count": 34,
   "metadata": {},
   "outputs": [],
   "source": [
    "# Import the requried packages\n",
    "import numpy as np\n",
    "import pandas as pd\n",
    "\n",
    "import matplotlib.pyplot as plt\n",
    "%matplotlib inline\n",
    "\n",
    "from sklearn.preprocessing import StandardScaler\n",
    "from sklearn.model_selection import train_test_split\n",
    "from sklearn import linear_model, neighbors, tree, svm, ensemble\n",
    "from sklearn.model_selection import GridSearchCV\n",
    "from sklearn.metrics import mean_squared_error, mean_absolute_error, confusion_matrix, classification_report\n",
    "from sklearn.model_selection import cross_val_score, cross_validate"
   ]
  },
  {
   "cell_type": "markdown",
   "metadata": {},
   "source": [
    "### 1.Classification"
   ]
  },
  {
   "cell_type": "markdown",
   "metadata": {},
   "source": [
    "We will be using the bank marketing campaign data for classification task. We take a small sample (3000 records) to train the model as ensemble model takes longer time to train. Feel free to practice at home using the full dataset. "
   ]
  },
  {
   "cell_type": "code",
   "execution_count": 35,
   "metadata": {
    "scrolled": true
   },
   "outputs": [
    {
     "name": "stdout",
     "output_type": "stream",
     "text": [
      "   age         job  marital  education default  balance housing loan  contact  \\\n",
      "0   59      admin.  married  secondary      no     2343     yes   no  unknown   \n",
      "1   56      admin.  married  secondary      no       45      no   no  unknown   \n",
      "2   41  technician  married  secondary      no     1270     yes   no  unknown   \n",
      "3   55    services  married  secondary      no     2476     yes   no  unknown   \n",
      "4   54      admin.  married   tertiary      no      184      no   no  unknown   \n",
      "\n",
      "   day month  duration  campaign  pdays  previous poutcome deposit  \n",
      "0    5   may      1042         1     -1         0  unknown     yes  \n",
      "1    5   may      1467         1     -1         0  unknown     yes  \n",
      "2    5   may      1389         1     -1         0  unknown     yes  \n",
      "3    5   may       579         1     -1         0  unknown     yes  \n",
      "4    5   may       673         2     -1         0  unknown     yes  \n",
      "job :\n",
      "Index(['admin.', 'blue-collar', 'entrepreneur', 'housemaid', 'management',\n",
      "       'retired', 'self-employed', 'services', 'student', 'technician',\n",
      "       'unemployed', 'unknown'],\n",
      "      dtype='object')\n",
      "marital :\n",
      "Index(['divorced', 'married', 'single'], dtype='object')\n",
      "education :\n",
      "Index(['primary', 'secondary', 'tertiary', 'unknown'], dtype='object')\n",
      "default :\n",
      "Index(['no', 'yes'], dtype='object')\n",
      "housing :\n",
      "Index(['no', 'yes'], dtype='object')\n",
      "loan :\n",
      "Index(['no', 'yes'], dtype='object')\n",
      "contact :\n",
      "Index(['cellular', 'telephone', 'unknown'], dtype='object')\n",
      "month :\n",
      "Index(['apr', 'aug', 'dec', 'feb', 'jan', 'jul', 'jun', 'mar', 'may', 'nov',\n",
      "       'oct', 'sep'],\n",
      "      dtype='object')\n",
      "poutcome :\n",
      "Index(['failure', 'other', 'success', 'unknown'], dtype='object')\n",
      "deposit :\n",
      "Index(['no', 'yes'], dtype='object')\n",
      "   age  job  marital  education  default  balance  housing  loan  contact  \\\n",
      "0   59    0        1          1        0     2343        1     0        2   \n",
      "1   56    0        1          1        0       45        0     0        2   \n",
      "2   41    9        1          1        0     1270        1     0        2   \n",
      "3   55    7        1          1        0     2476        1     0        2   \n",
      "4   54    0        1          2        0      184        0     0        2   \n",
      "\n",
      "   day  month  duration  campaign  pdays  previous  poutcome  deposit  \n",
      "0    5      8      1042         1     -1         0         3        1  \n",
      "1    5      8      1467         1     -1         0         3        1  \n",
      "2    5      8      1389         1     -1         0         3        1  \n",
      "3    5      8       579         1     -1         0         3        1  \n",
      "4    5      8       673         2     -1         0         3        1  \n",
      "\n",
      " samples by target categories:\n",
      "0    1563\n",
      "1    1437\n",
      "Name: deposit, dtype: int64\n"
     ]
    }
   ],
   "source": [
    "# Loading the data\n",
    "bank = pd.read_csv('bank.csv')\n",
    "print(bank.head())\n",
    "# Encode the categorical data into numbers\n",
    "bank_cat = bank.select_dtypes(['object']).copy()\n",
    "for col in bank_cat:\n",
    "    print(col, ':')\n",
    "    codes, uniques = pd.factorize(bank_cat[col], sort=True)\n",
    "    bank[col]=codes\n",
    "    print(uniques)\n",
    "print(bank.head())\n",
    "\n",
    "# Sample a small subset of the data\n",
    "bank = bank.sample(3000, random_state =5)\n",
    "print('\\n samples by target categories:')\n",
    "print(bank.deposit.value_counts())\n",
    "  \n",
    "# Set the \"deposit\" as target/model output and the rest features as model inputs\n",
    "y = bank['deposit']\n",
    "X = bank.drop(['deposit'], axis=1)\n",
    "\n",
    "# Split the data into training and testing data\n",
    "X_train, X_test, y_train, y_test = train_test_split(X, y, test_size=0.2, random_state=2)\n",
    "\n",
    "#Sacaling the data into a smaller range (-3 to +3)\n",
    "mean = X_train.mean()\n",
    "std = X_train.std()\n",
    "\n",
    "X_train = (X_train - mean) / std\n",
    "X_test = (X_test - mean) / std\n"
   ]
  },
  {
   "cell_type": "markdown",
   "metadata": {},
   "source": [
    "#### 1.1 Voting Classifier"
   ]
  },
  {
   "cell_type": "code",
   "execution_count": 36,
   "metadata": {},
   "outputs": [
    {
     "data": {
      "text/plain": [
       "SVC()"
      ]
     },
     "execution_count": 36,
     "metadata": {},
     "output_type": "execute_result"
    }
   ],
   "source": [
    "lg_clf = linear_model.LogisticRegression()\n",
    "dt_clf = tree.DecisionTreeClassifier(max_depth =6)\n",
    "svm_clf = svm.SVC()\n",
    "\n",
    "lg_clf.fit(X_train, y_train)\n",
    "dt_clf.fit(X_train, y_train)\n",
    "svm_clf.fit(X_train, y_train)"
   ]
  },
  {
   "cell_type": "code",
   "execution_count": 37,
   "metadata": {},
   "outputs": [
    {
     "name": "stdout",
     "output_type": "stream",
     "text": [
      "(logistic model)  train_acc: 0.8 ; test_acc: 0.7933333333333333\n",
      "(decision tree)   train_acc: 0.84875 ; test_acc: 0.7966666666666666\n",
      "(support vector)  train_acc: 0.85 ; test_acc: 0.8116666666666666\n"
     ]
    }
   ],
   "source": [
    "print('(logistic model) ', 'train_acc:', lg_clf.score(X_train, y_train), '; test_acc:', lg_clf.score(X_test, y_test),)\n",
    "print('(decision tree)  ', 'train_acc:', dt_clf.score(X_train, y_train), '; test_acc:', dt_clf.score(X_test, y_test),)\n",
    "print('(support vector) ', 'train_acc:', round(svm_clf.score(X_train, y_train), 2), '; test_acc:', svm_clf.score(X_test, y_test),)"
   ]
  },
  {
   "cell_type": "code",
   "execution_count": 38,
   "metadata": {},
   "outputs": [
    {
     "data": {
      "text/plain": [
       "VotingClassifier(estimators=[('LR', LogisticRegression()),\n",
       "                             ('DT', DecisionTreeClassifier(max_depth=6)),\n",
       "                             ('SVM', SVC())])"
      ]
     },
     "execution_count": 38,
     "metadata": {},
     "output_type": "execute_result"
    }
   ],
   "source": [
    "# Hard Votting Classifier\n",
    "voting_clf = ensemble.VotingClassifier(estimators = [('LR', lg_clf),('DT', dt_clf),('SVM', svm_clf)]\n",
    "                                      , voting='hard')\n",
    "voting_clf.fit(X_train, y_train)"
   ]
  },
  {
   "cell_type": "code",
   "execution_count": 39,
   "metadata": {},
   "outputs": [
    {
     "name": "stdout",
     "output_type": "stream",
     "text": [
      "train_acc: 0.84625 \n",
      " test_acc: 0.8183333333333334\n"
     ]
    }
   ],
   "source": [
    "print('train_acc:', voting_clf.score(X_train, y_train), \n",
    "      '\\n test_acc:', voting_clf.score(X_test, y_test))"
   ]
  },
  {
   "cell_type": "code",
   "execution_count": 40,
   "metadata": {},
   "outputs": [
    {
     "data": {
      "text/plain": [
       "SVC(probability=True)"
      ]
     },
     "execution_count": 40,
     "metadata": {},
     "output_type": "execute_result"
    }
   ],
   "source": [
    "# Soft Votting Classifier\n",
    "# set SVM probability as True: this will make the SVC class use cross-validation to estimate class probabilities, \n",
    "# and add a predict_proba() method)\n",
    "svm_clf = svm.SVC(probability=True)\n",
    "svm_clf.fit(X_train, y_train)"
   ]
  },
  {
   "cell_type": "code",
   "execution_count": 41,
   "metadata": {},
   "outputs": [
    {
     "data": {
      "text/plain": [
       "VotingClassifier(estimators=[('LR', LogisticRegression()),\n",
       "                             ('DT', DecisionTreeClassifier(max_depth=6)),\n",
       "                             ('SVM', SVC(probability=True))],\n",
       "                 voting='soft')"
      ]
     },
     "execution_count": 41,
     "metadata": {},
     "output_type": "execute_result"
    }
   ],
   "source": [
    "# soft Votting Classifier\n",
    "voting_clf = ensemble.VotingClassifier(estimators = [('LR', lg_clf),('DT', dt_clf),('SVM', svm_clf)]\n",
    "                                      , voting='soft')\n",
    "voting_clf.fit(X_train, y_train)"
   ]
  },
  {
   "cell_type": "code",
   "execution_count": 42,
   "metadata": {},
   "outputs": [
    {
     "name": "stdout",
     "output_type": "stream",
     "text": [
      "train_acc: 0.8575 \n",
      " test_acc: 0.8216666666666667\n"
     ]
    }
   ],
   "source": [
    "print('train_acc:', voting_clf.score(X_train, y_train), \n",
    "      '\\n test_acc:', voting_clf.score(X_test, y_test))"
   ]
  },
  {
   "cell_type": "code",
   "execution_count": 43,
   "metadata": {},
   "outputs": [
    {
     "data": {
      "text/plain": [
       "VotingClassifier(estimators=[('LR', LogisticRegression()),\n",
       "                             ('DT', DecisionTreeClassifier(max_depth=6)),\n",
       "                             ('SVM', SVC(probability=True))],\n",
       "                 voting='soft')"
      ]
     },
     "execution_count": 43,
     "metadata": {},
     "output_type": "execute_result"
    }
   ],
   "source": [
    "# Soft Votting Classifier\n",
    "# set SVM probability as True: this will make the SVC class use cross-validation to estimate class probabilities, \n",
    "# and add a predict_proba() method)\n",
    "svm_clf = svm.SVC(probability=True)\n",
    "svm_clf.fit(X_train, y_train)\n",
    "\n",
    "voting_clf = ensemble.VotingClassifier(estimators = [('LR', lg_clf),('DT', dt_clf),('SVM', svm_clf)]\n",
    "                                      , voting='soft')\n",
    "voting_clf.fit(X_train, y_train)"
   ]
  },
  {
   "cell_type": "code",
   "execution_count": 44,
   "metadata": {},
   "outputs": [
    {
     "name": "stdout",
     "output_type": "stream",
     "text": [
      "train_acc: 0.8566666666666667 \n",
      " test_acc: 0.82\n"
     ]
    }
   ],
   "source": [
    "print('train_acc:', voting_clf.score(X_train, y_train), \n",
    "      '\\n test_acc:', voting_clf.score(X_test, y_test))"
   ]
  },
  {
   "cell_type": "markdown",
   "metadata": {},
   "source": [
    "#### 1.2 Bagging"
   ]
  },
  {
   "cell_type": "code",
   "execution_count": 45,
   "metadata": {},
   "outputs": [
    {
     "data": {
      "text/plain": [
       "BaggingClassifier(base_estimator=DecisionTreeClassifier(), max_samples=300,\n",
       "                  n_estimators=100, n_jobs=-1)"
      ]
     },
     "execution_count": 45,
     "metadata": {},
     "output_type": "execute_result"
    }
   ],
   "source": [
    "#Bagging Classifier\n",
    "bag_clf = ensemble.BaggingClassifier(\n",
    "    tree.DecisionTreeClassifier(), # BaggingClassifier() automatically perform soft voting if the base classifier can estimate class probabilities\n",
    "    n_estimators = 100, # the numnber of predictors\n",
    "    max_samples = 300, # the number of random samples to be extracted from training set for each predictor\n",
    "    bootstrap=True, # using bootstrap sampling\n",
    "    n_jobs=-1) #the number of CPU cores to use for training and predictions (–1 tells Scikit-Learn to use all available cores)\n",
    "\n",
    "bag_clf.fit(X_train, y_train)"
   ]
  },
  {
   "cell_type": "code",
   "execution_count": 46,
   "metadata": {},
   "outputs": [
    {
     "name": "stdout",
     "output_type": "stream",
     "text": [
      "train_acc: 0.8633333333333333 \n",
      " test_acc: 0.815\n"
     ]
    }
   ],
   "source": [
    "print('train_acc:', bag_clf.score(X_train, y_train), \n",
    "      '\\n test_acc:', bag_clf.score(X_test, y_test))"
   ]
  },
  {
   "cell_type": "markdown",
   "metadata": {},
   "source": [
    "#### 1.3 Random Forest"
   ]
  },
  {
   "cell_type": "markdown",
   "metadata": {},
   "source": [
    "Random Forest is an ensemble of Decision Trees, generally trained via the bagging method typically with max_samples\n",
    "set to the size of the training set. The Random Forest algorithm introduces extra randomness when growing trees;\n",
    "instead of searching for the very best feature when splitting a node, it\n",
    "searches for the best feature among a random subset of features. The algorithm\n",
    "results in greater tree diversity, which (again) trades a higher bias for a lower variance,\n",
    "generally yielding an overall better model. "
   ]
  },
  {
   "cell_type": "code",
   "execution_count": 47,
   "metadata": {},
   "outputs": [
    {
     "data": {
      "text/plain": [
       "RandomForestClassifier(max_depth=10, n_estimators=30)"
      ]
     },
     "execution_count": 47,
     "metadata": {},
     "output_type": "execute_result"
    }
   ],
   "source": [
    "#Random Forest Model\n",
    "rf_clf = ensemble.RandomForestClassifier(n_estimators=30, \n",
    "                                         criterion='gini', \n",
    "                                         max_depth=10, \n",
    "                                         max_features='auto') # a random subset of features, if set as 'auto': max_features=sqrt(n_features)\n",
    "                                                                       \n",
    "rf_clf.fit(X_train, y_train)"
   ]
  },
  {
   "cell_type": "code",
   "execution_count": 48,
   "metadata": {},
   "outputs": [
    {
     "name": "stdout",
     "output_type": "stream",
     "text": [
      "train_acc: 0.95 \n",
      " test_acc: 0.8266666666666667\n"
     ]
    }
   ],
   "source": [
    "print('train_acc:', rf_clf.score(X_train, y_train), \n",
    "      '\\n test_acc:', rf_clf.score(X_test, y_test))"
   ]
  },
  {
   "cell_type": "code",
   "execution_count": 49,
   "metadata": {},
   "outputs": [
    {
     "data": {
      "image/png": "[encoded data removed]",
      "text/plain": [
       "<Figure size 432x288 with 1 Axes>"
      ]
     },
     "metadata": {
      "needs_background": "light"
     },
     "output_type": "display_data"
    }
   ],
   "source": [
    "#max_depth\n",
    "depth_range = range(1,20)\n",
    "train_accuracy = []\n",
    "test_accuracy = []\n",
    "\n",
    "for d in depth_range:\n",
    "    rf_clf = ensemble.RandomForestClassifier(n_estimators =30, \n",
    "                                             criterion ='gini', \n",
    "                                             max_depth = d, \n",
    "                                             max_features = 4)\n",
    "    rf_clf.fit(X_train, y_train) \n",
    "    train_accuracy.append(rf_clf.score(X_train, y_train))\n",
    "    test_accuracy.append(rf_clf.score(X_test, y_test))\n",
    "    \n",
    "#Plot the train & test accuracy\n",
    "plt.plot(depth_range, train_accuracy, 'bo-', label ='training accuracy')\n",
    "plt.plot(depth_range, test_accuracy, 'ro-', label = 'testing accuracy')\n",
    "\n",
    "plt.xlabel('max_depth', fontsize='x-large')\n",
    "plt.ylabel('Accuracy', fontsize='x-large')\n",
    "\n",
    "plt.legend(loc='best', shadow=True, fontsize='x-large')\n",
    "plt.show()"
   ]
  },
  {
   "cell_type": "code",
   "execution_count": 50,
   "metadata": {
    "scrolled": true
   },
   "outputs": [
    {
     "data": {
      "image/png": "[encoded data removed]",
      "text/plain": [
       "<Figure size 432x288 with 1 Axes>"
      ]
     },
     "metadata": {
      "needs_background": "light"
     },
     "output_type": "display_data"
    }
   ],
   "source": [
    "#n_estimators\n",
    "n_range = range(10, 100, 10) \n",
    "train_accuracy = []\n",
    "test_accuracy = []\n",
    "\n",
    "for n in n_range:\n",
    "    rf_clf = ensemble.RandomForestClassifier(n_estimators =n, \n",
    "                                             criterion ='gini', \n",
    "                                             max_depth = 10, \n",
    "                                             max_features =4)\n",
    "    rf_clf.fit(X_train, y_train) \n",
    "    train_accuracy.append(rf_clf.score(X_train, y_train))\n",
    "    test_accuracy.append(rf_clf.score(X_test, y_test))\n",
    "    \n",
    "#Plot the train & test accuracy\n",
    "plt.plot(n_range, train_accuracy, 'bo-', label ='training accuracy')\n",
    "plt.plot(n_range, test_accuracy, 'ro-', label = 'testing accuracy')\n",
    "\n",
    "plt.xlabel('n_estimators', fontsize='x-large')\n",
    "plt.ylabel('Accuracy', fontsize='x-large')\n",
    "\n",
    "plt.legend(loc='best', shadow=True, fontsize='x-large')\n",
    "plt.show()"
   ]
  },
  {
   "cell_type": "code",
   "execution_count": 51,
   "metadata": {
    "scrolled": true
   },
   "outputs": [
    {
     "data": {
      "image/png": "[encoded data removed]",
      "text/plain": [
       "<Figure size 432x288 with 1 Axes>"
      ]
     },
     "metadata": {
      "needs_background": "light"
     },
     "output_type": "display_data"
    }
   ],
   "source": [
    "#max_features\n",
    "f_range = range(2,16)\n",
    "train_accuracy = []\n",
    "test_accuracy = []\n",
    "\n",
    "for f in f_range:\n",
    "    rf_clf = ensemble.RandomForestClassifier(n_estimators =30, \n",
    "                                             criterion ='gini', \n",
    "                                             max_depth = 10, \n",
    "                                             max_features =f)\n",
    "    rf_clf.fit(X_train, y_train) \n",
    "    train_accuracy.append(rf_clf.score(X_train, y_train))\n",
    "    test_accuracy.append(rf_clf.score(X_test, y_test))\n",
    "    \n",
    "#Plot the train & test accuracy\n",
    "plt.plot(f_range, train_accuracy, 'bo-', label ='training accuracy')\n",
    "plt.plot(f_range, test_accuracy, 'ro-', label = 'testing accuracy')\n",
    "\n",
    "plt.xlabel('max_features', fontsize='x-large')\n",
    "plt.ylabel('Accuracy', fontsize='x-large')\n",
    "\n",
    "plt.legend(loc='best', shadow=True, fontsize='x-large')\n",
    "plt.show()"
   ]
  },
  {
   "cell_type": "code",
   "execution_count": 52,
   "metadata": {},
   "outputs": [
    {
     "data": {
      "text/plain": [
       "array([0.0674125 , 0.02862864, 0.01374706, 0.01783069, 0.0008575 ,\n",
       "       0.07506074, 0.04327017, 0.0067908 , 0.03614904, 0.06068656,\n",
       "       0.07863703, 0.3818292 , 0.01803841, 0.09875134, 0.02002977,\n",
       "       0.05228054])"
      ]
     },
     "execution_count": 52,
     "metadata": {},
     "output_type": "execute_result"
    }
   ],
   "source": [
    "rf_clf.feature_importances_"
   ]
  },
  {
   "cell_type": "code",
   "execution_count": 53,
   "metadata": {},
   "outputs": [
    {
     "data": {
      "text/html": [
       "<div>\n",
       "<style scoped>\n",
       "    .dataframe tbody tr th:only-of-type {\n",
       "        vertical-align: middle;\n",
       "    }\n",
       "\n",
       "    .dataframe tbody tr th {\n",
       "        vertical-align: top;\n",
       "    }\n",
       "\n",
       "    .dataframe thead th {\n",
       "        text-align: right;\n",
       "    }\n",
       "</style>\n",
       "<table border=\"1\" class=\"dataframe\">\n",
       "  <thead>\n",
       "    <tr style=\"text-align: right;\">\n",
       "      <th></th>\n",
       "      <th>feature</th>\n",
       "      <th>importance</th>\n",
       "    </tr>\n",
       "  </thead>\n",
       "  <tbody>\n",
       "    <tr>\n",
       "      <th>11</th>\n",
       "      <td>duration</td>\n",
       "      <td>0.381829</td>\n",
       "    </tr>\n",
       "    <tr>\n",
       "      <th>13</th>\n",
       "      <td>pdays</td>\n",
       "      <td>0.098751</td>\n",
       "    </tr>\n",
       "    <tr>\n",
       "      <th>10</th>\n",
       "      <td>month</td>\n",
       "      <td>0.078637</td>\n",
       "    </tr>\n",
       "    <tr>\n",
       "      <th>5</th>\n",
       "      <td>balance</td>\n",
       "      <td>0.075061</td>\n",
       "    </tr>\n",
       "    <tr>\n",
       "      <th>0</th>\n",
       "      <td>age</td>\n",
       "      <td>0.067413</td>\n",
       "    </tr>\n",
       "    <tr>\n",
       "      <th>9</th>\n",
       "      <td>day</td>\n",
       "      <td>0.060687</td>\n",
       "    </tr>\n",
       "    <tr>\n",
       "      <th>15</th>\n",
       "      <td>poutcome</td>\n",
       "      <td>0.052281</td>\n",
       "    </tr>\n",
       "    <tr>\n",
       "      <th>6</th>\n",
       "      <td>housing</td>\n",
       "      <td>0.043270</td>\n",
       "    </tr>\n",
       "    <tr>\n",
       "      <th>8</th>\n",
       "      <td>contact</td>\n",
       "      <td>0.036149</td>\n",
       "    </tr>\n",
       "    <tr>\n",
       "      <th>1</th>\n",
       "      <td>job</td>\n",
       "      <td>0.028629</td>\n",
       "    </tr>\n",
       "    <tr>\n",
       "      <th>14</th>\n",
       "      <td>previous</td>\n",
       "      <td>0.020030</td>\n",
       "    </tr>\n",
       "    <tr>\n",
       "      <th>12</th>\n",
       "      <td>campaign</td>\n",
       "      <td>0.018038</td>\n",
       "    </tr>\n",
       "    <tr>\n",
       "      <th>3</th>\n",
       "      <td>education</td>\n",
       "      <td>0.017831</td>\n",
       "    </tr>\n",
       "    <tr>\n",
       "      <th>2</th>\n",
       "      <td>marital</td>\n",
       "      <td>0.013747</td>\n",
       "    </tr>\n",
       "    <tr>\n",
       "      <th>7</th>\n",
       "      <td>loan</td>\n",
       "      <td>0.006791</td>\n",
       "    </tr>\n",
       "    <tr>\n",
       "      <th>4</th>\n",
       "      <td>default</td>\n",
       "      <td>0.000857</td>\n",
       "    </tr>\n",
       "    <tr>\n",
       "      <th>16</th>\n",
       "      <td>deposit</td>\n",
       "      <td>NaN</td>\n",
       "    </tr>\n",
       "  </tbody>\n",
       "</table>\n",
       "</div>"
      ],
      "text/plain": [
       "      feature  importance\n",
       "11   duration    0.381829\n",
       "13      pdays    0.098751\n",
       "10      month    0.078637\n",
       "5     balance    0.075061\n",
       "0         age    0.067413\n",
       "9         day    0.060687\n",
       "15   poutcome    0.052281\n",
       "6     housing    0.043270\n",
       "8     contact    0.036149\n",
       "1         job    0.028629\n",
       "14   previous    0.020030\n",
       "12   campaign    0.018038\n",
       "3   education    0.017831\n",
       "2     marital    0.013747\n",
       "7        loan    0.006791\n",
       "4     default    0.000857\n",
       "16    deposit         NaN"
      ]
     },
     "execution_count": 53,
     "metadata": {},
     "output_type": "execute_result"
    }
   ],
   "source": [
    "# Feature Importance\n",
    "pd.concat((pd.DataFrame(bank.columns, columns = ['feature']), \n",
    "           pd.DataFrame(rf_clf.feature_importances_, columns = ['importance'])), \n",
    "          axis = 1).sort_values(by='importance', ascending = False)"
   ]
  },
  {
   "cell_type": "markdown",
   "metadata": {},
   "source": [
    "#### 1.4 Boosting"
   ]
  },
  {
   "cell_type": "code",
   "execution_count": 54,
   "metadata": {},
   "outputs": [
    {
     "data": {
      "text/plain": [
       "AdaBoostClassifier(base_estimator=DecisionTreeClassifier(max_depth=1),\n",
       "                   learning_rate=0.5, n_estimators=200)"
      ]
     },
     "execution_count": 54,
     "metadata": {},
     "output_type": "execute_result"
    }
   ],
   "source": [
    "#AdaBoost Classifier                                           \n",
    "ada_clf = ensemble.AdaBoostClassifier(\n",
    "    tree.DecisionTreeClassifier(max_depth=1), # A Decision Stump: a tree composed of a single decision node plus two leaf nodes.\n",
    "     n_estimators=200,\n",
    "    learning_rate=0.5)\n",
    "ada_clf.fit(X_train, y_train)"
   ]
  },
  {
   "cell_type": "code",
   "execution_count": 55,
   "metadata": {},
   "outputs": [
    {
     "name": "stdout",
     "output_type": "stream",
     "text": [
      "train_acc: 0.845 \n",
      " test_acc: 0.8216666666666667\n"
     ]
    }
   ],
   "source": [
    "print('train_acc:', ada_clf.score(X_train, y_train), \n",
    "      '\\n test_acc:', ada_clf.score(X_test, y_test))"
   ]
  },
  {
   "cell_type": "markdown",
   "metadata": {},
   "source": [
    "You can type `conda install -c anaconda py-xgboost` in Anaconda terminal to install eXtreme Gradient Boosting (`xgboost`) package."
   ]
  },
  {
   "cell_type": "code",
   "execution_count": 56,
   "metadata": {},
   "outputs": [],
   "source": [
    "#conda install -c conda-forge xgboost"
   ]
  },
  {
   "cell_type": "code",
   "execution_count": 57,
   "metadata": {},
   "outputs": [
    {
     "name": "stdout",
     "output_type": "stream",
     "text": [
      "[21:58:29] WARNING: ..\\src\\learner.cc:1061: Starting in XGBoost 1.3.0, the default evaluation metric used with the objective 'binary:logistic' was changed from 'error' to 'logloss'. Explicitly set eval_metric if you'd like to restore the old behavior.\n",
      "train_acc: 0.9991666666666666 \n",
      " test_acc: 0.8416666666666667\n"
     ]
    },
    {
     "name": "stderr",
     "output_type": "stream",
     "text": [
      "C:\\ProgramData\\Anaconda3\\lib\\site-packages\\xgboost\\sklearn.py:888: UserWarning: The use of label encoder in XGBClassifier is deprecated and will be removed in a future release. To remove this warning, do the following: 1) Pass option use_label_encoder=False when constructing XGBClassifier object; and 2) Encode your labels (y) as integers starting with 0, i.e. 0, 1, 2, ..., [num_class - 1].\n",
      "  warnings.warn(label_encoder_deprecation_msg, UserWarning)\n"
     ]
    }
   ],
   "source": [
    "#Extreme Gradient Boosting\n",
    "import xgboost\n",
    "xgb_clf = xgboost.XGBClassifier()\n",
    "xgb_clf.fit(X_train, y_train)\n",
    "\n",
    "print('train_acc:', xgb_clf.score(X_train, y_train), \n",
    "      '\\n test_acc:', xgb_clf.score(X_test, y_test))"
   ]
  },
  {
   "cell_type": "markdown",
   "metadata": {},
   "source": [
    "### 2. Regression\n",
    "We will be using the supermarket data for regression task. We take a small sample (3000 records) to train the model as ensemble model takes longer time to train. Feel free to practice at home using the full dataset. "
   ]
  },
  {
   "cell_type": "code",
   "execution_count": 58,
   "metadata": {
    "scrolled": true
   },
   "outputs": [
    {
     "name": "stdout",
     "output_type": "stream",
     "text": [
      "   Item_Weight Item_Fat_Content  Item_Visibility              Item_Type  \\\n",
      "0         9.30          Low Fat         0.016047                  Dairy   \n",
      "1         5.92          Regular         0.019278            Soft Drinks   \n",
      "2        17.50          Low Fat         0.016760                   Meat   \n",
      "3        19.20          Regular         0.000000  Fruits and Vegetables   \n",
      "4         8.93          Low Fat         0.000000              Household   \n",
      "\n",
      "   Item_MRP Outlet_Identifier  Outlet_Establishment_Year Outlet_Size  \\\n",
      "0  249.8092            OUT049                       1999      Medium   \n",
      "1   48.2692            OUT018                       2009      Medium   \n",
      "2  141.6180            OUT049                       1999      Medium   \n",
      "3  182.0950            OUT010                       1998         NaN   \n",
      "4   53.8614            OUT013                       1987        High   \n",
      "\n",
      "  Outlet_Location_Type        Outlet_Type  Item_Outlet_Sales  \n",
      "0               Tier 1  Supermarket Type1          3735.1380  \n",
      "1               Tier 3  Supermarket Type2           443.4228  \n",
      "2               Tier 1  Supermarket Type1          2097.2700  \n",
      "3               Tier 3      Grocery Store           732.3800  \n",
      "4               Tier 3  Supermarket Type1           994.7052  \n",
      "Item_Fat_Content :\n",
      "Index(['Low Fat', 'Regular'], dtype='object')\n",
      "Item_Type :\n",
      "Index(['Baking Goods', 'Breads', 'Breakfast', 'Canned', 'Dairy',\n",
      "       'Frozen Foods', 'Fruits and Vegetables', 'Hard Drinks',\n",
      "       'Health and Hygiene', 'Household', 'Meat', 'Others', 'Seafood',\n",
      "       'Snack Foods', 'Soft Drinks', 'Starchy Foods'],\n",
      "      dtype='object')\n",
      "Outlet_Identifier :\n",
      "Index(['OUT010', 'OUT013', 'OUT017', 'OUT018', 'OUT019', 'OUT027', 'OUT035',\n",
      "       'OUT045', 'OUT046', 'OUT049'],\n",
      "      dtype='object')\n",
      "Outlet_Size :\n",
      "Index(['High', 'Medium', 'Small'], dtype='object')\n",
      "Outlet_Location_Type :\n",
      "Index(['Tier 1', 'Tier 2', 'Tier 3'], dtype='object')\n",
      "Outlet_Type :\n",
      "Index(['Grocery Store', 'Supermarket Type1', 'Supermarket Type2',\n",
      "       'Supermarket Type3'],\n",
      "      dtype='object')\n",
      "   Item_Weight  Item_Fat_Content  Item_Visibility  Item_Type  Item_MRP  \\\n",
      "0         9.30                 0         0.016047          4  249.8092   \n",
      "1         5.92                 1         0.019278         14   48.2692   \n",
      "2        17.50                 0         0.016760         10  141.6180   \n",
      "3        19.20                 1         0.000000          6  182.0950   \n",
      "4         8.93                 0         0.000000          9   53.8614   \n",
      "\n",
      "   Outlet_Identifier  Outlet_Establishment_Year  Outlet_Size  \\\n",
      "0                  9                       1999            1   \n",
      "1                  3                       2009            1   \n",
      "2                  9                       1999            1   \n",
      "3                  0                       1998           -1   \n",
      "4                  1                       1987            0   \n",
      "\n",
      "   Outlet_Location_Type  Outlet_Type  Item_Outlet_Sales  \n",
      "0                     0            1          3735.1380  \n",
      "1                     2            2           443.4228  \n",
      "2                     0            1          2097.2700  \n",
      "3                     2            0           732.3800  \n",
      "4                     2            1           994.7052  \n"
     ]
    }
   ],
   "source": [
    "# Loading the data\n",
    "supermarket = pd.read_csv('supermarket.csv')\n",
    "print(supermarket.head())\n",
    "\n",
    "# Encode the categorical data into numbers\n",
    "supermarket_cat = supermarket.select_dtypes(['object']).copy()\n",
    "for col in supermarket_cat:\n",
    "    print(col, ':')\n",
    "    codes, uniques = pd.factorize(supermarket_cat[col], sort=True)\n",
    "    supermarket[col]=codes\n",
    "    print(uniques)\n",
    "print(supermarket.head())\n",
    "\n",
    "# Sample a small subset of the data\n",
    "supermarket = supermarket.sample(3000, random_state =5)\n",
    "\n",
    "\n",
    "# Set the \"Sales\" as target/model output and the rest features as model inputs\n",
    "y = supermarket['Item_Outlet_Sales']\n",
    "X = supermarket.drop(['Item_Outlet_Sales'], axis=1)\n",
    "\n",
    "# Split the data into training and testing data\n",
    "X_train, X_test, y_train, y_test = train_test_split(X, y, test_size=0.2, random_state=2)\n",
    "\n",
    "#Sacaling the data into a smaller range (-3 to +3)\n",
    "mean = X_train.mean()\n",
    "std = X_train.std()\n",
    "\n",
    "X_train = (X_train - mean) / std\n",
    "X_test = (X_test - mean) / std"
   ]
  },
  {
   "cell_type": "markdown",
   "metadata": {},
   "source": [
    "#### 2.1 Bagging: using Random Forest as an example"
   ]
  },
  {
   "cell_type": "code",
   "execution_count": 59,
   "metadata": {},
   "outputs": [
    {
     "data": {
      "text/plain": [
       "GridSearchCV(cv=3, estimator=RandomForestRegressor(), n_jobs=-1,\n",
       "             param_grid={'max_depth': [3, 9, 27],\n",
       "                         'n_estimators': [10, 100, 1000]},\n",
       "             scoring='neg_mean_squared_error')"
      ]
     },
     "execution_count": 59,
     "metadata": {},
     "output_type": "execute_result"
    }
   ],
   "source": [
    "# Use GridSearch to find the best combination of model hyperparameters\n",
    "rf_reg = ensemble.RandomForestRegressor()\n",
    "\n",
    "param_grid = {\"n_estimators\" : [10,100,1000] , \n",
    "              'max_depth' : [3,9,27]}\n",
    "\n",
    "gs_reg = GridSearchCV(rf_reg, param_grid=param_grid, scoring='neg_mean_squared_error', cv= 3, n_jobs=-1)\n",
    "\n",
    "gs_reg.fit(X_train, y_train)\n"
   ]
  },
  {
   "cell_type": "code",
   "execution_count": 60,
   "metadata": {},
   "outputs": [
    {
     "name": "stdout",
     "output_type": "stream",
     "text": [
      "-1021555.0188077441\n",
      "{'max_depth': 9, 'n_estimators': 1000}\n",
      "RandomForestRegressor(max_depth=9, n_estimators=1000)\n"
     ]
    }
   ],
   "source": [
    "print(gs_reg.best_score_)\n",
    "print(gs_reg.best_params_)\n",
    "print(gs_reg.best_estimator_)"
   ]
  },
  {
   "cell_type": "code",
   "execution_count": 61,
   "metadata": {},
   "outputs": [
    {
     "name": "stdout",
     "output_type": "stream",
     "text": [
      "train_mae: 557.8406602206277 \n",
      " test_mae: 699.594825555326\n"
     ]
    }
   ],
   "source": [
    "#Random Forest Model\n",
    "rf_reg = gs_reg.best_estimator_\n",
    "rf_reg.fit(X_train, y_train)\n",
    "\n",
    "print('train_mae:', mean_absolute_error(rf_reg.predict(X_train), y_train), \n",
    "      '\\n test_mae:', mean_absolute_error(rf_reg.predict(X_test), y_test))"
   ]
  },
  {
   "cell_type": "code",
   "execution_count": 62,
   "metadata": {},
   "outputs": [
    {
     "data": {
      "text/plain": [
       "GridSearchCV(cv=3, estimator=RandomForestRegressor(), n_jobs=-1,\n",
       "             param_grid={'max_depth': [5, 7, 9],\n",
       "                         'n_estimators': [800, 900, 1000]},\n",
       "             scoring='neg_mean_squared_error')"
      ]
     },
     "execution_count": 62,
     "metadata": {},
     "output_type": "execute_result"
    }
   ],
   "source": [
    "# Use GridSearch to further tine tune on the best hyperparameters\n",
    "rf_reg = ensemble.RandomForestRegressor()\n",
    "\n",
    "param_grid = {\"n_estimators\" : [800, 900, 1000], \n",
    "              'max_depth' : [5,7,9]} \n",
    "\n",
    "gs_reg2 = GridSearchCV(rf_reg, param_grid=param_grid, scoring='neg_mean_squared_error', cv= 3, n_jobs=-1)\n",
    "\n",
    "gs_reg2.fit(X_train, y_train)"
   ]
  },
  {
   "cell_type": "code",
   "execution_count": 63,
   "metadata": {},
   "outputs": [
    {
     "name": "stdout",
     "output_type": "stream",
     "text": [
      "-987453.6264877693\n",
      "{'max_depth': 5, 'n_estimators': 1000}\n",
      "RandomForestRegressor(max_depth=5, n_estimators=1000)\n"
     ]
    }
   ],
   "source": [
    "print(gs_reg2.best_score_)\n",
    "print(gs_reg2.best_params_)\n",
    "print(gs_reg2.best_estimator_)"
   ]
  },
  {
   "cell_type": "code",
   "execution_count": 64,
   "metadata": {},
   "outputs": [
    {
     "data": {
      "text/plain": [
       "RandomForestRegressor(max_depth=5, n_estimators=1000)"
      ]
     },
     "execution_count": 64,
     "metadata": {},
     "output_type": "execute_result"
    }
   ],
   "source": [
    "#Final Random Forest Model\n",
    "rf_reg = gs_reg2.best_estimator_\n",
    "rf_reg.fit(X_train, y_train)"
   ]
  },
  {
   "cell_type": "code",
   "execution_count": 65,
   "metadata": {},
   "outputs": [
    {
     "name": "stdout",
     "output_type": "stream",
     "text": [
      "train_mae: 693.825627555851 \n",
      " test_mae: 694.4845832467336\n"
     ]
    }
   ],
   "source": [
    "print('train_mae:', mean_absolute_error(rf_reg.predict(X_train), y_train), \n",
    "      '\\n test_mae:', mean_absolute_error(rf_reg.predict(X_test), y_test))"
   ]
  },
  {
   "cell_type": "code",
   "execution_count": 66,
   "metadata": {},
   "outputs": [
    {
     "data": {
      "text/html": [
       "<div>\n",
       "<style scoped>\n",
       "    .dataframe tbody tr th:only-of-type {\n",
       "        vertical-align: middle;\n",
       "    }\n",
       "\n",
       "    .dataframe tbody tr th {\n",
       "        vertical-align: top;\n",
       "    }\n",
       "\n",
       "    .dataframe thead th {\n",
       "        text-align: right;\n",
       "    }\n",
       "</style>\n",
       "<table border=\"1\" class=\"dataframe\">\n",
       "  <thead>\n",
       "    <tr style=\"text-align: right;\">\n",
       "      <th></th>\n",
       "      <th>feature</th>\n",
       "      <th>importance</th>\n",
       "    </tr>\n",
       "  </thead>\n",
       "  <tbody>\n",
       "    <tr>\n",
       "      <th>4</th>\n",
       "      <td>Item_MRP</td>\n",
       "      <td>0.567025</td>\n",
       "    </tr>\n",
       "    <tr>\n",
       "      <th>9</th>\n",
       "      <td>Outlet_Type</td>\n",
       "      <td>0.379012</td>\n",
       "    </tr>\n",
       "    <tr>\n",
       "      <th>6</th>\n",
       "      <td>Outlet_Establishment_Year</td>\n",
       "      <td>0.037601</td>\n",
       "    </tr>\n",
       "    <tr>\n",
       "      <th>2</th>\n",
       "      <td>Item_Visibility</td>\n",
       "      <td>0.008467</td>\n",
       "    </tr>\n",
       "    <tr>\n",
       "      <th>3</th>\n",
       "      <td>Item_Type</td>\n",
       "      <td>0.003187</td>\n",
       "    </tr>\n",
       "    <tr>\n",
       "      <th>0</th>\n",
       "      <td>Item_Weight</td>\n",
       "      <td>0.002139</td>\n",
       "    </tr>\n",
       "    <tr>\n",
       "      <th>1</th>\n",
       "      <td>Item_Fat_Content</td>\n",
       "      <td>0.001052</td>\n",
       "    </tr>\n",
       "    <tr>\n",
       "      <th>5</th>\n",
       "      <td>Outlet_Identifier</td>\n",
       "      <td>0.001025</td>\n",
       "    </tr>\n",
       "    <tr>\n",
       "      <th>7</th>\n",
       "      <td>Outlet_Size</td>\n",
       "      <td>0.000357</td>\n",
       "    </tr>\n",
       "    <tr>\n",
       "      <th>8</th>\n",
       "      <td>Outlet_Location_Type</td>\n",
       "      <td>0.000136</td>\n",
       "    </tr>\n",
       "    <tr>\n",
       "      <th>10</th>\n",
       "      <td>Item_Outlet_Sales</td>\n",
       "      <td>NaN</td>\n",
       "    </tr>\n",
       "  </tbody>\n",
       "</table>\n",
       "</div>"
      ],
      "text/plain": [
       "                      feature  importance\n",
       "4                    Item_MRP    0.567025\n",
       "9                 Outlet_Type    0.379012\n",
       "6   Outlet_Establishment_Year    0.037601\n",
       "2             Item_Visibility    0.008467\n",
       "3                   Item_Type    0.003187\n",
       "0                 Item_Weight    0.002139\n",
       "1            Item_Fat_Content    0.001052\n",
       "5           Outlet_Identifier    0.001025\n",
       "7                 Outlet_Size    0.000357\n",
       "8        Outlet_Location_Type    0.000136\n",
       "10          Item_Outlet_Sales         NaN"
      ]
     },
     "execution_count": 66,
     "metadata": {},
     "output_type": "execute_result"
    }
   ],
   "source": [
    "# Feature Importance\n",
    "pd.concat((pd.DataFrame(supermarket.columns, columns = ['feature']), \n",
    "           pd.DataFrame(rf_reg.feature_importances_, columns = ['importance'])), \n",
    "          axis = 1).sort_values(by='importance', ascending = False)"
   ]
  },
  {
   "cell_type": "markdown",
   "metadata": {},
   "source": [
    "#### 2.2. Boosting"
   ]
  },
  {
   "cell_type": "code",
   "execution_count": 67,
   "metadata": {},
   "outputs": [
    {
     "data": {
      "text/plain": [
       "GradientBoostingRegressor(learning_rate=0.001, n_estimators=8000)"
      ]
     },
     "execution_count": 67,
     "metadata": {},
     "output_type": "execute_result"
    }
   ],
   "source": [
    "#Gradient Boosting\n",
    "gb_reg = ensemble.GradientBoostingRegressor(n_estimators = 8000, \n",
    "                                            learning_rate=0.001\n",
    "                                          )\n",
    "                                           \n",
    "gb_reg.fit(X_train, y_train)"
   ]
  },
  {
   "cell_type": "code",
   "execution_count": 68,
   "metadata": {},
   "outputs": [
    {
     "name": "stdout",
     "output_type": "stream",
     "text": [
      "train_mae: 666.6661906906122 \n",
      " test_mae: 689.4336398552792\n"
     ]
    }
   ],
   "source": [
    "print('train_mae:', mean_absolute_error(gb_reg.predict(X_train), y_train), \n",
    "      '\\n test_mae:', mean_absolute_error(gb_reg.predict(X_test), y_test))"
   ]
  },
  {
   "cell_type": "code",
   "execution_count": 71,
   "metadata": {},
   "outputs": [
    {
     "name": "stdout",
     "output_type": "stream",
     "text": [
      "train_mae: 237.27989848696708 \n",
      " test_mae: 769.0142969849599\n"
     ]
    }
   ],
   "source": [
    "#Extreme Gradient Boosting\n",
    "import xgboost\n",
    "xgb_reg = xgboost.XGBRegressor()\n",
    "xgb_reg.fit(X_train, y_train)\n",
    "\n",
    "print('train_mae:', mean_absolute_error(xgb_reg.predict(X_train), y_train), \n",
    "      '\\n test_mae:', mean_absolute_error(xgb_reg.predict(X_test), y_test))"
   ]
  },
  {
   "cell_type": "code",
   "execution_count": 72,
   "metadata": {},
   "outputs": [
    {
     "data": {
      "text/html": [
       "<div>\n",
       "<style scoped>\n",
       "    .dataframe tbody tr th:only-of-type {\n",
       "        vertical-align: middle;\n",
       "    }\n",
       "\n",
       "    .dataframe tbody tr th {\n",
       "        vertical-align: top;\n",
       "    }\n",
       "\n",
       "    .dataframe thead th {\n",
       "        text-align: right;\n",
       "    }\n",
       "</style>\n",
       "<table border=\"1\" class=\"dataframe\">\n",
       "  <thead>\n",
       "    <tr style=\"text-align: right;\">\n",
       "      <th></th>\n",
       "      <th>feature</th>\n",
       "      <th>importance</th>\n",
       "    </tr>\n",
       "  </thead>\n",
       "  <tbody>\n",
       "    <tr>\n",
       "      <th>9</th>\n",
       "      <td>Outlet_Type</td>\n",
       "      <td>0.770726</td>\n",
       "    </tr>\n",
       "    <tr>\n",
       "      <th>4</th>\n",
       "      <td>Item_MRP</td>\n",
       "      <td>0.074351</td>\n",
       "    </tr>\n",
       "    <tr>\n",
       "      <th>6</th>\n",
       "      <td>Outlet_Establishment_Year</td>\n",
       "      <td>0.047568</td>\n",
       "    </tr>\n",
       "    <tr>\n",
       "      <th>7</th>\n",
       "      <td>Outlet_Size</td>\n",
       "      <td>0.018507</td>\n",
       "    </tr>\n",
       "    <tr>\n",
       "      <th>8</th>\n",
       "      <td>Outlet_Location_Type</td>\n",
       "      <td>0.018477</td>\n",
       "    </tr>\n",
       "    <tr>\n",
       "      <th>5</th>\n",
       "      <td>Outlet_Identifier</td>\n",
       "      <td>0.017783</td>\n",
       "    </tr>\n",
       "    <tr>\n",
       "      <th>2</th>\n",
       "      <td>Item_Visibility</td>\n",
       "      <td>0.016868</td>\n",
       "    </tr>\n",
       "    <tr>\n",
       "      <th>3</th>\n",
       "      <td>Item_Type</td>\n",
       "      <td>0.015076</td>\n",
       "    </tr>\n",
       "    <tr>\n",
       "      <th>0</th>\n",
       "      <td>Item_Weight</td>\n",
       "      <td>0.013402</td>\n",
       "    </tr>\n",
       "    <tr>\n",
       "      <th>1</th>\n",
       "      <td>Item_Fat_Content</td>\n",
       "      <td>0.007241</td>\n",
       "    </tr>\n",
       "  </tbody>\n",
       "</table>\n",
       "</div>"
      ],
      "text/plain": [
       "                     feature  importance\n",
       "9                Outlet_Type    0.770726\n",
       "4                   Item_MRP    0.074351\n",
       "6  Outlet_Establishment_Year    0.047568\n",
       "7                Outlet_Size    0.018507\n",
       "8       Outlet_Location_Type    0.018477\n",
       "5          Outlet_Identifier    0.017783\n",
       "2            Item_Visibility    0.016868\n",
       "3                  Item_Type    0.015076\n",
       "0                Item_Weight    0.013402\n",
       "1           Item_Fat_Content    0.007241"
      ]
     },
     "execution_count": 72,
     "metadata": {},
     "output_type": "execute_result"
    }
   ],
   "source": [
    "# Feature Importance\n",
    "pd.concat((pd.DataFrame(X_train.columns, columns = ['feature']), \n",
    "           pd.DataFrame(xgb_reg.feature_importances_, columns = ['importance'])), \n",
    "          axis = 1).sort_values(by='importance', ascending = False)"
   ]
  },
  {
   "cell_type": "code",
   "execution_count": null,
   "metadata": {},
   "outputs": [],
   "source": []
  }
 ],
 "metadata": {
  "kernelspec": {
   "display_name": "Python 3",
   "language": "python",
   "name": "python3"
  },
  "language_info": {
   "codemirror_mode": {
    "name": "ipython",
    "version": 3
   },
   "file_extension": ".py",
   "mimetype": "text/x-python",
   "name": "python",
   "nbconvert_exporter": "python",
   "pygments_lexer": "ipython3",
   "version": "3.8.8"
  }
 },
 "nbformat": 4,
 "nbformat_minor": 2
}
