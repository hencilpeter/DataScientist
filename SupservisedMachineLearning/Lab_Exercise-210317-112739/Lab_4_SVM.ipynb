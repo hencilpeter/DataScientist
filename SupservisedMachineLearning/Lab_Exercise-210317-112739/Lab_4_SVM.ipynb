{
 "cells": [
  {
   "cell_type": "markdown",
   "metadata": {},
   "source": [
    "<table class=\"table table-bordered\">\n",
    "    <tr>\n",
    "        <th style=\"text-align:center;\"><h1>Supervised Machine Learning</h1><h2>Lab 4 - Support Vector Machine </h2></th>\n",
    "    </tr>\n",
    "</table>"
   ]
  },
  {
   "cell_type": "code",
   "execution_count": 43,
   "metadata": {},
   "outputs": [],
   "source": [
    "# Import the requried packages\n",
    "import numpy as np\n",
    "import pandas as pd\n",
    "\n",
    "import matplotlib.pyplot as plt\n",
    "%matplotlib inline\n",
    "\n",
    "from sklearn.preprocessing import StandardScaler\n",
    "from sklearn.model_selection import train_test_split\n",
    "from sklearn import linear_model, neighbors, tree, svm, ensemble\n",
    "from sklearn.model_selection import GridSearchCV\n",
    "from sklearn.metrics import mean_squared_error, mean_absolute_error, confusion_matrix, classification_report\n",
    "from sklearn.model_selection import cross_val_score, cross_validate"
   ]
  },
  {
   "cell_type": "markdown",
   "metadata": {},
   "source": [
    "### 1.Classification"
   ]
  },
  {
   "cell_type": "markdown",
   "metadata": {},
   "source": [
    "We will be using the bank marketing campaign data for classification task. We take a small sample (3000 records) to train the model as SVM model takes longer time to train. Feel free to practice at home using the full dataset. "
   ]
  },
  {
   "cell_type": "code",
   "execution_count": 44,
   "metadata": {
    "scrolled": true
   },
   "outputs": [
    {
     "name": "stdout",
     "output_type": "stream",
     "text": [
      "   age         job  marital  education default  balance housing loan  contact  \\\n",
      "0   59      admin.  married  secondary      no     2343     yes   no  unknown   \n",
      "1   56      admin.  married  secondary      no       45      no   no  unknown   \n",
      "2   41  technician  married  secondary      no     1270     yes   no  unknown   \n",
      "3   55    services  married  secondary      no     2476     yes   no  unknown   \n",
      "4   54      admin.  married   tertiary      no      184      no   no  unknown   \n",
      "\n",
      "   day month  duration  campaign  pdays  previous poutcome deposit  \n",
      "0    5   may      1042         1     -1         0  unknown     yes  \n",
      "1    5   may      1467         1     -1         0  unknown     yes  \n",
      "2    5   may      1389         1     -1         0  unknown     yes  \n",
      "3    5   may       579         1     -1         0  unknown     yes  \n",
      "4    5   may       673         2     -1         0  unknown     yes  \n",
      "job :\n",
      "Index(['admin.', 'blue-collar', 'entrepreneur', 'housemaid', 'management',\n",
      "       'retired', 'self-employed', 'services', 'student', 'technician',\n",
      "       'unemployed', 'unknown'],\n",
      "      dtype='object')\n",
      "marital :\n",
      "Index(['divorced', 'married', 'single'], dtype='object')\n",
      "education :\n",
      "Index(['primary', 'secondary', 'tertiary', 'unknown'], dtype='object')\n",
      "default :\n",
      "Index(['no', 'yes'], dtype='object')\n",
      "housing :\n",
      "Index(['no', 'yes'], dtype='object')\n",
      "loan :\n",
      "Index(['no', 'yes'], dtype='object')\n",
      "contact :\n",
      "Index(['cellular', 'telephone', 'unknown'], dtype='object')\n",
      "month :\n",
      "Index(['apr', 'aug', 'dec', 'feb', 'jan', 'jul', 'jun', 'mar', 'may', 'nov',\n",
      "       'oct', 'sep'],\n",
      "      dtype='object')\n",
      "poutcome :\n",
      "Index(['failure', 'other', 'success', 'unknown'], dtype='object')\n",
      "deposit :\n",
      "Index(['no', 'yes'], dtype='object')\n",
      "   age  job  marital  education  default  balance  housing  loan  contact  \\\n",
      "0   59    0        1          1        0     2343        1     0        2   \n",
      "1   56    0        1          1        0       45        0     0        2   \n",
      "2   41    9        1          1        0     1270        1     0        2   \n",
      "3   55    7        1          1        0     2476        1     0        2   \n",
      "4   54    0        1          2        0      184        0     0        2   \n",
      "\n",
      "   day  month  duration  campaign  pdays  previous  poutcome  deposit  \n",
      "0    5      8      1042         1     -1         0         3        1  \n",
      "1    5      8      1467         1     -1         0         3        1  \n",
      "2    5      8      1389         1     -1         0         3        1  \n",
      "3    5      8       579         1     -1         0         3        1  \n",
      "4    5      8       673         2     -1         0         3        1  \n",
      "\n",
      " samples by target categories:\n",
      "0    1563\n",
      "1    1437\n",
      "Name: deposit, dtype: int64\n"
     ]
    }
   ],
   "source": [
    "# Loading the data\n",
    "bank = pd.read_csv('bank.csv')\n",
    "print(bank.head())\n",
    "# Encode the categorical data into numbers\n",
    "bank_cat = bank.select_dtypes(['object']).copy()\n",
    "for col in bank_cat:\n",
    "    print(col, ':')\n",
    "    codes, uniques = pd.factorize(bank_cat[col], sort=True)\n",
    "    bank[col]=codes\n",
    "    print(uniques)\n",
    "print(bank.head())\n",
    "\n",
    "# Sample a small subset of the data\n",
    "bank = bank.sample(3000, random_state =5)\n",
    "print('\\n samples by target categories:')\n",
    "print(bank.deposit.value_counts())\n",
    "  \n",
    "# Set the \"deposit\" as target/model output and the rest features as model inputs\n",
    "y = bank['deposit']\n",
    "X = bank.drop(['deposit'], axis=1)\n",
    "\n",
    "# Split the data into training and testing data\n",
    "X_train, X_test, y_train, y_test = train_test_split(X, y, test_size=0.2, random_state=2)\n",
    "\n",
    "#Sacaling the data into a smaller range (-3 to +3)\n",
    "mean = X_train.mean()\n",
    "std = X_train.std()\n",
    "\n",
    "X_train = (X_train - mean) / std\n",
    "X_test = (X_test - mean) / std\n"
   ]
  },
  {
   "cell_type": "markdown",
   "metadata": {},
   "source": [
    "#### 1.1 Linear Kernel"
   ]
  },
  {
   "cell_type": "code",
   "execution_count": 45,
   "metadata": {},
   "outputs": [
    {
     "data": {
      "image/png": "[encoded data removed]",
      "text/plain": [
       "<Figure size 432x288 with 1 Axes>"
      ]
     },
     "metadata": {
      "needs_background": "light"
     },
     "output_type": "display_data"
    }
   ],
   "source": [
    "# Find the best C\n",
    "C_range = [0.001, 0.01, 0.1,1,10,100]\n",
    "\n",
    "train_accuracy = []\n",
    "test_accuracy = []\n",
    "\n",
    "for C in C_range:\n",
    "    svm_clf = svm.SVC(kernel=\"linear\", C=C) # also we can use Linear SVC\n",
    "    svm_clf.fit(X_train, y_train) \n",
    "    train_accuracy.append(svm_clf.score(X_train, y_train))\n",
    "    test_accuracy.append(svm_clf.score(X_test, y_test))\n",
    "    \n",
    "#Plot the train & test accuracy\n",
    "plt.plot(np.log10(C_range), train_accuracy, 'bo-', label ='training accuracy')\n",
    "plt.plot(np.log10(C_range), test_accuracy, 'ro-', label = 'testing accuracy')\n",
    "\n",
    "plt.xlabel('log10(C)', fontsize='x-large')\n",
    "plt.ylabel('Accuracy', fontsize='x-large')\n",
    "\n",
    "plt.legend(loc='best', shadow=True, fontsize='x-large')\n",
    "plt.show()"
   ]
  },
  {
   "cell_type": "code",
   "execution_count": 46,
   "metadata": {},
   "outputs": [
    {
     "data": {
      "text/plain": [
       "SVC(C=0.01, kernel='linear')"
      ]
     },
     "execution_count": 46,
     "metadata": {},
     "output_type": "execute_result"
    }
   ],
   "source": [
    "#Final Model\n",
    "svm_clf = svm.SVC(kernel='linear', C=0.01)\n",
    "svm_clf.fit(X_train, y_train)"
   ]
  },
  {
   "cell_type": "code",
   "execution_count": 47,
   "metadata": {},
   "outputs": [
    {
     "name": "stdout",
     "output_type": "stream",
     "text": [
      "train_acc: 0.8066666666666666 \n",
      " test_acc: 0.7983333333333333\n"
     ]
    }
   ],
   "source": [
    "print('train_acc:', svm_clf.score(X_train, y_train), \n",
    "      '\\n test_acc:', svm_clf.score(X_test, y_test))"
   ]
  },
  {
   "cell_type": "markdown",
   "metadata": {},
   "source": [
    "#### 1.2 Polynomial Kernel"
   ]
  },
  {
   "cell_type": "code",
   "execution_count": 48,
   "metadata": {},
   "outputs": [
    {
     "data": {
      "text/plain": [
       "GridSearchCV(cv=5, estimator=SVC(kernel='poly'), n_jobs=-1,\n",
       "             param_grid={'C': [0.001, 0.01, 0.1, 1, 10, 100], 'coef0': [0, 1],\n",
       "                         'degree': range(0, 5)},\n",
       "             scoring='accuracy')"
      ]
     },
     "execution_count": 48,
     "metadata": {},
     "output_type": "execute_result"
    }
   ],
   "source": [
    "# Use GridSearch to find the best combination of model hyperparameters\n",
    "from sklearn.model_selection import GridSearchCV\n",
    "\n",
    "svm_clf = svm.SVC(kernel=\"poly\")\n",
    "\n",
    "param_grid = {\"degree\" : range(0,5), \n",
    "              \"coef0\" : [0,1], #coef0 controls how much the model is influenced by highdegree polynomials versus low-degree polynomials\n",
    "              'C' : [0.001, 0.01, 0.1, 1, 10, 100]}\n",
    "\n",
    "gs_clf = GridSearchCV(svm_clf, param_grid=param_grid, scoring='accuracy', cv= 5, n_jobs=-1)\n",
    "# cv: number of partitions for cross validation\n",
    "# n_jobs: number of jobs to run in parallel, -1 means using all processors\n",
    "\n",
    "gs_clf.fit(X_train, y_train)"
   ]
  },
  {
   "cell_type": "code",
   "execution_count": 49,
   "metadata": {},
   "outputs": [
    {
     "name": "stdout",
     "output_type": "stream",
     "text": [
      "0.81375\n",
      "{'C': 10, 'coef0': 1, 'degree': 2}\n",
      "SVC(C=10, coef0=1, degree=2, kernel='poly')\n"
     ]
    }
   ],
   "source": [
    "print(gs_clf.best_score_)\n",
    "print(gs_clf.best_params_)\n",
    "print(gs_clf.best_estimator_)"
   ]
  },
  {
   "cell_type": "code",
   "execution_count": 50,
   "metadata": {},
   "outputs": [
    {
     "name": "stdout",
     "output_type": "stream",
     "text": [
      "train_acc: 0.8416666666666667 \n",
      " test_acc: 0.805\n"
     ]
    }
   ],
   "source": [
    "#Final Model\n",
    "svm_clf = gs_clf.best_estimator_\n",
    "svm_clf.fit(X_train, y_train)\n",
    "\n",
    "print('train_acc:', svm_clf.score(X_train, y_train), \n",
    "      '\\n test_acc:', svm_clf.score(X_test, y_test))"
   ]
  },
  {
   "cell_type": "code",
   "execution_count": 51,
   "metadata": {},
   "outputs": [
    {
     "data": {
      "image/png": "[encoded data removed]",
      "text/plain": [
       "<Figure size 432x288 with 1 Axes>"
      ]
     },
     "metadata": {
      "needs_background": "light"
     },
     "output_type": "display_data"
    }
   ],
   "source": [
    "# Understand the impact of degree\n",
    "degree_range = range(0,5)\n",
    "\n",
    "train_accuracy = []\n",
    "test_accuracy = []\n",
    "\n",
    "for d in degree_range:\n",
    "    svm_clf = svm.SVC(kernel=\"poly\", C=10, degree =d, coef0=1)\n",
    "    svm_clf.fit(X_train, y_train) \n",
    "    train_accuracy.append(svm_clf.score(X_train, y_train))\n",
    "    test_accuracy.append(svm_clf.score(X_test, y_test))\n",
    "    \n",
    "#Plot the train & test accuracy\n",
    "plt.plot(degree_range, train_accuracy, 'bo-', label ='training accuracy')\n",
    "plt.plot(degree_range, test_accuracy, 'ro-', label = 'testing accuracy')\n",
    "\n",
    "plt.xlabel('degree', fontsize='x-large')\n",
    "plt.ylabel('Accuracy', fontsize='x-large')\n",
    "\n",
    "plt.legend(loc='best', shadow=True, fontsize='x-large')\n",
    "plt.show()"
   ]
  },
  {
   "cell_type": "code",
   "execution_count": 52,
   "metadata": {},
   "outputs": [
    {
     "data": {
      "text/plain": [
       "[0.5283333333333333,\n",
       " 0.7966666666666666,\n",
       " 0.805,\n",
       " 0.7616666666666667,\n",
       " 0.7383333333333333]"
      ]
     },
     "execution_count": 52,
     "metadata": {},
     "output_type": "execute_result"
    }
   ],
   "source": [
    "test_accuracy"
   ]
  },
  {
   "cell_type": "markdown",
   "metadata": {},
   "source": [
    "#### 1.3 RBF Kernel"
   ]
  },
  {
   "cell_type": "code",
   "execution_count": 53,
   "metadata": {},
   "outputs": [
    {
     "data": {
      "text/plain": [
       "GridSearchCV(cv=5, estimator=SVC(), n_jobs=-1,\n",
       "             param_grid={'C': [0.001, 0.01, 0.1, 10, 100],\n",
       "                         'gamma': [0.01, 0.1, 0.3, 10, 100]},\n",
       "             scoring='accuracy')"
      ]
     },
     "execution_count": 53,
     "metadata": {},
     "output_type": "execute_result"
    }
   ],
   "source": [
    "# Use GridSearch to find the best combination of model hyperparameters\n",
    "from sklearn.model_selection import GridSearchCV\n",
    "\n",
    "svm_clf = svm.SVC(kernel=\"rbf\")\n",
    "\n",
    "param_grid = {\"gamma\" : [0.01,0.1,0.3,10,100], \n",
    "              'C' : [0.001, 0.01,0.1, 10, 100]}\n",
    "\n",
    "gs_clf2 = GridSearchCV(svm_clf, param_grid=param_grid, scoring='accuracy', cv= 5, n_jobs=-1)\n",
    "# cv: number of partitions for cross validation\n",
    "# n_jobs: number of jobs to run in parallel, -1 means using all processors\n",
    "\n",
    "gs_clf2.fit(X_train, y_train)"
   ]
  },
  {
   "cell_type": "code",
   "execution_count": 54,
   "metadata": {},
   "outputs": [
    {
     "name": "stdout",
     "output_type": "stream",
     "text": [
      "0.8154166666666667\n",
      "{'C': 10, 'gamma': 0.01}\n",
      "SVC(C=10, gamma=0.01)\n"
     ]
    }
   ],
   "source": [
    "print(gs_clf2.best_score_)\n",
    "print(gs_clf2.best_params_)\n",
    "print(gs_clf2.best_estimator_)"
   ]
  },
  {
   "cell_type": "code",
   "execution_count": 55,
   "metadata": {},
   "outputs": [
    {
     "name": "stdout",
     "output_type": "stream",
     "text": [
      "train_acc: 0.83375 \n",
      " test_acc: 0.825\n"
     ]
    }
   ],
   "source": [
    "#Final Model\n",
    "svm_clf = gs_clf2.best_estimator_\n",
    "svm_clf.fit(X_train, y_train)\n",
    "\n",
    "print('train_acc:', svm_clf.score(X_train, y_train), \n",
    "      '\\n test_acc:', svm_clf.score(X_test, y_test))"
   ]
  },
  {
   "cell_type": "code",
   "execution_count": 56,
   "metadata": {
    "scrolled": true
   },
   "outputs": [
    {
     "data": {
      "image/png": "[encoded data removed]",
      "text/plain": [
       "<Figure size 432x288 with 1 Axes>"
      ]
     },
     "metadata": {
      "needs_background": "light"
     },
     "output_type": "display_data"
    }
   ],
   "source": [
    "# Understand the impact of C\n",
    "C_range =  [0.001, 0.01,0.1, 1, 10, 100]\n",
    "train_accuracy = []\n",
    "test_accuracy = []\n",
    "\n",
    "for C in C_range:\n",
    "    svm_clf = svm.SVC(kernel=\"rbf\", gamma=0.1, C=C)\n",
    "    svm_clf.fit(X_train, y_train) \n",
    "    train_accuracy.append(svm_clf.score(X_train, y_train))\n",
    "    test_accuracy.append(svm_clf.score(X_test, y_test))\n",
    "    \n",
    "#Plot the train & test accuracy\n",
    "plt.plot(np.log10(C_range), train_accuracy, 'bo-', label ='training accuracy')\n",
    "plt.plot(np.log10(C_range), test_accuracy, 'ro-', label = 'testing accuracy')\n",
    "\n",
    "plt.xlabel('log10(C)', fontsize='x-large')\n",
    "plt.ylabel('Accuracy', fontsize='x-large')\n",
    "\n",
    "plt.legend(loc='best', shadow=True, fontsize='x-large')\n",
    "plt.show()"
   ]
  },
  {
   "cell_type": "code",
   "execution_count": 57,
   "metadata": {},
   "outputs": [
    {
     "data": {
      "image/png": "[encoded data removed]",
      "text/plain": [
       "<Figure size 432x288 with 1 Axes>"
      ]
     },
     "metadata": {
      "needs_background": "light"
     },
     "output_type": "display_data"
    }
   ],
   "source": [
    "# Understand the impact of gamma\n",
    "g_range = [0.01,0.1,0.3,10,100]\n",
    "train_accuracy = []\n",
    "test_accuracy = []\n",
    "\n",
    "for g in g_range:\n",
    "    svm_clf = svm.SVC(kernel=\"rbf\", gamma=g, C=1)\n",
    "    svm_clf.fit(X_train, y_train) \n",
    "    train_accuracy.append(svm_clf.score(X_train, y_train))\n",
    "    test_accuracy.append(svm_clf.score(X_test, y_test))\n",
    "    \n",
    "#Plot the train & test accuracy\n",
    "plt.plot(np.log10(g_range), train_accuracy, 'bo-', label ='training accuracy')\n",
    "plt.plot(np.log10(g_range), test_accuracy, 'ro-', label = 'testing accuracy')\n",
    "\n",
    "plt.xlabel('log10(gamma)', fontsize='x-large')\n",
    "plt.ylabel('Accuracy', fontsize='x-large')\n",
    "\n",
    "plt.legend(loc='best', shadow=True, fontsize='x-large')\n",
    "plt.show()"
   ]
  },
  {
   "cell_type": "markdown",
   "metadata": {},
   "source": [
    "### 3. Regression\n",
    "We will be using the supermarket data for regression task. We take a small sample (3000 records) to train the model as SVM model takes longer time to train. Feel free to practice at home using the full dataset. "
   ]
  },
  {
   "cell_type": "code",
   "execution_count": 58,
   "metadata": {
    "scrolled": true
   },
   "outputs": [
    {
     "name": "stdout",
     "output_type": "stream",
     "text": [
      "   Item_Weight Item_Fat_Content  Item_Visibility              Item_Type  \\\n",
      "0         9.30          Low Fat         0.016047                  Dairy   \n",
      "1         5.92          Regular         0.019278            Soft Drinks   \n",
      "2        17.50          Low Fat         0.016760                   Meat   \n",
      "3        19.20          Regular         0.000000  Fruits and Vegetables   \n",
      "4         8.93          Low Fat         0.000000              Household   \n",
      "\n",
      "   Item_MRP Outlet_Identifier  Outlet_Establishment_Year Outlet_Size  \\\n",
      "0  249.8092            OUT049                       1999      Medium   \n",
      "1   48.2692            OUT018                       2009      Medium   \n",
      "2  141.6180            OUT049                       1999      Medium   \n",
      "3  182.0950            OUT010                       1998         NaN   \n",
      "4   53.8614            OUT013                       1987        High   \n",
      "\n",
      "  Outlet_Location_Type        Outlet_Type  Item_Outlet_Sales  \n",
      "0               Tier 1  Supermarket Type1          3735.1380  \n",
      "1               Tier 3  Supermarket Type2           443.4228  \n",
      "2               Tier 1  Supermarket Type1          2097.2700  \n",
      "3               Tier 3      Grocery Store           732.3800  \n",
      "4               Tier 3  Supermarket Type1           994.7052  \n",
      "Item_Fat_Content :\n",
      "Index(['Low Fat', 'Regular'], dtype='object')\n",
      "Item_Type :\n",
      "Index(['Baking Goods', 'Breads', 'Breakfast', 'Canned', 'Dairy',\n",
      "       'Frozen Foods', 'Fruits and Vegetables', 'Hard Drinks',\n",
      "       'Health and Hygiene', 'Household', 'Meat', 'Others', 'Seafood',\n",
      "       'Snack Foods', 'Soft Drinks', 'Starchy Foods'],\n",
      "      dtype='object')\n",
      "Outlet_Identifier :\n",
      "Index(['OUT010', 'OUT013', 'OUT017', 'OUT018', 'OUT019', 'OUT027', 'OUT035',\n",
      "       'OUT045', 'OUT046', 'OUT049'],\n",
      "      dtype='object')\n",
      "Outlet_Size :\n",
      "Index(['High', 'Medium', 'Small'], dtype='object')\n",
      "Outlet_Location_Type :\n",
      "Index(['Tier 1', 'Tier 2', 'Tier 3'], dtype='object')\n",
      "Outlet_Type :\n",
      "Index(['Grocery Store', 'Supermarket Type1', 'Supermarket Type2',\n",
      "       'Supermarket Type3'],\n",
      "      dtype='object')\n",
      "   Item_Weight  Item_Fat_Content  Item_Visibility  Item_Type  Item_MRP  \\\n",
      "0         9.30                 0         0.016047          4  249.8092   \n",
      "1         5.92                 1         0.019278         14   48.2692   \n",
      "2        17.50                 0         0.016760         10  141.6180   \n",
      "3        19.20                 1         0.000000          6  182.0950   \n",
      "4         8.93                 0         0.000000          9   53.8614   \n",
      "\n",
      "   Outlet_Identifier  Outlet_Establishment_Year  Outlet_Size  \\\n",
      "0                  9                       1999            1   \n",
      "1                  3                       2009            1   \n",
      "2                  9                       1999            1   \n",
      "3                  0                       1998           -1   \n",
      "4                  1                       1987            0   \n",
      "\n",
      "   Outlet_Location_Type  Outlet_Type  Item_Outlet_Sales  \n",
      "0                     0            1          3735.1380  \n",
      "1                     2            2           443.4228  \n",
      "2                     0            1          2097.2700  \n",
      "3                     2            0           732.3800  \n",
      "4                     2            1           994.7052  \n"
     ]
    }
   ],
   "source": [
    "# Loading the data\n",
    "supermarket = pd.read_csv('supermarket.csv')\n",
    "print(supermarket.head())\n",
    "\n",
    "# Encode the categorical data into numbers\n",
    "supermarket_cat = supermarket.select_dtypes(['object']).copy()\n",
    "for col in supermarket_cat:\n",
    "    print(col, ':')\n",
    "    codes, uniques = pd.factorize(supermarket_cat[col], sort=True)\n",
    "    supermarket[col]=codes\n",
    "    print(uniques)\n",
    "print(supermarket.head())\n",
    "\n",
    "# Sample a small subset of the data\n",
    "supermarket = supermarket.sample(3000, random_state =5)\n",
    "\n",
    "\n",
    "# Set the \"Sales\" as target/model output and the rest features as model inputs\n",
    "y = supermarket['Item_Outlet_Sales']\n",
    "X = supermarket.drop(['Item_Outlet_Sales'], axis=1)\n",
    "\n",
    "# Split the data into training and testing data\n",
    "X_train, X_test, y_train, y_test = train_test_split(X, y, test_size=0.2, random_state=2)\n",
    "\n",
    "#Sacaling the data into a smaller range (-3 to +3)\n",
    "mean = X_train.mean()\n",
    "std = X_train.std()\n",
    "\n",
    "X_train = (X_train - mean) / std\n",
    "X_test = (X_test - mean) / std"
   ]
  },
  {
   "cell_type": "code",
   "execution_count": 59,
   "metadata": {},
   "outputs": [
    {
     "data": {
      "text/plain": [
       "GridSearchCV(cv=5, estimator=SVR(), n_jobs=-1,\n",
       "             param_grid={'C': [0.01, 0.1, 1, 10, 100, 1000],\n",
       "                         'epsilon': [0.1, 1, 10, 100],\n",
       "                         'gamma': [0.001, 0.01, 0.1, 1, 10],\n",
       "                         'kernel': ['linear', 'rbf']},\n",
       "             scoring='neg_mean_squared_error')"
      ]
     },
     "execution_count": 59,
     "metadata": {},
     "output_type": "execute_result"
    }
   ],
   "source": [
    "# Use GridSearch to find the best combination of model hyperparameters\n",
    "from sklearn.model_selection import GridSearchCV\n",
    "\n",
    "svm_reg = svm.SVR()\n",
    "\n",
    "param_grid = {\"kernel\": ['linear','rbf'],\n",
    "              'epsilon': [0.1,1,10,100],\n",
    "              \"gamma\" : [0.001,0.01,0.1,1,10], \n",
    "              'C' : [0.01,0.1,1,10,100,1000]}\n",
    "\n",
    "gs_reg = GridSearchCV(svm_reg, param_grid=param_grid, scoring='neg_mean_squared_error', cv= 5, n_jobs=-1)\n",
    "# cv: number of partitions for cross validation\n",
    "# n_jobs: number of jobs to run in parallel, -1 means using all processors\n",
    "\n",
    "gs_reg.fit(X_train, y_train) "
   ]
  },
  {
   "cell_type": "code",
   "execution_count": 60,
   "metadata": {},
   "outputs": [
    {
     "name": "stdout",
     "output_type": "stream",
     "text": [
      "-1008932.3553691211\n",
      "{'C': 1000, 'epsilon': 100, 'gamma': 0.1, 'kernel': 'rbf'}\n",
      "SVR(C=1000, epsilon=100, gamma=0.1)\n"
     ]
    }
   ],
   "source": [
    "print(gs_reg.best_score_)\n",
    "print(gs_reg.best_params_)\n",
    "print(gs_reg.best_estimator_)"
   ]
  },
  {
   "cell_type": "code",
   "execution_count": 61,
   "metadata": {},
   "outputs": [
    {
     "name": "stdout",
     "output_type": "stream",
     "text": [
      "train_mae: 661.0767459699662 \n",
      " test_mae: 701.3404674649511\n"
     ]
    }
   ],
   "source": [
    "#Final Model\n",
    "svm_reg = gs_reg.best_estimator_\n",
    "svm_reg.fit(X_train, y_train)\n",
    "\n",
    "print('train_mae:', mean_absolute_error(svm_reg.predict(X_train), y_train), \n",
    "      '\\n test_mae:', mean_absolute_error(svm_reg.predict(X_test), y_test))"
   ]
  },
  {
   "cell_type": "code",
   "execution_count": 62,
   "metadata": {},
   "outputs": [
    {
     "data": {
      "image/png": "[encoded data removed]",
      "text/plain": [
       "<Figure size 432x288 with 1 Axes>"
      ]
     },
     "metadata": {
      "needs_background": "light"
     },
     "output_type": "display_data"
    }
   ],
   "source": [
    "# Understand the impact of C\n",
    "C_range = [0.01,0.1,1,10,100,1000, 10000]\n",
    "train_mae = []\n",
    "test_mae = []\n",
    "\n",
    "for C in C_range:\n",
    "    svm_reg = svm.SVR(kernel=\"rbf\",gamma =0.1, C=C, epsilon =100)\n",
    "    svm_reg.fit(X_train, y_train) \n",
    "    train_mae.append(mean_absolute_error(svm_reg.predict(X_train), y_train))\n",
    "    test_mae.append(mean_absolute_error(svm_reg.predict(X_test), y_test))\n",
    "    \n",
    "#Plot the train & test mae\n",
    "plt.plot(np.log10(C_range), train_mae, 'bo-', label ='training MAE')\n",
    "plt.plot(np.log10(C_range), test_mae, 'ro-', label = 'testing MAE')\n",
    "\n",
    "plt.xlabel('log10(C)', fontsize='x-large')\n",
    "plt.ylabel('Mean Absolute Error', fontsize='x-large')\n",
    "\n",
    "plt.legend(loc='best', shadow=True, fontsize='x-large')\n",
    "plt.show()"
   ]
  },
  {
   "cell_type": "code",
   "execution_count": 63,
   "metadata": {},
   "outputs": [
    {
     "data": {
      "text/html": [
       "<div>\n",
       "<style scoped>\n",
       "    .dataframe tbody tr th:only-of-type {\n",
       "        vertical-align: middle;\n",
       "    }\n",
       "\n",
       "    .dataframe tbody tr th {\n",
       "        vertical-align: top;\n",
       "    }\n",
       "\n",
       "    .dataframe thead th {\n",
       "        text-align: right;\n",
       "    }\n",
       "</style>\n",
       "<table border=\"1\" class=\"dataframe\">\n",
       "  <thead>\n",
       "    <tr style=\"text-align: right;\">\n",
       "      <th></th>\n",
       "      <th>Item_Weight</th>\n",
       "      <th>Item_Fat_Content</th>\n",
       "      <th>Item_Visibility</th>\n",
       "      <th>Item_Type</th>\n",
       "      <th>Item_MRP</th>\n",
       "      <th>Outlet_Identifier</th>\n",
       "      <th>Outlet_Establishment_Year</th>\n",
       "      <th>Outlet_Size</th>\n",
       "      <th>Outlet_Location_Type</th>\n",
       "      <th>Outlet_Type</th>\n",
       "    </tr>\n",
       "  </thead>\n",
       "  <tbody>\n",
       "    <tr>\n",
       "      <th>4815</th>\n",
       "      <td>1.120931</td>\n",
       "      <td>-0.740377</td>\n",
       "      <td>2.064525</td>\n",
       "      <td>1.350581</td>\n",
       "      <td>0.411219</td>\n",
       "      <td>-1.641602</td>\n",
       "      <td>-0.012198</td>\n",
       "      <td>-1.331443</td>\n",
       "      <td>1.105219</td>\n",
       "      <td>-1.529641</td>\n",
       "    </tr>\n",
       "    <tr>\n",
       "      <th>3601</th>\n",
       "      <td>-1.855172</td>\n",
       "      <td>-0.740377</td>\n",
       "      <td>-1.290068</td>\n",
       "      <td>1.585328</td>\n",
       "      <td>0.841595</td>\n",
       "      <td>0.789972</td>\n",
       "      <td>0.473686</td>\n",
       "      <td>-1.331443</td>\n",
       "      <td>-0.124510</td>\n",
       "      <td>-0.226432</td>\n",
       "    </tr>\n",
       "    <tr>\n",
       "      <th>4543</th>\n",
       "      <td>1.864957</td>\n",
       "      <td>-0.740377</td>\n",
       "      <td>-0.809925</td>\n",
       "      <td>0.176843</td>\n",
       "      <td>0.193888</td>\n",
       "      <td>0.442604</td>\n",
       "      <td>0.716628</td>\n",
       "      <td>1.216773</td>\n",
       "      <td>-0.124510</td>\n",
       "      <td>-0.226432</td>\n",
       "    </tr>\n",
       "    <tr>\n",
       "      <th>906</th>\n",
       "      <td>-0.178162</td>\n",
       "      <td>-0.740377</td>\n",
       "      <td>-0.518860</td>\n",
       "      <td>-0.292652</td>\n",
       "      <td>0.643353</td>\n",
       "      <td>1.137340</td>\n",
       "      <td>-0.133669</td>\n",
       "      <td>1.216773</td>\n",
       "      <td>-1.354239</td>\n",
       "      <td>-0.226432</td>\n",
       "    </tr>\n",
       "    <tr>\n",
       "      <th>7530</th>\n",
       "      <td>-0.603319</td>\n",
       "      <td>1.350100</td>\n",
       "      <td>-0.334043</td>\n",
       "      <td>-0.996894</td>\n",
       "      <td>-0.963663</td>\n",
       "      <td>-1.294234</td>\n",
       "      <td>-1.348378</td>\n",
       "      <td>-0.482038</td>\n",
       "      <td>1.105219</td>\n",
       "      <td>-0.226432</td>\n",
       "    </tr>\n",
       "    <tr>\n",
       "      <th>...</th>\n",
       "      <td>...</td>\n",
       "      <td>...</td>\n",
       "      <td>...</td>\n",
       "      <td>...</td>\n",
       "      <td>...</td>\n",
       "      <td>...</td>\n",
       "      <td>...</td>\n",
       "      <td>...</td>\n",
       "      <td>...</td>\n",
       "      <td>...</td>\n",
       "    </tr>\n",
       "    <tr>\n",
       "      <th>2923</th>\n",
       "      <td>0.235186</td>\n",
       "      <td>-0.740377</td>\n",
       "      <td>-0.691204</td>\n",
       "      <td>0.881086</td>\n",
       "      <td>-1.605915</td>\n",
       "      <td>1.137340</td>\n",
       "      <td>-0.133669</td>\n",
       "      <td>1.216773</td>\n",
       "      <td>-1.354239</td>\n",
       "      <td>-0.226432</td>\n",
       "    </tr>\n",
       "    <tr>\n",
       "      <th>4697</th>\n",
       "      <td>-0.485220</td>\n",
       "      <td>-0.740377</td>\n",
       "      <td>0.598231</td>\n",
       "      <td>0.646338</td>\n",
       "      <td>-0.627994</td>\n",
       "      <td>-0.599499</td>\n",
       "      <td>1.323983</td>\n",
       "      <td>0.367368</td>\n",
       "      <td>1.105219</td>\n",
       "      <td>1.076776</td>\n",
       "    </tr>\n",
       "    <tr>\n",
       "      <th>675</th>\n",
       "      <td>-0.060062</td>\n",
       "      <td>-0.740377</td>\n",
       "      <td>-1.147697</td>\n",
       "      <td>0.411591</td>\n",
       "      <td>0.790649</td>\n",
       "      <td>-1.294234</td>\n",
       "      <td>-1.348378</td>\n",
       "      <td>-0.482038</td>\n",
       "      <td>1.105219</td>\n",
       "      <td>-0.226432</td>\n",
       "    </tr>\n",
       "    <tr>\n",
       "      <th>295</th>\n",
       "      <td>0.683964</td>\n",
       "      <td>-0.740377</td>\n",
       "      <td>1.411988</td>\n",
       "      <td>-0.057904</td>\n",
       "      <td>1.839731</td>\n",
       "      <td>-0.946867</td>\n",
       "      <td>1.081041</td>\n",
       "      <td>-1.331443</td>\n",
       "      <td>-0.124510</td>\n",
       "      <td>-0.226432</td>\n",
       "    </tr>\n",
       "    <tr>\n",
       "      <th>4217</th>\n",
       "      <td>0.000793</td>\n",
       "      <td>-0.740377</td>\n",
       "      <td>-0.031270</td>\n",
       "      <td>-0.292652</td>\n",
       "      <td>-0.419364</td>\n",
       "      <td>-0.252131</td>\n",
       "      <td>-1.591320</td>\n",
       "      <td>1.216773</td>\n",
       "      <td>-1.354239</td>\n",
       "      <td>-1.529641</td>\n",
       "    </tr>\n",
       "  </tbody>\n",
       "</table>\n",
       "<p>2400 rows × 10 columns</p>\n",
       "</div>"
      ],
      "text/plain": [
       "      Item_Weight  Item_Fat_Content  Item_Visibility  Item_Type  Item_MRP  \\\n",
       "4815     1.120931         -0.740377         2.064525   1.350581  0.411219   \n",
       "3601    -1.855172         -0.740377        -1.290068   1.585328  0.841595   \n",
       "4543     1.864957         -0.740377        -0.809925   0.176843  0.193888   \n",
       "906     -0.178162         -0.740377        -0.518860  -0.292652  0.643353   \n",
       "7530    -0.603319          1.350100        -0.334043  -0.996894 -0.963663   \n",
       "...           ...               ...              ...        ...       ...   \n",
       "2923     0.235186         -0.740377        -0.691204   0.881086 -1.605915   \n",
       "4697    -0.485220         -0.740377         0.598231   0.646338 -0.627994   \n",
       "675     -0.060062         -0.740377        -1.147697   0.411591  0.790649   \n",
       "295      0.683964         -0.740377         1.411988  -0.057904  1.839731   \n",
       "4217     0.000793         -0.740377        -0.031270  -0.292652 -0.419364   \n",
       "\n",
       "      Outlet_Identifier  Outlet_Establishment_Year  Outlet_Size  \\\n",
       "4815          -1.641602                  -0.012198    -1.331443   \n",
       "3601           0.789972                   0.473686    -1.331443   \n",
       "4543           0.442604                   0.716628     1.216773   \n",
       "906            1.137340                  -0.133669     1.216773   \n",
       "7530          -1.294234                  -1.348378    -0.482038   \n",
       "...                 ...                        ...          ...   \n",
       "2923           1.137340                  -0.133669     1.216773   \n",
       "4697          -0.599499                   1.323983     0.367368   \n",
       "675           -1.294234                  -1.348378    -0.482038   \n",
       "295           -0.946867                   1.081041    -1.331443   \n",
       "4217          -0.252131                  -1.591320     1.216773   \n",
       "\n",
       "      Outlet_Location_Type  Outlet_Type  \n",
       "4815              1.105219    -1.529641  \n",
       "3601             -0.124510    -0.226432  \n",
       "4543             -0.124510    -0.226432  \n",
       "906              -1.354239    -0.226432  \n",
       "7530              1.105219    -0.226432  \n",
       "...                    ...          ...  \n",
       "2923             -1.354239    -0.226432  \n",
       "4697              1.105219     1.076776  \n",
       "675               1.105219    -0.226432  \n",
       "295              -0.124510    -0.226432  \n",
       "4217             -1.354239    -1.529641  \n",
       "\n",
       "[2400 rows x 10 columns]"
      ]
     },
     "execution_count": 63,
     "metadata": {},
     "output_type": "execute_result"
    }
   ],
   "source": [
    "X_train\n"
   ]
  },
  {
   "cell_type": "code",
   "execution_count": 64,
   "metadata": {},
   "outputs": [
    {
     "data": {
      "text/plain": [
       "4815     163.7868\n",
       "3601    4933.5780\n",
       "4543     890.8404\n",
       "906     1611.9018\n",
       "7530     239.6880\n",
       "          ...    \n",
       "2923     639.1680\n",
       "4697    1884.8798\n",
       "675     2816.3340\n",
       "295     2775.7202\n",
       "4217     111.1886\n",
       "Name: Item_Outlet_Sales, Length: 2400, dtype: float64"
      ]
     },
     "execution_count": 64,
     "metadata": {},
     "output_type": "execute_result"
    }
   ],
   "source": [
    "y_train"
   ]
  },
  {
   "cell_type": "code",
   "execution_count": 65,
   "metadata": {},
   "outputs": [
    {
     "data": {
      "image/png": "[encoded data removed]",
      "text/plain": [
       "<Figure size 432x288 with 1 Axes>"
      ]
     },
     "metadata": {
      "needs_background": "light"
     },
     "output_type": "display_data"
    }
   ],
   "source": [
    "# Understand the impact of gamma\n",
    "g_range = [0.001,0.01,0.1,1,10]\n",
    "train_mae = []\n",
    "test_mae = []\n",
    "\n",
    "for g in g_range:\n",
    "    svm_reg = svm.SVR(kernel=\"rbf\",gamma=g, C=1000, epsilon =100)\n",
    "    svm_reg.fit(X_train, y_train) \n",
    "    train_mae.append(mean_absolute_error(svm_reg.predict(X_train), y_train))\n",
    "    test_mae.append(mean_absolute_error(svm_reg.predict(X_test), y_test))\n",
    "    \n",
    "#Plot the train & test mae\n",
    "plt.plot(np.log10(g_range), train_mae, 'bo-', label ='training MAE')\n",
    "plt.plot(np.log10(g_range), test_mae, 'ro-', label = 'testing MAE')\n",
    "\n",
    "plt.xlabel('log10(gamma)', fontsize='x-large')\n",
    "plt.ylabel('Mean Absolute Error', fontsize='x-large')\n",
    "\n",
    "plt.legend(loc='best', shadow=True, fontsize='x-large')\n",
    "plt.show()"
   ]
  },
  {
   "cell_type": "code",
   "execution_count": 68,
   "metadata": {},
   "outputs": [
    {
     "data": {
      "image/png": "[encoded data removed]",
      "text/plain": [
       "<Figure size 432x288 with 1 Axes>"
      ]
     },
     "metadata": {
      "needs_background": "light"
     },
     "output_type": "display_data"
    }
   ],
   "source": [
    "# Understand the impact of epsilon\n",
    "e_range = [0.1,1,10,100,500]\n",
    "train_mae = []\n",
    "test_mae = []\n",
    "\n",
    "for e in e_range:\n",
    "    svm_reg = svm.SVR(kernel=\"rbf\",gamma =0.1, C=1000, epsilon =e)\n",
    "    svm_reg.fit(X_train, y_train) \n",
    "    train_mae.append(mean_absolute_error(svm_reg.predict(X_train), y_train))\n",
    "    test_mae.append(mean_absolute_error(svm_reg.predict(X_test), y_test))\n",
    "    \n",
    "#Plot the train & test mae\n",
    "plt.plot(np.log10(e_range), train_mae, 'bo-', label ='training MAE')\n",
    "plt.plot(np.log10(e_range), test_mae, 'ro-', label = 'testing MAE')\n",
    "\n",
    "plt.xlabel('log10(epsilon)', fontsize='x-large')\n",
    "plt.ylabel('Mean Absolute Error', fontsize='x-large')\n",
    "\n",
    "plt.legend(loc='best', shadow=True, fontsize='x-large')\n",
    "plt.show()"
   ]
  },
  {
   "cell_type": "code",
   "execution_count": null,
   "metadata": {},
   "outputs": [],
   "source": []
  }
 ],
 "metadata": {
  "kernelspec": {
   "display_name": "Python 3",
   "language": "python",
   "name": "python3"
  },
  "language_info": {
   "codemirror_mode": {
    "name": "ipython",
    "version": 3
   },
   "file_extension": ".py",
   "mimetype": "text/x-python",
   "name": "python",
   "nbconvert_exporter": "python",
   "pygments_lexer": "ipython3",
   "version": "3.8.8"
  }
 },
 "nbformat": 4,
 "nbformat_minor": 2
}
