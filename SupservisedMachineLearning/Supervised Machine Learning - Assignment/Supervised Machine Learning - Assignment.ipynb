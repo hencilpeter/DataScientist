{
 "cells": [
  {
   "cell_type": "markdown",
   "metadata": {},
   "source": [
    "<table class=\"table table-bordered\">\n",
    "    <tr>\n",
    "        <th style=\"width:250px\"><img src='https://www.np.edu.sg/PublishingImages/Pages/default/odp/ICT.jpg' style=\"width: 100%; height: 125px; \"></th>\n",
    "        <th style=\"text-align:center;\"><h1>Supervised Machine Learning</h1><h2>Assignment</h2><h3>The Data School</h3></th>\n",
    "    </tr>\n",
    "</table>"
   ]
  },
  {
   "cell_type": "markdown",
   "metadata": {},
   "source": [
    "# Name : Joseph Hencil Peter\n",
    "# NRIC : S7967093F\n",
    "# Description : Supervised Machine Learning Algoirthm - Assignment"
   ]
  },
  {
   "cell_type": "markdown",
   "metadata": {},
   "source": [
    "## Objectives\n",
    "##### After completing this assignment, you should be able to independently:\n",
    "1. Build Supervised Machine Learning Models to solve classification and regression problems\n",
    "2. Select, Train and Evaluate the models\n",
    "3. Fine-tuning model hyperparameters using grid search or other suitable methods\n",
    "4. Use the model to make predictions"
   ]
  },
  {
   "cell_type": "markdown",
   "metadata": {},
   "source": [
    "## Problem Statement\n",
    "\n",
    "### 1. Classification Problem: Bank Customer Churn Prediction\n",
    "The customer churn, also known as customer attrition, refers to the phenomenon whereby a customer leaves a company. The studies showed acquiring new customers can cost five times more than satisfying and retaining existing customers. Therefore, it is important to track and retain the existing customers to save the marketing costs. \n",
    "\n",
    "The first problem assigned to you is to predict whether the bank's customers will leave the bank or not based on the customers personal information and past history with the bank. Please refer to the files `bank_churn.csv` and `data_dictionary.xlsx` for more information.\n",
    "\n",
    "\n",
    "### 2. Regression Problem: House Price Prediction\n",
    "The second problem assigned to you is to predict the house price in Washington based on the house condition, location and other relevant information. Please refer to the files `house_price.csv` and `data_dictionary.xlsx` for more information."
   ]
  },
  {
   "cell_type": "markdown",
   "metadata": {},
   "source": [
    "## Dataset\n",
    "\n",
    "You will need the following files for this assignment:\n",
    "1. bank_churn.csv\n",
    "2. house_price.csv\n",
    "3. data_dictionary.xlsx"
   ]
  },
  {
   "cell_type": "code",
   "execution_count": 1,
   "metadata": {},
   "outputs": [],
   "source": [
    "# import the python libraries \n",
    "# numpy and pandas libraries\n",
    "import numpy as np\n",
    "import pandas as pd\n",
    "\n",
    "#visualization \n",
    "import matplotlib.pyplot as plt\n",
    "%matplotlib inline\n",
    "\n",
    "#data pre-processing\n",
    "from sklearn.preprocessing import StandardScaler\n",
    "from sklearn.model_selection import train_test_split\n",
    "\n",
    "#ML Algorithms (supervised learning)\n",
    "from sklearn import neighbors, tree, svm, ensemble\n",
    "import xgboost\n",
    "from sklearn.model_selection import GridSearchCV\n",
    "\n",
    "#Model evaluation \n",
    "from sklearn.metrics import mean_squared_error, mean_absolute_error, confusion_matrix, classification_report\n",
    "from sklearn.model_selection import cross_val_score, cross_validate\n",
    "\n",
    "#save the model\n",
    "import joblib"
   ]
  },
  {
   "cell_type": "markdown",
   "metadata": {},
   "source": [
    "## Instructions\n",
    "Based on what you have learnt in the course, \n",
    "1. Build the supervised machine learning models for the assigned problems \n",
    "2. Select, Train and Evaluate the models\n",
    "3. Shortist a few (two to five) promissing models and fine-tuning model hyperparameters\n",
    "4. Compare the shortlisted models and recommend the best model \n",
    "5. Use the best model to make prediction on the test data\n",
    "5. Save the model as a \"pickle\" file for future deployment\n",
    "\n",
    "The template below has been provided to guide you in the training of your Supervised Machine Learning models. Feel free to **add in more cells** and include more steps where necessary to achieve the goal of the assignment."
   ]
  },
  {
   "cell_type": "markdown",
   "metadata": {},
   "source": [
    "## 1. Classification Problem: Bank Customer Churn Prediction"
   ]
  },
  {
   "cell_type": "markdown",
   "metadata": {},
   "source": [
    "Selected Classification Approaches \n",
    "---------------------------------------------------\n",
    "1. Support Vector Machine(SVM) /GridSearchCV \n",
    "2. K-Nearest Neighbors  (KNN) /GridSearchCV \n",
    "3. Decision Tree /Bagging Classifier  \n",
    "4. Random Forest Classifier\n",
    "5. Boosting Classifier "
   ]
  },
  {
   "cell_type": "markdown",
   "metadata": {},
   "source": [
    "### Step 1: Import Data and Perform Data Preparation\n",
    "Remember to split data into train data and test data"
   ]
  },
  {
   "cell_type": "code",
   "execution_count": 2,
   "metadata": {},
   "outputs": [
    {
     "data": {
      "text/html": [
       "<div>\n",
       "<style scoped>\n",
       "    .dataframe tbody tr th:only-of-type {\n",
       "        vertical-align: middle;\n",
       "    }\n",
       "\n",
       "    .dataframe tbody tr th {\n",
       "        vertical-align: top;\n",
       "    }\n",
       "\n",
       "    .dataframe thead th {\n",
       "        text-align: right;\n",
       "    }\n",
       "</style>\n",
       "<table border=\"1\" class=\"dataframe\">\n",
       "  <thead>\n",
       "    <tr style=\"text-align: right;\">\n",
       "      <th></th>\n",
       "      <th>CustomerId</th>\n",
       "      <th>Surname</th>\n",
       "      <th>CreditScore</th>\n",
       "      <th>Geography</th>\n",
       "      <th>Gender</th>\n",
       "      <th>Age</th>\n",
       "      <th>Tenure</th>\n",
       "      <th>Balance</th>\n",
       "      <th>NumOfProducts</th>\n",
       "      <th>HasCrCard</th>\n",
       "      <th>IsActiveMember</th>\n",
       "      <th>EstimatedSalary</th>\n",
       "      <th>Exited</th>\n",
       "    </tr>\n",
       "  </thead>\n",
       "  <tbody>\n",
       "    <tr>\n",
       "      <th>0</th>\n",
       "      <td>15634602</td>\n",
       "      <td>Hargrave</td>\n",
       "      <td>619</td>\n",
       "      <td>France</td>\n",
       "      <td>Female</td>\n",
       "      <td>42</td>\n",
       "      <td>2</td>\n",
       "      <td>0.00</td>\n",
       "      <td>1</td>\n",
       "      <td>1</td>\n",
       "      <td>1</td>\n",
       "      <td>101348.88</td>\n",
       "      <td>1</td>\n",
       "    </tr>\n",
       "    <tr>\n",
       "      <th>1</th>\n",
       "      <td>15647311</td>\n",
       "      <td>Hill</td>\n",
       "      <td>608</td>\n",
       "      <td>Spain</td>\n",
       "      <td>Female</td>\n",
       "      <td>41</td>\n",
       "      <td>1</td>\n",
       "      <td>83807.86</td>\n",
       "      <td>1</td>\n",
       "      <td>0</td>\n",
       "      <td>1</td>\n",
       "      <td>112542.58</td>\n",
       "      <td>0</td>\n",
       "    </tr>\n",
       "    <tr>\n",
       "      <th>2</th>\n",
       "      <td>15619304</td>\n",
       "      <td>Onio</td>\n",
       "      <td>502</td>\n",
       "      <td>France</td>\n",
       "      <td>Female</td>\n",
       "      <td>42</td>\n",
       "      <td>8</td>\n",
       "      <td>159660.80</td>\n",
       "      <td>3</td>\n",
       "      <td>1</td>\n",
       "      <td>0</td>\n",
       "      <td>113931.57</td>\n",
       "      <td>1</td>\n",
       "    </tr>\n",
       "    <tr>\n",
       "      <th>3</th>\n",
       "      <td>15701354</td>\n",
       "      <td>Boni</td>\n",
       "      <td>699</td>\n",
       "      <td>France</td>\n",
       "      <td>Female</td>\n",
       "      <td>39</td>\n",
       "      <td>1</td>\n",
       "      <td>0.00</td>\n",
       "      <td>2</td>\n",
       "      <td>0</td>\n",
       "      <td>0</td>\n",
       "      <td>93826.63</td>\n",
       "      <td>0</td>\n",
       "    </tr>\n",
       "    <tr>\n",
       "      <th>4</th>\n",
       "      <td>15737888</td>\n",
       "      <td>Mitchell</td>\n",
       "      <td>850</td>\n",
       "      <td>Spain</td>\n",
       "      <td>Female</td>\n",
       "      <td>43</td>\n",
       "      <td>2</td>\n",
       "      <td>125510.82</td>\n",
       "      <td>1</td>\n",
       "      <td>1</td>\n",
       "      <td>1</td>\n",
       "      <td>79084.10</td>\n",
       "      <td>0</td>\n",
       "    </tr>\n",
       "  </tbody>\n",
       "</table>\n",
       "</div>"
      ],
      "text/plain": [
       "   CustomerId   Surname  CreditScore Geography  Gender  Age  Tenure  \\\n",
       "0    15634602  Hargrave          619    France  Female   42       2   \n",
       "1    15647311      Hill          608     Spain  Female   41       1   \n",
       "2    15619304      Onio          502    France  Female   42       8   \n",
       "3    15701354      Boni          699    France  Female   39       1   \n",
       "4    15737888  Mitchell          850     Spain  Female   43       2   \n",
       "\n",
       "     Balance  NumOfProducts  HasCrCard  IsActiveMember  EstimatedSalary  \\\n",
       "0       0.00              1          1               1        101348.88   \n",
       "1   83807.86              1          0               1        112542.58   \n",
       "2  159660.80              3          1               0        113931.57   \n",
       "3       0.00              2          0               0         93826.63   \n",
       "4  125510.82              1          1               1         79084.10   \n",
       "\n",
       "   Exited  \n",
       "0       1  \n",
       "1       0  \n",
       "2       1  \n",
       "3       0  \n",
       "4       0  "
      ]
     },
     "execution_count": 2,
     "metadata": {},
     "output_type": "execute_result"
    }
   ],
   "source": [
    "# Enter your code here:\n",
    "\n",
    "#load the dataset \n",
    "bankDatasetOriginal = pd.read_csv(\"bank_churn.csv\")\n",
    "bankDatasetOriginal.head()"
   ]
  },
  {
   "cell_type": "code",
   "execution_count": 3,
   "metadata": {},
   "outputs": [
    {
     "data": {
      "text/html": [
       "<div>\n",
       "<style scoped>\n",
       "    .dataframe tbody tr th:only-of-type {\n",
       "        vertical-align: middle;\n",
       "    }\n",
       "\n",
       "    .dataframe tbody tr th {\n",
       "        vertical-align: top;\n",
       "    }\n",
       "\n",
       "    .dataframe thead th {\n",
       "        text-align: right;\n",
       "    }\n",
       "</style>\n",
       "<table border=\"1\" class=\"dataframe\">\n",
       "  <thead>\n",
       "    <tr style=\"text-align: right;\">\n",
       "      <th></th>\n",
       "      <th>CreditScore</th>\n",
       "      <th>Geography</th>\n",
       "      <th>Gender</th>\n",
       "      <th>Age</th>\n",
       "      <th>Tenure</th>\n",
       "      <th>Balance</th>\n",
       "      <th>NumOfProducts</th>\n",
       "      <th>HasCrCard</th>\n",
       "      <th>IsActiveMember</th>\n",
       "      <th>EstimatedSalary</th>\n",
       "      <th>Exited</th>\n",
       "    </tr>\n",
       "  </thead>\n",
       "  <tbody>\n",
       "    <tr>\n",
       "      <th>0</th>\n",
       "      <td>619</td>\n",
       "      <td>France</td>\n",
       "      <td>Female</td>\n",
       "      <td>42</td>\n",
       "      <td>2</td>\n",
       "      <td>0.00</td>\n",
       "      <td>1</td>\n",
       "      <td>1</td>\n",
       "      <td>1</td>\n",
       "      <td>101348.88</td>\n",
       "      <td>1</td>\n",
       "    </tr>\n",
       "    <tr>\n",
       "      <th>1</th>\n",
       "      <td>608</td>\n",
       "      <td>Spain</td>\n",
       "      <td>Female</td>\n",
       "      <td>41</td>\n",
       "      <td>1</td>\n",
       "      <td>83807.86</td>\n",
       "      <td>1</td>\n",
       "      <td>0</td>\n",
       "      <td>1</td>\n",
       "      <td>112542.58</td>\n",
       "      <td>0</td>\n",
       "    </tr>\n",
       "    <tr>\n",
       "      <th>2</th>\n",
       "      <td>502</td>\n",
       "      <td>France</td>\n",
       "      <td>Female</td>\n",
       "      <td>42</td>\n",
       "      <td>8</td>\n",
       "      <td>159660.80</td>\n",
       "      <td>3</td>\n",
       "      <td>1</td>\n",
       "      <td>0</td>\n",
       "      <td>113931.57</td>\n",
       "      <td>1</td>\n",
       "    </tr>\n",
       "    <tr>\n",
       "      <th>3</th>\n",
       "      <td>699</td>\n",
       "      <td>France</td>\n",
       "      <td>Female</td>\n",
       "      <td>39</td>\n",
       "      <td>1</td>\n",
       "      <td>0.00</td>\n",
       "      <td>2</td>\n",
       "      <td>0</td>\n",
       "      <td>0</td>\n",
       "      <td>93826.63</td>\n",
       "      <td>0</td>\n",
       "    </tr>\n",
       "    <tr>\n",
       "      <th>4</th>\n",
       "      <td>850</td>\n",
       "      <td>Spain</td>\n",
       "      <td>Female</td>\n",
       "      <td>43</td>\n",
       "      <td>2</td>\n",
       "      <td>125510.82</td>\n",
       "      <td>1</td>\n",
       "      <td>1</td>\n",
       "      <td>1</td>\n",
       "      <td>79084.10</td>\n",
       "      <td>0</td>\n",
       "    </tr>\n",
       "  </tbody>\n",
       "</table>\n",
       "</div>"
      ],
      "text/plain": [
       "   CreditScore Geography  Gender  Age  Tenure    Balance  NumOfProducts  \\\n",
       "0          619    France  Female   42       2       0.00              1   \n",
       "1          608     Spain  Female   41       1   83807.86              1   \n",
       "2          502    France  Female   42       8  159660.80              3   \n",
       "3          699    France  Female   39       1       0.00              2   \n",
       "4          850     Spain  Female   43       2  125510.82              1   \n",
       "\n",
       "   HasCrCard  IsActiveMember  EstimatedSalary  Exited  \n",
       "0          1               1        101348.88       1  \n",
       "1          0               1        112542.58       0  \n",
       "2          1               0        113931.57       1  \n",
       "3          0               0         93826.63       0  \n",
       "4          1               1         79084.10       0  "
      ]
     },
     "execution_count": 3,
     "metadata": {},
     "output_type": "execute_result"
    }
   ],
   "source": [
    "# Customer Id and Surname columns are not required for training (as it will not contribute model accuracy). \n",
    "# So remove these two columns \n",
    "bankDataset = bankDatasetOriginal.drop([\"CustomerId\", \"Surname\"], axis=1)\n",
    "bankDataset.head()"
   ]
  },
  {
   "cell_type": "code",
   "execution_count": 4,
   "metadata": {},
   "outputs": [
    {
     "data": {
      "text/plain": [
       "0    7963\n",
       "1    2037\n",
       "Name: Exited, dtype: int64"
      ]
     },
     "execution_count": 4,
     "metadata": {},
     "output_type": "execute_result"
    }
   ],
   "source": [
    "#target variable\n",
    "bankDataset.Exited.value_counts()"
   ]
  },
  {
   "cell_type": "code",
   "execution_count": null,
   "metadata": {},
   "outputs": [],
   "source": []
  },
  {
   "cell_type": "markdown",
   "metadata": {},
   "source": [
    "### Step 2: Select, Train, Evaluate and Fine Tuning the Models\n",
    "Please shortlist two to five promissing models, provide details on how you fining the model hyperparameters (e.g. using Grid Saerch, Random Search and etc.). Feel free to add in more cells. "
   ]
  },
  {
   "cell_type": "code",
   "execution_count": 5,
   "metadata": {},
   "outputs": [
    {
     "name": "stdout",
     "output_type": "stream",
     "text": [
      "Geography :\n",
      "Index(['France', 'Germany', 'Spain'], dtype='object')\n",
      "Gender :\n",
      "Index(['Female', 'Male'], dtype='object')\n",
      "   CreditScore  Geography  Gender  Age  Tenure    Balance  NumOfProducts  \\\n",
      "0          619          0       0   42       2       0.00              1   \n",
      "1          608          2       0   41       1   83807.86              1   \n",
      "2          502          0       0   42       8  159660.80              3   \n",
      "3          699          0       0   39       1       0.00              2   \n",
      "4          850          2       0   43       2  125510.82              1   \n",
      "\n",
      "   HasCrCard  IsActiveMember  EstimatedSalary  Exited  \n",
      "0          1               1        101348.88       1  \n",
      "1          0               1        112542.58       0  \n",
      "2          1               0        113931.57       1  \n",
      "3          0               0         93826.63       0  \n",
      "4          1               1         79084.10       0  \n"
     ]
    }
   ],
   "source": [
    "# Encode the categorical data into numbers\n",
    "bank_cat = bankDataset.select_dtypes(['object']).copy()\n",
    "for col in bank_cat:\n",
    "    print(col, ':')\n",
    "    codes, uniques = pd.factorize(bank_cat[col], sort=True)\n",
    "    bankDataset[col]=codes\n",
    "    print(uniques)\n",
    "print(bankDataset.head())"
   ]
  },
  {
   "cell_type": "code",
   "execution_count": 6,
   "metadata": {},
   "outputs": [],
   "source": [
    "#Extract features and target variable\n",
    "X = bankDataset.drop(\"Exited\", axis=1)\n",
    "y = bankDataset[\"Exited\"]"
   ]
  },
  {
   "cell_type": "code",
   "execution_count": 7,
   "metadata": {},
   "outputs": [
    {
     "data": {
      "text/html": [
       "<div>\n",
       "<style scoped>\n",
       "    .dataframe tbody tr th:only-of-type {\n",
       "        vertical-align: middle;\n",
       "    }\n",
       "\n",
       "    .dataframe tbody tr th {\n",
       "        vertical-align: top;\n",
       "    }\n",
       "\n",
       "    .dataframe thead th {\n",
       "        text-align: right;\n",
       "    }\n",
       "</style>\n",
       "<table border=\"1\" class=\"dataframe\">\n",
       "  <thead>\n",
       "    <tr style=\"text-align: right;\">\n",
       "      <th></th>\n",
       "      <th>CreditScore</th>\n",
       "      <th>Geography</th>\n",
       "      <th>Gender</th>\n",
       "      <th>Age</th>\n",
       "      <th>Tenure</th>\n",
       "      <th>Balance</th>\n",
       "      <th>NumOfProducts</th>\n",
       "      <th>HasCrCard</th>\n",
       "      <th>IsActiveMember</th>\n",
       "      <th>EstimatedSalary</th>\n",
       "    </tr>\n",
       "  </thead>\n",
       "  <tbody>\n",
       "    <tr>\n",
       "      <th>0</th>\n",
       "      <td>619</td>\n",
       "      <td>0</td>\n",
       "      <td>0</td>\n",
       "      <td>42</td>\n",
       "      <td>2</td>\n",
       "      <td>0.00</td>\n",
       "      <td>1</td>\n",
       "      <td>1</td>\n",
       "      <td>1</td>\n",
       "      <td>101348.88</td>\n",
       "    </tr>\n",
       "    <tr>\n",
       "      <th>1</th>\n",
       "      <td>608</td>\n",
       "      <td>2</td>\n",
       "      <td>0</td>\n",
       "      <td>41</td>\n",
       "      <td>1</td>\n",
       "      <td>83807.86</td>\n",
       "      <td>1</td>\n",
       "      <td>0</td>\n",
       "      <td>1</td>\n",
       "      <td>112542.58</td>\n",
       "    </tr>\n",
       "    <tr>\n",
       "      <th>2</th>\n",
       "      <td>502</td>\n",
       "      <td>0</td>\n",
       "      <td>0</td>\n",
       "      <td>42</td>\n",
       "      <td>8</td>\n",
       "      <td>159660.80</td>\n",
       "      <td>3</td>\n",
       "      <td>1</td>\n",
       "      <td>0</td>\n",
       "      <td>113931.57</td>\n",
       "    </tr>\n",
       "    <tr>\n",
       "      <th>3</th>\n",
       "      <td>699</td>\n",
       "      <td>0</td>\n",
       "      <td>0</td>\n",
       "      <td>39</td>\n",
       "      <td>1</td>\n",
       "      <td>0.00</td>\n",
       "      <td>2</td>\n",
       "      <td>0</td>\n",
       "      <td>0</td>\n",
       "      <td>93826.63</td>\n",
       "    </tr>\n",
       "    <tr>\n",
       "      <th>4</th>\n",
       "      <td>850</td>\n",
       "      <td>2</td>\n",
       "      <td>0</td>\n",
       "      <td>43</td>\n",
       "      <td>2</td>\n",
       "      <td>125510.82</td>\n",
       "      <td>1</td>\n",
       "      <td>1</td>\n",
       "      <td>1</td>\n",
       "      <td>79084.10</td>\n",
       "    </tr>\n",
       "  </tbody>\n",
       "</table>\n",
       "</div>"
      ],
      "text/plain": [
       "   CreditScore  Geography  Gender  Age  Tenure    Balance  NumOfProducts  \\\n",
       "0          619          0       0   42       2       0.00              1   \n",
       "1          608          2       0   41       1   83807.86              1   \n",
       "2          502          0       0   42       8  159660.80              3   \n",
       "3          699          0       0   39       1       0.00              2   \n",
       "4          850          2       0   43       2  125510.82              1   \n",
       "\n",
       "   HasCrCard  IsActiveMember  EstimatedSalary  \n",
       "0          1               1        101348.88  \n",
       "1          0               1        112542.58  \n",
       "2          1               0        113931.57  \n",
       "3          0               0         93826.63  \n",
       "4          1               1         79084.10  "
      ]
     },
     "execution_count": 7,
     "metadata": {},
     "output_type": "execute_result"
    }
   ],
   "source": [
    "X.head()"
   ]
  },
  {
   "cell_type": "code",
   "execution_count": 8,
   "metadata": {},
   "outputs": [
    {
     "data": {
      "text/plain": [
       "0    1\n",
       "1    0\n",
       "2    1\n",
       "3    0\n",
       "4    0\n",
       "Name: Exited, dtype: int64"
      ]
     },
     "execution_count": 8,
     "metadata": {},
     "output_type": "execute_result"
    }
   ],
   "source": [
    "y.head()"
   ]
  },
  {
   "cell_type": "code",
   "execution_count": 9,
   "metadata": {},
   "outputs": [],
   "source": [
    "#split the data into training and test dataset \n",
    "X_train, X_test, y_train, y_test = train_test_split(X, y, test_size=0.2, random_state=3)"
   ]
  },
  {
   "cell_type": "code",
   "execution_count": 10,
   "metadata": {},
   "outputs": [],
   "source": [
    "#scaling the data into smaller range. i.e between -3 and 3.  (z-score approach)\n",
    "mean = X_train.mean()\n",
    "std = X_train.std()\n",
    "\n",
    "X_train = (X_train - mean) / std\n",
    "X_test = (X_test - mean) / std\n"
   ]
  },
  {
   "cell_type": "code",
   "execution_count": 11,
   "metadata": {},
   "outputs": [],
   "source": [
    "#general functions\n",
    "#draw the chart and show the accuracy for training and test data\n",
    "def drawTrainingAndTestingAccuracyChart(x_range, train_accuracy, test_accuracy, chartTitle, xLabel, yLabel):\n",
    "    #Plot the train & test accuracy\n",
    "    plt.plot(x_range, train_accuracy, 'bo-', label ='Training Accuracy')\n",
    "    plt.plot(x_range, test_accuracy, 'yo-', label = 'Testing Accuracy')\n",
    "\n",
    "    plt.xlabel(xLabel, fontsize='x-large')\n",
    "    plt.ylabel(yLabel, fontsize='x-large')\n",
    "\n",
    "    plt.legend(loc='best', shadow=True, fontsize='x-large')\n",
    "    plt.title(chartTitle)\n",
    "    plt.show()"
   ]
  },
  {
   "cell_type": "markdown",
   "metadata": {},
   "source": [
    "### Classification Model 1- SVM algorithm with polynomial kernal /GridSearchCV Approach"
   ]
  },
  {
   "cell_type": "code",
   "execution_count": 12,
   "metadata": {},
   "outputs": [
    {
     "data": {
      "text/plain": [
       "GridSearchCV(cv=7, estimator=SVC(kernel='poly'), n_jobs=-1,\n",
       "             param_grid={'C': [0.01, 0.1, 1, 10], 'coef0': [0, 1],\n",
       "                         'degree': range(0, 6)},\n",
       "             scoring='accuracy')"
      ]
     },
     "execution_count": 12,
     "metadata": {},
     "output_type": "execute_result"
    }
   ],
   "source": [
    "# Model 1\n",
    "# Enter your code here:\n",
    "svm_clf = svm.SVC(kernel=\"poly\")\n",
    "\n",
    "param_grid = {\"degree\" : range(0,6, 1),  # degree 0,1,2,3,4,5,6\n",
    "              \"coef0\" : [0,1], #coef0 controls how much the model is influenced by highdegree polynomials versus low-degree polynomials\n",
    "              'C' : [ 0.01, 0.1, 1, 10]}\n",
    "\n",
    "#GridSearch approach used to select the best hyperparameters. \n",
    "# cv: No of partitions for Cross Validation\n",
    "# n_jobs: number of jobs to run in parallel, -1 means using all processors.\n",
    "gs_svm_clf = GridSearchCV(svm_clf, param_grid=param_grid, scoring='accuracy', cv= 7, n_jobs=-1)\n",
    "\n",
    "\n",
    "gs_svm_clf.fit(X_train, y_train)\n"
   ]
  },
  {
   "cell_type": "code",
   "execution_count": 13,
   "metadata": {},
   "outputs": [
    {
     "name": "stdout",
     "output_type": "stream",
     "text": [
      "0.8556245486827283\n",
      "{'C': 10, 'coef0': 1, 'degree': 3}\n",
      "SVC(C=10, coef0=1, kernel='poly')\n"
     ]
    }
   ],
   "source": [
    "print(gs_svm_clf.best_score_)\n",
    "print(gs_svm_clf.best_params_)\n",
    "print(gs_svm_clf.best_estimator_)"
   ]
  },
  {
   "cell_type": "code",
   "execution_count": 14,
   "metadata": {},
   "outputs": [],
   "source": [
    "#calculate training and testing accuracy for different degrees\n",
    "degree_range = range(0, 10,1)\n",
    "train_accuracy = []\n",
    "test_accuracy = []\n",
    "\n",
    "for d in degree_range:\n",
    "    svm_clf = svm.SVC(kernel=\"poly\", C=10, degree =d, coef0=1)\n",
    "    svm_clf.fit(X_train, y_train) \n",
    "    train_accuracy.append(svm_clf.score(X_train, y_train))\n",
    "    test_accuracy.append(svm_clf.score(X_test, y_test))"
   ]
  },
  {
   "cell_type": "code",
   "execution_count": 15,
   "metadata": {},
   "outputs": [
    {
     "data": {
      "image/png": "[encoded data removed]",
      "text/plain": [
       "<Figure size 432x288 with 1 Axes>"
      ]
     },
     "metadata": {
      "needs_background": "light"
     },
     "output_type": "display_data"
    }
   ],
   "source": [
    "#draw the chart for range of degrees\n",
    "drawTrainingAndTestingAccuracyChart(degree_range,train_accuracy,  test_accuracy, 'SVM Model - Training and Testing Accuracy for various degrees', 'Degree', 'Accuracy')"
   ]
  },
  {
   "cell_type": "code",
   "execution_count": 16,
   "metadata": {},
   "outputs": [
    {
     "name": "stdout",
     "output_type": "stream",
     "text": [
      "SVM Training Accuracy :  0.863875\n",
      "SVM Testing Accuracy :  0.863\n",
      "Selected hypterparameters :   {'C': 10, 'coef0': 1, 'degree': 3}\n"
     ]
    }
   ],
   "source": [
    "svm_clf_best = gs_svm_clf.best_estimator_\n",
    "\n",
    "#training accuracy using best SVM Model\n",
    "svm_train_acc = svm_clf_best.score(X_train, y_train)\n",
    "print('SVM Training Accuracy : ', svm_train_acc)\n",
    "\n",
    "#testing accuracy using best SVM Model\n",
    "svm_test_acc = svm_clf_best.score(X_test, y_test)\n",
    "print('SVM Testing Accuracy : ', svm_test_acc)\n",
    "\n",
    "print('Selected hypterparameters :  ', gs_svm_clf.best_params_)"
   ]
  },
  {
   "cell_type": "markdown",
   "metadata": {},
   "source": [
    "### Classification Model 2 - K-Nearest Neighbors (KNN) /GridSearchCV Approach"
   ]
  },
  {
   "cell_type": "code",
   "execution_count": 17,
   "metadata": {},
   "outputs": [
    {
     "data": {
      "text/plain": [
       "GridSearchCV(cv=7, estimator=KNeighborsClassifier(), n_jobs=-1,\n",
       "             param_grid={'metric': ['euclidean', 'manhattan'],\n",
       "                         'n_neighbors': [3, 5, 7, 9, 15, 25],\n",
       "                         'weights': ['uniform', 'distance']},\n",
       "             scoring='accuracy')"
      ]
     },
     "execution_count": 17,
     "metadata": {},
     "output_type": "execute_result"
    }
   ],
   "source": [
    "# Enter your code here:\n",
    "knn_clf = neighbors.KNeighborsClassifier()\n",
    "\n",
    "#define parameters\n",
    "param_grid = {'n_neighbors' : [3,5,7,9,15, 25], \n",
    "              'weights' : ['uniform', 'distance'], \n",
    "              'metric' : ['euclidean','manhattan'] }\n",
    "\n",
    "\n",
    "#GridSearch approach used to select the best hyperparameters. \n",
    "# cv: No of partitions for Cross Validation\n",
    "# n_jobs: number of jobs to run in parallel, -1 means using all processors.\n",
    "gs_knn_clf = GridSearchCV(knn_clf, param_grid=param_grid, scoring='accuracy', cv= 7, n_jobs=-1)\n",
    "\n",
    "\n",
    "gs_knn_clf.fit(X_train, y_train)\n"
   ]
  },
  {
   "cell_type": "code",
   "execution_count": 18,
   "metadata": {},
   "outputs": [
    {
     "name": "stdout",
     "output_type": "stream",
     "text": [
      "0.8371250003556909\n",
      "{'metric': 'manhattan', 'n_neighbors': 15, 'weights': 'distance'}\n",
      "KNeighborsClassifier(metric='manhattan', n_neighbors=15, weights='distance')\n"
     ]
    }
   ],
   "source": [
    "print(gs_knn_clf.best_score_)\n",
    "print(gs_knn_clf.best_params_)\n",
    "print(gs_knn_clf.best_estimator_)"
   ]
  },
  {
   "cell_type": "code",
   "execution_count": 19,
   "metadata": {},
   "outputs": [],
   "source": [
    "#calculate training and testing accuracy for different neighbour range\n",
    "neighbor_range = range(9, 21, 2)\n",
    "train_accuracy = []\n",
    "test_accuracy = []\n",
    "\n",
    "for n in neighbor_range:\n",
    "    knn_clf = neighbors.KNeighborsClassifier(n_neighbors=n, weights='distance', metric= 'manhattan')\n",
    "    knn_clf.fit(X_train, y_train) \n",
    "    train_accuracy.append(knn_clf.score(X_train, y_train))\n",
    "    test_accuracy.append(knn_clf.score(X_test, y_test))"
   ]
  },
  {
   "cell_type": "code",
   "execution_count": 20,
   "metadata": {},
   "outputs": [
    {
     "data": {
      "image/png": "[encoded data removed]",
      "text/plain": [
       "<Figure size 432x288 with 1 Axes>"
      ]
     },
     "metadata": {
      "needs_background": "light"
     },
     "output_type": "display_data"
    }
   ],
   "source": [
    "drawTrainingAndTestingAccuracyChart(neighbor_range,train_accuracy,  test_accuracy, 'KNN Model - Training and Testing Accuracy for range of neighbours', 'Neighbour Count', 'Accuracy')"
   ]
  },
  {
   "cell_type": "code",
   "execution_count": 21,
   "metadata": {},
   "outputs": [
    {
     "name": "stdout",
     "output_type": "stream",
     "text": [
      "KNN Training Accuracy :  1.0\n",
      "KNN Testing Accuracy :  0.843\n",
      "Selected hypterparameters :   {'metric': 'manhattan', 'n_neighbors': 15, 'weights': 'distance'}\n"
     ]
    }
   ],
   "source": [
    "knn_clf_best = gs_knn_clf.best_estimator_\n",
    "\n",
    "#training accuracy using best SVM Model\n",
    "knn_train_acc = knn_clf_best.score(X_train, y_train)\n",
    "print('KNN Training Accuracy : ', knn_train_acc)\n",
    "\n",
    "#testing accuracy using best SVM Model\n",
    "knn_test_acc = knn_clf_best.score(X_test, y_test)\n",
    "print('KNN Testing Accuracy : ', knn_test_acc)\n",
    "\n",
    "print('Selected hypterparameters :  ', gs_knn_clf.best_params_)"
   ]
  },
  {
   "cell_type": "markdown",
   "metadata": {},
   "source": [
    "### Classification Model 3 - Decision Tree /Bagging Classifier"
   ]
  },
  {
   "cell_type": "code",
   "execution_count": 22,
   "metadata": {},
   "outputs": [
    {
     "data": {
      "text/plain": [
       "BaggingClassifier(base_estimator=DecisionTreeClassifier(), max_samples=350,\n",
       "                  n_estimators=100, n_jobs=-1)"
      ]
     },
     "execution_count": 22,
     "metadata": {},
     "output_type": "execute_result"
    }
   ],
   "source": [
    "# Model 3 (optional)\n",
    "# Enter your code here:\n",
    "dTree_clf = tree.DecisionTreeClassifier()\n",
    "bag_tree_clf = ensemble.BaggingClassifier(\n",
    "    dTree_clf,\n",
    "    n_estimators = 100, #number of estimator can be used\n",
    "    max_samples = 350, # no of samples for each training \n",
    "    bootstrap=True, #  bootstrap sampling enabled.\n",
    "    n_jobs=-1) # use all cores \n",
    "\n",
    "\n",
    "bag_tree_clf.fit(X_train, y_train)"
   ]
  },
  {
   "cell_type": "code",
   "execution_count": 23,
   "metadata": {},
   "outputs": [
    {
     "name": "stdout",
     "output_type": "stream",
     "text": [
      " Decision Tree /Bagging Classifier Training Accuracy: 0.861625\n",
      " Decision Tree /Bagging Classifier Training Accuracy: 0.861\n"
     ]
    }
   ],
   "source": [
    "print(' Decision Tree /Bagging Classifier Training Accuracy:', bag_tree_clf.score(X_train, y_train))\n",
    "\n",
    "print(' Decision Tree /Bagging Classifier Training Accuracy:', bag_tree_clf.score(X_test, y_test))"
   ]
  },
  {
   "cell_type": "markdown",
   "metadata": {},
   "source": [
    "### Classification Model 4 - Random Forest Classifier"
   ]
  },
  {
   "cell_type": "code",
   "execution_count": 24,
   "metadata": {},
   "outputs": [],
   "source": [
    "# Model 4 (optional)\n",
    "# Enter your code here:\n",
    "#Random Forest Classifier\n",
    "\n",
    "depth_range = range(1,25)\n",
    "train_accuracy = []\n",
    "test_accuracy = []\n",
    "\n",
    "for d in depth_range:\n",
    "    rf_clf = ensemble.RandomForestClassifier(n_estimators =30, \n",
    "                                             criterion ='gini', \n",
    "                                             max_depth = d, \n",
    "                                             max_features = 4)\n",
    "    rf_clf.fit(X_train, y_train) \n",
    "    train_accuracy.append(rf_clf.score(X_train, y_train))\n",
    "    test_accuracy.append(rf_clf.score(X_test, y_test))\n",
    "    "
   ]
  },
  {
   "cell_type": "code",
   "execution_count": 25,
   "metadata": {},
   "outputs": [
    {
     "data": {
      "image/png": "[encoded data removed]",
      "text/plain": [
       "<Figure size 432x288 with 1 Axes>"
      ]
     },
     "metadata": {
      "needs_background": "light"
     },
     "output_type": "display_data"
    }
   ],
   "source": [
    "drawTrainingAndTestingAccuracyChart(depth_range,train_accuracy,  test_accuracy, 'Random Forest - Training and Testing Accuracy for range of depth', 'Max Depth', 'Accuracy')"
   ]
  },
  {
   "cell_type": "code",
   "execution_count": 26,
   "metadata": {},
   "outputs": [
    {
     "data": {
      "text/plain": [
       "8"
      ]
     },
     "execution_count": 26,
     "metadata": {},
     "output_type": "execute_result"
    }
   ],
   "source": [
    "#Depth which has best accuracy\n",
    "1+ np.argmax(test_accuracy)"
   ]
  },
  {
   "cell_type": "code",
   "execution_count": 27,
   "metadata": {},
   "outputs": [],
   "source": [
    "#n_estimators\n",
    "n_range = range(10, 100, 10) \n",
    "train_accuracy = []\n",
    "test_accuracy = []\n",
    "\n",
    "for n in n_range:\n",
    "    rf_clf = ensemble.RandomForestClassifier(n_estimators =n, \n",
    "                                             criterion ='gini', \n",
    "                                             max_depth = 8,  #max depth 8 has chosten based on the previous expreiment.\n",
    "                                             max_features =10)\n",
    "    rf_clf.fit(X_train, y_train) \n",
    "    train_accuracy.append(rf_clf.score(X_train, y_train))\n",
    "    test_accuracy.append(rf_clf.score(X_test, y_test))"
   ]
  },
  {
   "cell_type": "code",
   "execution_count": 28,
   "metadata": {},
   "outputs": [
    {
     "data": {
      "image/png": "[encoded data removed]",
      "text/plain": [
       "<Figure size 432x288 with 1 Axes>"
      ]
     },
     "metadata": {
      "needs_background": "light"
     },
     "output_type": "display_data"
    }
   ],
   "source": [
    "#draw the chart - accuracy vs estimators\n",
    "drawTrainingAndTestingAccuracyChart(n_range, train_accuracy,  test_accuracy, 'Random Forest - Training and Testing Accuracy for range of estimator', 'Estimator', 'Accuracy')"
   ]
  },
  {
   "cell_type": "code",
   "execution_count": 29,
   "metadata": {},
   "outputs": [
    {
     "data": {
      "text/plain": [
       "15"
      ]
     },
     "execution_count": 29,
     "metadata": {},
     "output_type": "execute_result"
    }
   ],
   "source": [
    "#Estimator which has best accuracy (add starting value)\n",
    "10 + np.argmax(test_accuracy)"
   ]
  },
  {
   "cell_type": "code",
   "execution_count": 30,
   "metadata": {},
   "outputs": [],
   "source": [
    "#max_features\n",
    "f_range = range(2,10)\n",
    "train_accuracy = []\n",
    "test_accuracy = []\n",
    "\n",
    "for f in f_range:\n",
    "    rf_clf = ensemble.RandomForestClassifier(n_estimators =15, #n_estimators 15 has chosten based on the previous expreiment.\n",
    "                                             criterion ='gini', \n",
    "                                             max_depth = 8, #max depth 8 has chosten based on the previous expreiment.\n",
    "                                             max_features =f)\n",
    "    rf_clf.fit(X_train, y_train) \n",
    "    train_accuracy.append(rf_clf.score(X_train, y_train))\n",
    "    test_accuracy.append(rf_clf.score(X_test, y_test))"
   ]
  },
  {
   "cell_type": "code",
   "execution_count": 31,
   "metadata": {},
   "outputs": [
    {
     "data": {
      "image/png": "[encoded data removed]",
      "text/plain": [
       "<Figure size 432x288 with 1 Axes>"
      ]
     },
     "metadata": {
      "needs_background": "light"
     },
     "output_type": "display_data"
    }
   ],
   "source": [
    "#draw the chart - accuracy vs estimators\n",
    "drawTrainingAndTestingAccuracyChart(f_range, train_accuracy,  test_accuracy, 'Random Forest - Training and Testing Accuracy for range of features(2 to 10 )', 'Features Count', 'Accuracy')"
   ]
  },
  {
   "cell_type": "code",
   "execution_count": 32,
   "metadata": {},
   "outputs": [
    {
     "data": {
      "text/plain": [
       "4"
      ]
     },
     "execution_count": 32,
     "metadata": {},
     "output_type": "execute_result"
    }
   ],
   "source": [
    "#features count which has best accuracy (add starting value)\n",
    "2 + np.argmax(test_accuracy)"
   ]
  },
  {
   "cell_type": "code",
   "execution_count": 33,
   "metadata": {},
   "outputs": [
    {
     "data": {
      "text/plain": [
       "RandomForestClassifier(max_depth=8, max_features=4, n_estimators=15)"
      ]
     },
     "execution_count": 33,
     "metadata": {},
     "output_type": "execute_result"
    }
   ],
   "source": [
    "#create Random Forest model with selected hypterparameters \n",
    "rf_clf_best = ensemble.RandomForestClassifier(n_estimators =15, #n_estimators 15 has chosten based on the previous expreiment.\n",
    "                                             criterion ='gini', \n",
    "                                             max_depth = 8, #max depth 8 has chosten based on the previous expreiment.\n",
    "                                             max_features =4)\n",
    "rf_clf_best.fit(X_train, y_train)"
   ]
  },
  {
   "cell_type": "code",
   "execution_count": 34,
   "metadata": {},
   "outputs": [
    {
     "name": "stdout",
     "output_type": "stream",
     "text": [
      " Random Forest Classifier Training Accuracy: 0.877625\n",
      " Random Forest Classifier Training Accuracy: 0.8585\n",
      "Selected Parameters <bound method BaseEstimator.get_params of RandomForestClassifier(max_depth=8, max_features=4, n_estimators=15)>\n"
     ]
    }
   ],
   "source": [
    "print(' Random Forest Classifier Training Accuracy:', rf_clf_best.score(X_train, y_train))\n",
    "\n",
    "print(' Random Forest Classifier Training Accuracy:', rf_clf_best.score(X_test, y_test))\n",
    "\n",
    "print('Selected Parameters', rf_clf_best.get_params)"
   ]
  },
  {
   "cell_type": "markdown",
   "metadata": {},
   "source": [
    "#### Classification Model 5 - Boosting Classifier"
   ]
  },
  {
   "cell_type": "code",
   "execution_count": 35,
   "metadata": {},
   "outputs": [
    {
     "name": "stderr",
     "output_type": "stream",
     "text": [
      "C:\\ProgramData\\Anaconda3\\lib\\site-packages\\xgboost\\sklearn.py:888: UserWarning: The use of label encoder in XGBClassifier is deprecated and will be removed in a future release. To remove this warning, do the following: 1) Pass option use_label_encoder=False when constructing XGBClassifier object; and 2) Encode your labels (y) as integers starting with 0, i.e. 0, 1, 2, ..., [num_class - 1].\n",
      "  warnings.warn(label_encoder_deprecation_msg, UserWarning)\n"
     ]
    },
    {
     "name": "stdout",
     "output_type": "stream",
     "text": [
      "[14:33:37] WARNING: ..\\src\\learner.cc:1061: Starting in XGBoost 1.3.0, the default evaluation metric used with the objective 'binary:logistic' was changed from 'error' to 'logloss'. Explicitly set eval_metric if you'd like to restore the old behavior.\n"
     ]
    },
    {
     "data": {
      "text/plain": [
       "XGBClassifier(base_score=0.5, booster='gbtree', colsample_bylevel=1,\n",
       "              colsample_bynode=1, colsample_bytree=1, gamma=0, gpu_id=-1,\n",
       "              importance_type='gain', interaction_constraints='',\n",
       "              learning_rate=0.300000012, max_delta_step=0, max_depth=6,\n",
       "              min_child_weight=1, missing=nan, monotone_constraints='()',\n",
       "              n_estimators=100, n_jobs=24, num_parallel_tree=1, random_state=0,\n",
       "              reg_alpha=0, reg_lambda=1, scale_pos_weight=1, subsample=1,\n",
       "              tree_method='exact', validate_parameters=1, verbosity=None)"
      ]
     },
     "execution_count": 35,
     "metadata": {},
     "output_type": "execute_result"
    }
   ],
   "source": [
    "# Model 5 (optional)\n",
    "# Enter your code here:\n",
    "\n",
    "#Extreme gradient boosting classifier \n",
    "\n",
    "xgb_clf = xgboost.XGBClassifier()\n",
    "xgb_clf.fit(X_train, y_train)\n",
    "\n"
   ]
  },
  {
   "cell_type": "code",
   "execution_count": 36,
   "metadata": {
    "scrolled": true
   },
   "outputs": [
    {
     "name": "stdout",
     "output_type": "stream",
     "text": [
      "Extreme Gradient Boosting Classifier Training Accuracy: 0.950375\n",
      "Extreme Gradient Boosting Training Accuracy: 0.8555\n",
      "Selected Parameters <bound method XGBModel.get_params of XGBClassifier(base_score=0.5, booster='gbtree', colsample_bylevel=1,\n",
      "              colsample_bynode=1, colsample_bytree=1, gamma=0, gpu_id=-1,\n",
      "              importance_type='gain', interaction_constraints='',\n",
      "              learning_rate=0.300000012, max_delta_step=0, max_depth=6,\n",
      "              min_child_weight=1, missing=nan, monotone_constraints='()',\n",
      "              n_estimators=100, n_jobs=24, num_parallel_tree=1, random_state=0,\n",
      "              reg_alpha=0, reg_lambda=1, scale_pos_weight=1, subsample=1,\n",
      "              tree_method='exact', validate_parameters=1, verbosity=None)>\n"
     ]
    }
   ],
   "source": [
    "print('Extreme Gradient Boosting Classifier Training Accuracy:', xgb_clf.score(X_train, y_train))\n",
    "\n",
    "print('Extreme Gradient Boosting Training Accuracy:', xgb_clf.score(X_test, y_test))\n",
    "print('Selected Parameters', xgb_clf.get_params)"
   ]
  },
  {
   "cell_type": "markdown",
   "metadata": {},
   "source": [
    "### Compare the models"
   ]
  },
  {
   "cell_type": "code",
   "execution_count": 37,
   "metadata": {},
   "outputs": [
    {
     "data": {
      "text/plain": [
       "<AxesSubplot:title={'center':'Train & Test Accuracy for different classification models'}>"
      ]
     },
     "execution_count": 37,
     "metadata": {},
     "output_type": "execute_result"
    },
    {
     "data": {
      "image/png": "[encoded data removed]",
      "text/plain": [
       "<Figure size 432x288 with 1 Axes>"
      ]
     },
     "metadata": {
      "needs_background": "light"
     },
     "output_type": "display_data"
    }
   ],
   "source": [
    "\n",
    "train_acc_arr = [svm_clf_best.score(X_train, y_train),\n",
    "                 knn_clf_best.score(X_train, y_train), \n",
    "                 bag_tree_clf.score(X_train, y_train), \n",
    "                 rf_clf_best.score(X_train, y_train), \n",
    "                 xgb_clf.score(X_train, y_train)]\n",
    "\n",
    "\n",
    "test_acc_arr =[svm_clf_best.score(X_test, y_test), \n",
    "               knn_clf_best.score(X_test, y_test), \n",
    "               bag_tree_clf.score(X_test, y_test), \n",
    "               rf_clf_best.score(X_test, y_test), \n",
    "               xgb_clf.score(X_test, y_test)]\n",
    "label =['SVM', 'KNN', 'Decision Tree', 'Random Forest', 'Boosting Classifier']\n",
    "\n",
    "df_acc = pd.DataFrame({'Training Accuracy': train_acc_arr,\n",
    "                   'Testing Accuracy': test_acc_arr}, index=label)\n",
    "\n",
    "df_acc.plot.bar(rot=0, ylim=[0.5, 1.1], title ='Train & Test Accuracy for different classification models')\n",
    "\n"
   ]
  },
  {
   "cell_type": "code",
   "execution_count": 38,
   "metadata": {},
   "outputs": [
    {
     "name": "stdout",
     "output_type": "stream",
     "text": [
      "['SVM', 'KNN', 'Decision Tree', 'Random Forest', 'Boosting Classifier']\n",
      "[0.863, 0.843, 0.861, 0.8585, 0.8555]\n"
     ]
    }
   ],
   "source": [
    "print(label)\n",
    "print(test_acc_arr)"
   ]
  },
  {
   "cell_type": "markdown",
   "metadata": {},
   "source": [
    "### Step 3: Recommend the Best Model and Explain the Reasons"
   ]
  },
  {
   "cell_type": "markdown",
   "metadata": {},
   "source": [
    "Explain your answer here:\n",
    "\n"
   ]
  },
  {
   "cell_type": "code",
   "execution_count": 39,
   "metadata": {},
   "outputs": [
    {
     "data": {
      "text/plain": [
       "0"
      ]
     },
     "execution_count": 39,
     "metadata": {},
     "output_type": "execute_result"
    }
   ],
   "source": [
    "#select the best model using the test accuracy \n",
    "# 0 index refers the SVM model \n",
    "np.argmax(test_acc_arr)"
   ]
  },
  {
   "cell_type": "code",
   "execution_count": 40,
   "metadata": {},
   "outputs": [
    {
     "name": "stdout",
     "output_type": "stream",
     "text": [
      "SVM Training Accuracy :  0.863875\n",
      "SVM Testing Accuracy :  0.863\n"
     ]
    }
   ],
   "source": [
    "#training accuracy using best SVM Model\n",
    "svm_train_acc = svm_clf_best.score(X_train, y_train)\n",
    "print('SVM Training Accuracy : ', svm_train_acc)\n",
    "\n",
    "#testing accuracy using best SVM Model\n",
    "svm_test_acc = svm_clf_best.score(X_test, y_test)\n",
    "print('SVM Testing Accuracy : ', svm_test_acc)"
   ]
  },
  {
   "cell_type": "markdown",
   "metadata": {},
   "source": [
    "Recommendation \n",
    "===============\n",
    "#### Upon comparing the performance of five machine learning models ('SVM', 'KNN', 'Decision Tree', 'Random Forest' and 'Boosting Classifier'), SVM classifier gives better performance comparing with other models. \n",
    "#### So SVM based model has been selected as a best classifier for the given bank dataset. \n"
   ]
  },
  {
   "cell_type": "markdown",
   "metadata": {},
   "source": [
    "### Step 4: Use the best model to make prediction\n",
    "Make prediction on the test data and provide the error analysis on the results (e.g. confusion matrix, precision & recall and etc.)\n"
   ]
  },
  {
   "cell_type": "code",
   "execution_count": 41,
   "metadata": {},
   "outputs": [
    {
     "data": {
      "text/plain": [
       "array([0, 0, 1, ..., 0, 0, 0], dtype=int64)"
      ]
     },
     "execution_count": 41,
     "metadata": {},
     "output_type": "execute_result"
    }
   ],
   "source": [
    "# Enter your code here:\n",
    "\n",
    "#predict test data\n",
    "y_pred = svm_clf_best.predict(X_test)\n",
    "\n",
    "y_pred"
   ]
  },
  {
   "cell_type": "code",
   "execution_count": 42,
   "metadata": {},
   "outputs": [
    {
     "data": {
      "text/plain": [
       "array([[1566,   39],\n",
       "       [ 235,  160]], dtype=int64)"
      ]
     },
     "execution_count": 42,
     "metadata": {},
     "output_type": "execute_result"
    }
   ],
   "source": [
    "# Confusion Matrix - y test vs y pred\n",
    "confusion_matrix(y_test, y_pred)"
   ]
  },
  {
   "cell_type": "code",
   "execution_count": 43,
   "metadata": {},
   "outputs": [
    {
     "name": "stdout",
     "output_type": "stream",
     "text": [
      "              precision    recall  f1-score   support\n",
      "\n",
      "           0       0.87      0.98      0.92      1605\n",
      "           1       0.80      0.41      0.54       395\n",
      "\n",
      "    accuracy                           0.86      2000\n",
      "   macro avg       0.84      0.69      0.73      2000\n",
      "weighted avg       0.86      0.86      0.84      2000\n",
      "\n"
     ]
    }
   ],
   "source": [
    "# Classification Report - y test vs y pred\n",
    "print(classification_report(y_test, y_pred))"
   ]
  },
  {
   "cell_type": "markdown",
   "metadata": {},
   "source": [
    "### Step 5: Save the Best Model for Future Use"
   ]
  },
  {
   "cell_type": "code",
   "execution_count": 44,
   "metadata": {},
   "outputs": [
    {
     "data": {
      "text/plain": [
       "['best_classification_model.pkl']"
      ]
     },
     "execution_count": 44,
     "metadata": {},
     "output_type": "execute_result"
    }
   ],
   "source": [
    "# Enter your code here:\n",
    "joblib.dump(svm_clf_best, \"best_classification_model.pkl\")\n"
   ]
  },
  {
   "cell_type": "markdown",
   "metadata": {},
   "source": [
    "## 2. Regression Problem: Housing Price Prediction"
   ]
  },
  {
   "cell_type": "markdown",
   "metadata": {},
   "source": [
    "Selected Regression Approaches \n",
    "===========================\n",
    "1. Support Vector Machine(SVM) /GridSearchCV\n",
    "2. K-Nearest Neighbours (KNN) /GridSearchCV\n",
    "3. Decision Tree /Bagging Regressor \n",
    "4. Random Forest Regressor\n",
    "5. Boosting Regressor\n"
   ]
  },
  {
   "cell_type": "markdown",
   "metadata": {},
   "source": [
    "### Step 1: Import Data and Perform Data Preparation"
   ]
  },
  {
   "cell_type": "code",
   "execution_count": 45,
   "metadata": {},
   "outputs": [
    {
     "data": {
      "text/html": [
       "<div>\n",
       "<style scoped>\n",
       "    .dataframe tbody tr th:only-of-type {\n",
       "        vertical-align: middle;\n",
       "    }\n",
       "\n",
       "    .dataframe tbody tr th {\n",
       "        vertical-align: top;\n",
       "    }\n",
       "\n",
       "    .dataframe thead th {\n",
       "        text-align: right;\n",
       "    }\n",
       "</style>\n",
       "<table border=\"1\" class=\"dataframe\">\n",
       "  <thead>\n",
       "    <tr style=\"text-align: right;\">\n",
       "      <th></th>\n",
       "      <th>date</th>\n",
       "      <th>price</th>\n",
       "      <th>bedrooms</th>\n",
       "      <th>bathrooms</th>\n",
       "      <th>sqft_living</th>\n",
       "      <th>sqft_lot</th>\n",
       "      <th>floors</th>\n",
       "      <th>waterfront</th>\n",
       "      <th>view</th>\n",
       "      <th>condition</th>\n",
       "      <th>sqft_above</th>\n",
       "      <th>sqft_basement</th>\n",
       "      <th>yr_built</th>\n",
       "      <th>yr_renovated</th>\n",
       "      <th>street</th>\n",
       "      <th>city</th>\n",
       "      <th>statezip</th>\n",
       "      <th>country</th>\n",
       "    </tr>\n",
       "  </thead>\n",
       "  <tbody>\n",
       "    <tr>\n",
       "      <th>0</th>\n",
       "      <td>2014-05-02 00:00:00</td>\n",
       "      <td>313000.0</td>\n",
       "      <td>3.0</td>\n",
       "      <td>1.50</td>\n",
       "      <td>1340</td>\n",
       "      <td>7912</td>\n",
       "      <td>1.5</td>\n",
       "      <td>0</td>\n",
       "      <td>0</td>\n",
       "      <td>3</td>\n",
       "      <td>1340</td>\n",
       "      <td>0</td>\n",
       "      <td>1955</td>\n",
       "      <td>2005</td>\n",
       "      <td>18810 Densmore Ave N</td>\n",
       "      <td>Shoreline</td>\n",
       "      <td>WA 98133</td>\n",
       "      <td>USA</td>\n",
       "    </tr>\n",
       "    <tr>\n",
       "      <th>1</th>\n",
       "      <td>2014-05-02 00:00:00</td>\n",
       "      <td>342000.0</td>\n",
       "      <td>3.0</td>\n",
       "      <td>2.00</td>\n",
       "      <td>1930</td>\n",
       "      <td>11947</td>\n",
       "      <td>1.0</td>\n",
       "      <td>0</td>\n",
       "      <td>0</td>\n",
       "      <td>4</td>\n",
       "      <td>1930</td>\n",
       "      <td>0</td>\n",
       "      <td>1966</td>\n",
       "      <td>0</td>\n",
       "      <td>26206-26214 143rd Ave SE</td>\n",
       "      <td>Kent</td>\n",
       "      <td>WA 98042</td>\n",
       "      <td>USA</td>\n",
       "    </tr>\n",
       "    <tr>\n",
       "      <th>2</th>\n",
       "      <td>2014-05-02 00:00:00</td>\n",
       "      <td>420000.0</td>\n",
       "      <td>3.0</td>\n",
       "      <td>2.25</td>\n",
       "      <td>2000</td>\n",
       "      <td>8030</td>\n",
       "      <td>1.0</td>\n",
       "      <td>0</td>\n",
       "      <td>0</td>\n",
       "      <td>4</td>\n",
       "      <td>1000</td>\n",
       "      <td>1000</td>\n",
       "      <td>1963</td>\n",
       "      <td>0</td>\n",
       "      <td>857 170th Pl NE</td>\n",
       "      <td>Bellevue</td>\n",
       "      <td>WA 98008</td>\n",
       "      <td>USA</td>\n",
       "    </tr>\n",
       "    <tr>\n",
       "      <th>3</th>\n",
       "      <td>2014-05-02 00:00:00</td>\n",
       "      <td>490000.0</td>\n",
       "      <td>2.0</td>\n",
       "      <td>1.00</td>\n",
       "      <td>880</td>\n",
       "      <td>6380</td>\n",
       "      <td>1.0</td>\n",
       "      <td>0</td>\n",
       "      <td>0</td>\n",
       "      <td>3</td>\n",
       "      <td>880</td>\n",
       "      <td>0</td>\n",
       "      <td>1938</td>\n",
       "      <td>1994</td>\n",
       "      <td>522 NE 88th St</td>\n",
       "      <td>Seattle</td>\n",
       "      <td>WA 98115</td>\n",
       "      <td>USA</td>\n",
       "    </tr>\n",
       "    <tr>\n",
       "      <th>4</th>\n",
       "      <td>2014-05-02 00:00:00</td>\n",
       "      <td>335000.0</td>\n",
       "      <td>2.0</td>\n",
       "      <td>2.00</td>\n",
       "      <td>1350</td>\n",
       "      <td>2560</td>\n",
       "      <td>1.0</td>\n",
       "      <td>0</td>\n",
       "      <td>0</td>\n",
       "      <td>3</td>\n",
       "      <td>1350</td>\n",
       "      <td>0</td>\n",
       "      <td>1976</td>\n",
       "      <td>0</td>\n",
       "      <td>2616 174th Ave NE</td>\n",
       "      <td>Redmond</td>\n",
       "      <td>WA 98052</td>\n",
       "      <td>USA</td>\n",
       "    </tr>\n",
       "  </tbody>\n",
       "</table>\n",
       "</div>"
      ],
      "text/plain": [
       "                  date     price  bedrooms  bathrooms  sqft_living  sqft_lot  \\\n",
       "0  2014-05-02 00:00:00  313000.0       3.0       1.50         1340      7912   \n",
       "1  2014-05-02 00:00:00  342000.0       3.0       2.00         1930     11947   \n",
       "2  2014-05-02 00:00:00  420000.0       3.0       2.25         2000      8030   \n",
       "3  2014-05-02 00:00:00  490000.0       2.0       1.00          880      6380   \n",
       "4  2014-05-02 00:00:00  335000.0       2.0       2.00         1350      2560   \n",
       "\n",
       "   floors  waterfront  view  condition  sqft_above  sqft_basement  yr_built  \\\n",
       "0     1.5           0     0          3        1340              0      1955   \n",
       "1     1.0           0     0          4        1930              0      1966   \n",
       "2     1.0           0     0          4        1000           1000      1963   \n",
       "3     1.0           0     0          3         880              0      1938   \n",
       "4     1.0           0     0          3        1350              0      1976   \n",
       "\n",
       "   yr_renovated                    street       city  statezip country  \n",
       "0          2005      18810 Densmore Ave N  Shoreline  WA 98133     USA  \n",
       "1             0  26206-26214 143rd Ave SE       Kent  WA 98042     USA  \n",
       "2             0           857 170th Pl NE   Bellevue  WA 98008     USA  \n",
       "3          1994            522 NE 88th St    Seattle  WA 98115     USA  \n",
       "4             0         2616 174th Ave NE    Redmond  WA 98052     USA  "
      ]
     },
     "execution_count": 45,
     "metadata": {},
     "output_type": "execute_result"
    }
   ],
   "source": [
    "# Enter your code here:\n",
    "houseDatasetOriginal = pd.read_csv(\"house_price.csv\")\n",
    "houseDatasetOriginal.head()"
   ]
  },
  {
   "cell_type": "code",
   "execution_count": 46,
   "metadata": {},
   "outputs": [
    {
     "data": {
      "text/html": [
       "<div>\n",
       "<style scoped>\n",
       "    .dataframe tbody tr th:only-of-type {\n",
       "        vertical-align: middle;\n",
       "    }\n",
       "\n",
       "    .dataframe tbody tr th {\n",
       "        vertical-align: top;\n",
       "    }\n",
       "\n",
       "    .dataframe thead th {\n",
       "        text-align: right;\n",
       "    }\n",
       "</style>\n",
       "<table border=\"1\" class=\"dataframe\">\n",
       "  <thead>\n",
       "    <tr style=\"text-align: right;\">\n",
       "      <th></th>\n",
       "      <th>date</th>\n",
       "      <th>price</th>\n",
       "      <th>bedrooms</th>\n",
       "      <th>bathrooms</th>\n",
       "      <th>sqft_living</th>\n",
       "      <th>sqft_lot</th>\n",
       "      <th>floors</th>\n",
       "      <th>waterfront</th>\n",
       "      <th>view</th>\n",
       "      <th>condition</th>\n",
       "      <th>sqft_above</th>\n",
       "      <th>sqft_basement</th>\n",
       "      <th>yr_built</th>\n",
       "      <th>yr_renovated</th>\n",
       "      <th>street</th>\n",
       "      <th>city</th>\n",
       "      <th>statezip</th>\n",
       "    </tr>\n",
       "  </thead>\n",
       "  <tbody>\n",
       "    <tr>\n",
       "      <th>0</th>\n",
       "      <td>2014-05-02 00:00:00</td>\n",
       "      <td>313000.0</td>\n",
       "      <td>3.0</td>\n",
       "      <td>1.50</td>\n",
       "      <td>1340</td>\n",
       "      <td>7912</td>\n",
       "      <td>1.5</td>\n",
       "      <td>0</td>\n",
       "      <td>0</td>\n",
       "      <td>3</td>\n",
       "      <td>1340</td>\n",
       "      <td>0</td>\n",
       "      <td>1955</td>\n",
       "      <td>2005</td>\n",
       "      <td>18810 Densmore Ave N</td>\n",
       "      <td>Shoreline</td>\n",
       "      <td>WA 98133</td>\n",
       "    </tr>\n",
       "    <tr>\n",
       "      <th>1</th>\n",
       "      <td>2014-05-02 00:00:00</td>\n",
       "      <td>342000.0</td>\n",
       "      <td>3.0</td>\n",
       "      <td>2.00</td>\n",
       "      <td>1930</td>\n",
       "      <td>11947</td>\n",
       "      <td>1.0</td>\n",
       "      <td>0</td>\n",
       "      <td>0</td>\n",
       "      <td>4</td>\n",
       "      <td>1930</td>\n",
       "      <td>0</td>\n",
       "      <td>1966</td>\n",
       "      <td>0</td>\n",
       "      <td>26206-26214 143rd Ave SE</td>\n",
       "      <td>Kent</td>\n",
       "      <td>WA 98042</td>\n",
       "    </tr>\n",
       "    <tr>\n",
       "      <th>2</th>\n",
       "      <td>2014-05-02 00:00:00</td>\n",
       "      <td>420000.0</td>\n",
       "      <td>3.0</td>\n",
       "      <td>2.25</td>\n",
       "      <td>2000</td>\n",
       "      <td>8030</td>\n",
       "      <td>1.0</td>\n",
       "      <td>0</td>\n",
       "      <td>0</td>\n",
       "      <td>4</td>\n",
       "      <td>1000</td>\n",
       "      <td>1000</td>\n",
       "      <td>1963</td>\n",
       "      <td>0</td>\n",
       "      <td>857 170th Pl NE</td>\n",
       "      <td>Bellevue</td>\n",
       "      <td>WA 98008</td>\n",
       "    </tr>\n",
       "    <tr>\n",
       "      <th>3</th>\n",
       "      <td>2014-05-02 00:00:00</td>\n",
       "      <td>490000.0</td>\n",
       "      <td>2.0</td>\n",
       "      <td>1.00</td>\n",
       "      <td>880</td>\n",
       "      <td>6380</td>\n",
       "      <td>1.0</td>\n",
       "      <td>0</td>\n",
       "      <td>0</td>\n",
       "      <td>3</td>\n",
       "      <td>880</td>\n",
       "      <td>0</td>\n",
       "      <td>1938</td>\n",
       "      <td>1994</td>\n",
       "      <td>522 NE 88th St</td>\n",
       "      <td>Seattle</td>\n",
       "      <td>WA 98115</td>\n",
       "    </tr>\n",
       "    <tr>\n",
       "      <th>4</th>\n",
       "      <td>2014-05-02 00:00:00</td>\n",
       "      <td>335000.0</td>\n",
       "      <td>2.0</td>\n",
       "      <td>2.00</td>\n",
       "      <td>1350</td>\n",
       "      <td>2560</td>\n",
       "      <td>1.0</td>\n",
       "      <td>0</td>\n",
       "      <td>0</td>\n",
       "      <td>3</td>\n",
       "      <td>1350</td>\n",
       "      <td>0</td>\n",
       "      <td>1976</td>\n",
       "      <td>0</td>\n",
       "      <td>2616 174th Ave NE</td>\n",
       "      <td>Redmond</td>\n",
       "      <td>WA 98052</td>\n",
       "    </tr>\n",
       "  </tbody>\n",
       "</table>\n",
       "</div>"
      ],
      "text/plain": [
       "                  date     price  bedrooms  bathrooms  sqft_living  sqft_lot  \\\n",
       "0  2014-05-02 00:00:00  313000.0       3.0       1.50         1340      7912   \n",
       "1  2014-05-02 00:00:00  342000.0       3.0       2.00         1930     11947   \n",
       "2  2014-05-02 00:00:00  420000.0       3.0       2.25         2000      8030   \n",
       "3  2014-05-02 00:00:00  490000.0       2.0       1.00          880      6380   \n",
       "4  2014-05-02 00:00:00  335000.0       2.0       2.00         1350      2560   \n",
       "\n",
       "   floors  waterfront  view  condition  sqft_above  sqft_basement  yr_built  \\\n",
       "0     1.5           0     0          3        1340              0      1955   \n",
       "1     1.0           0     0          4        1930              0      1966   \n",
       "2     1.0           0     0          4        1000           1000      1963   \n",
       "3     1.0           0     0          3         880              0      1938   \n",
       "4     1.0           0     0          3        1350              0      1976   \n",
       "\n",
       "   yr_renovated                    street       city  statezip  \n",
       "0          2005      18810 Densmore Ave N  Shoreline  WA 98133  \n",
       "1             0  26206-26214 143rd Ave SE       Kent  WA 98042  \n",
       "2             0           857 170th Pl NE   Bellevue  WA 98008  \n",
       "3          1994            522 NE 88th St    Seattle  WA 98115  \n",
       "4             0         2616 174th Ave NE    Redmond  WA 98052  "
      ]
     },
     "execution_count": 46,
     "metadata": {},
     "output_type": "execute_result"
    }
   ],
   "source": [
    "# Country column has only one value \"USA\". so it will not contribute any accuracy to the model. \n",
    "# So remove the country column\n",
    "houseDataset = houseDatasetOriginal.drop([\"country\"], axis=1)\n",
    "houseDataset.head()"
   ]
  },
  {
   "cell_type": "code",
   "execution_count": 47,
   "metadata": {},
   "outputs": [
    {
     "data": {
      "text/html": [
       "<div>\n",
       "<style scoped>\n",
       "    .dataframe tbody tr th:only-of-type {\n",
       "        vertical-align: middle;\n",
       "    }\n",
       "\n",
       "    .dataframe tbody tr th {\n",
       "        vertical-align: top;\n",
       "    }\n",
       "\n",
       "    .dataframe thead th {\n",
       "        text-align: right;\n",
       "    }\n",
       "</style>\n",
       "<table border=\"1\" class=\"dataframe\">\n",
       "  <thead>\n",
       "    <tr style=\"text-align: right;\">\n",
       "      <th></th>\n",
       "      <th>date</th>\n",
       "      <th>price</th>\n",
       "      <th>bedrooms</th>\n",
       "      <th>bathrooms</th>\n",
       "      <th>sqft_living</th>\n",
       "      <th>sqft_lot</th>\n",
       "      <th>floors</th>\n",
       "      <th>waterfront</th>\n",
       "      <th>view</th>\n",
       "      <th>condition</th>\n",
       "      <th>sqft_above</th>\n",
       "      <th>sqft_basement</th>\n",
       "      <th>yr_built</th>\n",
       "      <th>yr_renovated</th>\n",
       "      <th>street</th>\n",
       "      <th>city</th>\n",
       "      <th>statezip</th>\n",
       "      <th>day</th>\n",
       "      <th>month</th>\n",
       "      <th>year</th>\n",
       "    </tr>\n",
       "  </thead>\n",
       "  <tbody>\n",
       "    <tr>\n",
       "      <th>0</th>\n",
       "      <td>2014-05-02</td>\n",
       "      <td>313000.0</td>\n",
       "      <td>3.0</td>\n",
       "      <td>1.50</td>\n",
       "      <td>1340</td>\n",
       "      <td>7912</td>\n",
       "      <td>1.5</td>\n",
       "      <td>0</td>\n",
       "      <td>0</td>\n",
       "      <td>3</td>\n",
       "      <td>1340</td>\n",
       "      <td>0</td>\n",
       "      <td>1955</td>\n",
       "      <td>2005</td>\n",
       "      <td>18810 Densmore Ave N</td>\n",
       "      <td>Shoreline</td>\n",
       "      <td>WA 98133</td>\n",
       "      <td>2</td>\n",
       "      <td>5</td>\n",
       "      <td>2014</td>\n",
       "    </tr>\n",
       "    <tr>\n",
       "      <th>1</th>\n",
       "      <td>2014-05-02</td>\n",
       "      <td>342000.0</td>\n",
       "      <td>3.0</td>\n",
       "      <td>2.00</td>\n",
       "      <td>1930</td>\n",
       "      <td>11947</td>\n",
       "      <td>1.0</td>\n",
       "      <td>0</td>\n",
       "      <td>0</td>\n",
       "      <td>4</td>\n",
       "      <td>1930</td>\n",
       "      <td>0</td>\n",
       "      <td>1966</td>\n",
       "      <td>0</td>\n",
       "      <td>26206-26214 143rd Ave SE</td>\n",
       "      <td>Kent</td>\n",
       "      <td>WA 98042</td>\n",
       "      <td>2</td>\n",
       "      <td>5</td>\n",
       "      <td>2014</td>\n",
       "    </tr>\n",
       "    <tr>\n",
       "      <th>2</th>\n",
       "      <td>2014-05-02</td>\n",
       "      <td>420000.0</td>\n",
       "      <td>3.0</td>\n",
       "      <td>2.25</td>\n",
       "      <td>2000</td>\n",
       "      <td>8030</td>\n",
       "      <td>1.0</td>\n",
       "      <td>0</td>\n",
       "      <td>0</td>\n",
       "      <td>4</td>\n",
       "      <td>1000</td>\n",
       "      <td>1000</td>\n",
       "      <td>1963</td>\n",
       "      <td>0</td>\n",
       "      <td>857 170th Pl NE</td>\n",
       "      <td>Bellevue</td>\n",
       "      <td>WA 98008</td>\n",
       "      <td>2</td>\n",
       "      <td>5</td>\n",
       "      <td>2014</td>\n",
       "    </tr>\n",
       "    <tr>\n",
       "      <th>3</th>\n",
       "      <td>2014-05-02</td>\n",
       "      <td>490000.0</td>\n",
       "      <td>2.0</td>\n",
       "      <td>1.00</td>\n",
       "      <td>880</td>\n",
       "      <td>6380</td>\n",
       "      <td>1.0</td>\n",
       "      <td>0</td>\n",
       "      <td>0</td>\n",
       "      <td>3</td>\n",
       "      <td>880</td>\n",
       "      <td>0</td>\n",
       "      <td>1938</td>\n",
       "      <td>1994</td>\n",
       "      <td>522 NE 88th St</td>\n",
       "      <td>Seattle</td>\n",
       "      <td>WA 98115</td>\n",
       "      <td>2</td>\n",
       "      <td>5</td>\n",
       "      <td>2014</td>\n",
       "    </tr>\n",
       "    <tr>\n",
       "      <th>4</th>\n",
       "      <td>2014-05-02</td>\n",
       "      <td>335000.0</td>\n",
       "      <td>2.0</td>\n",
       "      <td>2.00</td>\n",
       "      <td>1350</td>\n",
       "      <td>2560</td>\n",
       "      <td>1.0</td>\n",
       "      <td>0</td>\n",
       "      <td>0</td>\n",
       "      <td>3</td>\n",
       "      <td>1350</td>\n",
       "      <td>0</td>\n",
       "      <td>1976</td>\n",
       "      <td>0</td>\n",
       "      <td>2616 174th Ave NE</td>\n",
       "      <td>Redmond</td>\n",
       "      <td>WA 98052</td>\n",
       "      <td>2</td>\n",
       "      <td>5</td>\n",
       "      <td>2014</td>\n",
       "    </tr>\n",
       "  </tbody>\n",
       "</table>\n",
       "</div>"
      ],
      "text/plain": [
       "        date     price  bedrooms  bathrooms  sqft_living  sqft_lot  floors  \\\n",
       "0 2014-05-02  313000.0       3.0       1.50         1340      7912     1.5   \n",
       "1 2014-05-02  342000.0       3.0       2.00         1930     11947     1.0   \n",
       "2 2014-05-02  420000.0       3.0       2.25         2000      8030     1.0   \n",
       "3 2014-05-02  490000.0       2.0       1.00          880      6380     1.0   \n",
       "4 2014-05-02  335000.0       2.0       2.00         1350      2560     1.0   \n",
       "\n",
       "   waterfront  view  condition  sqft_above  sqft_basement  yr_built  \\\n",
       "0           0     0          3        1340              0      1955   \n",
       "1           0     0          4        1930              0      1966   \n",
       "2           0     0          4        1000           1000      1963   \n",
       "3           0     0          3         880              0      1938   \n",
       "4           0     0          3        1350              0      1976   \n",
       "\n",
       "   yr_renovated                    street       city  statezip  day  month  \\\n",
       "0          2005      18810 Densmore Ave N  Shoreline  WA 98133    2      5   \n",
       "1             0  26206-26214 143rd Ave SE       Kent  WA 98042    2      5   \n",
       "2             0           857 170th Pl NE   Bellevue  WA 98008    2      5   \n",
       "3          1994            522 NE 88th St    Seattle  WA 98115    2      5   \n",
       "4             0         2616 174th Ave NE    Redmond  WA 98052    2      5   \n",
       "\n",
       "   year  \n",
       "0  2014  \n",
       "1  2014  \n",
       "2  2014  \n",
       "3  2014  \n",
       "4  2014  "
      ]
     },
     "execution_count": 47,
     "metadata": {},
     "output_type": "execute_result"
    }
   ],
   "source": [
    "#divide the date into years, month and day\n",
    "houseDataset[\"date\"] = pd.to_datetime(houseDataset['date'])\n",
    "houseDataset[\"day\"] = houseDataset[\"date\"].apply(lambda date:date.day)\n",
    "houseDataset[\"month\"] = houseDataset[\"date\"].apply(lambda date:date.month)\n",
    "houseDataset[\"year\"] = houseDataset[\"date\"].apply(lambda date:date.year)\n",
    "houseDataset.head()"
   ]
  },
  {
   "cell_type": "code",
   "execution_count": 48,
   "metadata": {},
   "outputs": [
    {
     "data": {
      "text/html": [
       "<div>\n",
       "<style scoped>\n",
       "    .dataframe tbody tr th:only-of-type {\n",
       "        vertical-align: middle;\n",
       "    }\n",
       "\n",
       "    .dataframe tbody tr th {\n",
       "        vertical-align: top;\n",
       "    }\n",
       "\n",
       "    .dataframe thead th {\n",
       "        text-align: right;\n",
       "    }\n",
       "</style>\n",
       "<table border=\"1\" class=\"dataframe\">\n",
       "  <thead>\n",
       "    <tr style=\"text-align: right;\">\n",
       "      <th></th>\n",
       "      <th>price</th>\n",
       "      <th>bedrooms</th>\n",
       "      <th>bathrooms</th>\n",
       "      <th>sqft_living</th>\n",
       "      <th>sqft_lot</th>\n",
       "      <th>floors</th>\n",
       "      <th>waterfront</th>\n",
       "      <th>view</th>\n",
       "      <th>condition</th>\n",
       "      <th>sqft_above</th>\n",
       "      <th>sqft_basement</th>\n",
       "      <th>yr_built</th>\n",
       "      <th>yr_renovated</th>\n",
       "      <th>street</th>\n",
       "      <th>city</th>\n",
       "      <th>statezip</th>\n",
       "      <th>day</th>\n",
       "      <th>month</th>\n",
       "      <th>year</th>\n",
       "    </tr>\n",
       "  </thead>\n",
       "  <tbody>\n",
       "    <tr>\n",
       "      <th>0</th>\n",
       "      <td>313000.0</td>\n",
       "      <td>3.0</td>\n",
       "      <td>1.50</td>\n",
       "      <td>1340</td>\n",
       "      <td>7912</td>\n",
       "      <td>1.5</td>\n",
       "      <td>0</td>\n",
       "      <td>0</td>\n",
       "      <td>3</td>\n",
       "      <td>1340</td>\n",
       "      <td>0</td>\n",
       "      <td>1955</td>\n",
       "      <td>2005</td>\n",
       "      <td>18810 Densmore Ave N</td>\n",
       "      <td>Shoreline</td>\n",
       "      <td>WA 98133</td>\n",
       "      <td>2</td>\n",
       "      <td>5</td>\n",
       "      <td>2014</td>\n",
       "    </tr>\n",
       "    <tr>\n",
       "      <th>1</th>\n",
       "      <td>342000.0</td>\n",
       "      <td>3.0</td>\n",
       "      <td>2.00</td>\n",
       "      <td>1930</td>\n",
       "      <td>11947</td>\n",
       "      <td>1.0</td>\n",
       "      <td>0</td>\n",
       "      <td>0</td>\n",
       "      <td>4</td>\n",
       "      <td>1930</td>\n",
       "      <td>0</td>\n",
       "      <td>1966</td>\n",
       "      <td>0</td>\n",
       "      <td>26206-26214 143rd Ave SE</td>\n",
       "      <td>Kent</td>\n",
       "      <td>WA 98042</td>\n",
       "      <td>2</td>\n",
       "      <td>5</td>\n",
       "      <td>2014</td>\n",
       "    </tr>\n",
       "    <tr>\n",
       "      <th>2</th>\n",
       "      <td>420000.0</td>\n",
       "      <td>3.0</td>\n",
       "      <td>2.25</td>\n",
       "      <td>2000</td>\n",
       "      <td>8030</td>\n",
       "      <td>1.0</td>\n",
       "      <td>0</td>\n",
       "      <td>0</td>\n",
       "      <td>4</td>\n",
       "      <td>1000</td>\n",
       "      <td>1000</td>\n",
       "      <td>1963</td>\n",
       "      <td>0</td>\n",
       "      <td>857 170th Pl NE</td>\n",
       "      <td>Bellevue</td>\n",
       "      <td>WA 98008</td>\n",
       "      <td>2</td>\n",
       "      <td>5</td>\n",
       "      <td>2014</td>\n",
       "    </tr>\n",
       "    <tr>\n",
       "      <th>3</th>\n",
       "      <td>490000.0</td>\n",
       "      <td>2.0</td>\n",
       "      <td>1.00</td>\n",
       "      <td>880</td>\n",
       "      <td>6380</td>\n",
       "      <td>1.0</td>\n",
       "      <td>0</td>\n",
       "      <td>0</td>\n",
       "      <td>3</td>\n",
       "      <td>880</td>\n",
       "      <td>0</td>\n",
       "      <td>1938</td>\n",
       "      <td>1994</td>\n",
       "      <td>522 NE 88th St</td>\n",
       "      <td>Seattle</td>\n",
       "      <td>WA 98115</td>\n",
       "      <td>2</td>\n",
       "      <td>5</td>\n",
       "      <td>2014</td>\n",
       "    </tr>\n",
       "    <tr>\n",
       "      <th>4</th>\n",
       "      <td>335000.0</td>\n",
       "      <td>2.0</td>\n",
       "      <td>2.00</td>\n",
       "      <td>1350</td>\n",
       "      <td>2560</td>\n",
       "      <td>1.0</td>\n",
       "      <td>0</td>\n",
       "      <td>0</td>\n",
       "      <td>3</td>\n",
       "      <td>1350</td>\n",
       "      <td>0</td>\n",
       "      <td>1976</td>\n",
       "      <td>0</td>\n",
       "      <td>2616 174th Ave NE</td>\n",
       "      <td>Redmond</td>\n",
       "      <td>WA 98052</td>\n",
       "      <td>2</td>\n",
       "      <td>5</td>\n",
       "      <td>2014</td>\n",
       "    </tr>\n",
       "  </tbody>\n",
       "</table>\n",
       "</div>"
      ],
      "text/plain": [
       "      price  bedrooms  bathrooms  sqft_living  sqft_lot  floors  waterfront  \\\n",
       "0  313000.0       3.0       1.50         1340      7912     1.5           0   \n",
       "1  342000.0       3.0       2.00         1930     11947     1.0           0   \n",
       "2  420000.0       3.0       2.25         2000      8030     1.0           0   \n",
       "3  490000.0       2.0       1.00          880      6380     1.0           0   \n",
       "4  335000.0       2.0       2.00         1350      2560     1.0           0   \n",
       "\n",
       "   view  condition  sqft_above  sqft_basement  yr_built  yr_renovated  \\\n",
       "0     0          3        1340              0      1955          2005   \n",
       "1     0          4        1930              0      1966             0   \n",
       "2     0          4        1000           1000      1963             0   \n",
       "3     0          3         880              0      1938          1994   \n",
       "4     0          3        1350              0      1976             0   \n",
       "\n",
       "                     street       city  statezip  day  month  year  \n",
       "0      18810 Densmore Ave N  Shoreline  WA 98133    2      5  2014  \n",
       "1  26206-26214 143rd Ave SE       Kent  WA 98042    2      5  2014  \n",
       "2           857 170th Pl NE   Bellevue  WA 98008    2      5  2014  \n",
       "3            522 NE 88th St    Seattle  WA 98115    2      5  2014  \n",
       "4         2616 174th Ave NE    Redmond  WA 98052    2      5  2014  "
      ]
     },
     "execution_count": 48,
     "metadata": {},
     "output_type": "execute_result"
    }
   ],
   "source": [
    "#remove the date column as day, month, year are captured in different columns\n",
    "houseDataset = houseDataset.drop(\"date\", axis=1)\n",
    "houseDataset.head()"
   ]
  },
  {
   "cell_type": "code",
   "execution_count": 49,
   "metadata": {},
   "outputs": [
    {
     "name": "stdout",
     "output_type": "stream",
     "text": [
      "street :\n",
      "Index(['1 View Ln NE', '100 24th Ave E', '1000 Mountain View Blvd SE',\n",
      "       '10000-10026 S 100th St', '10005 16th Ave S', '10009 SE 247th Pl',\n",
      "       '1001 SW 102nd St', '1001 Whitman Ct NE', '10010 37th Ave SW',\n",
      "       '10010 44th Ave SW',\n",
      "       ...\n",
      "       '9908 S 210th Pl', '9957 Rainier Ave S', '996 SE 12th St',\n",
      "       'Bennett Ave SE', 'Brooktrails Trail 14', 'Burke-Gilman Trail',\n",
      "       'Cedar to Green River Trail', 'Evergreen Way SE', 'SE 170th Pl',\n",
      "       'Tolt Pipeline Trail'],\n",
      "      dtype='object', length=2466)\n",
      "city :\n",
      "Index(['Algona', 'Auburn', 'Bellevue', 'Black Diamond', 'Bothell', 'Burien',\n",
      "       'Carnation', 'Covington', 'Des Moines', 'Duvall', 'Enumclaw',\n",
      "       'Fall City', 'Federal Way', 'Inglewood-Finn Hill', 'Issaquah',\n",
      "       'Kenmore', 'Kent', 'Kirkland', 'Lake Forest Park', 'Maple Valley',\n",
      "       'Medina', 'Mercer Island', 'Milton', 'Newcastle', 'Normandy Park',\n",
      "       'North Bend', 'Pacific', 'Preston', 'Ravensdale', 'Redmond', 'Renton',\n",
      "       'Sammamish', 'SeaTac', 'Seattle', 'Shoreline', 'Skykomish',\n",
      "       'Snoqualmie', 'Tukwila', 'Vashon', 'Woodinville'],\n",
      "      dtype='object')\n",
      "statezip :\n",
      "Index(['WA 98001', 'WA 98002', 'WA 98003', 'WA 98005', 'WA 98006', 'WA 98007',\n",
      "       'WA 98008', 'WA 98010', 'WA 98011', 'WA 98014', 'WA 98019', 'WA 98022',\n",
      "       'WA 98023', 'WA 98024', 'WA 98027', 'WA 98028', 'WA 98029', 'WA 98030',\n",
      "       'WA 98031', 'WA 98032', 'WA 98033', 'WA 98034', 'WA 98038', 'WA 98039',\n",
      "       'WA 98040', 'WA 98042', 'WA 98045', 'WA 98047', 'WA 98050', 'WA 98051',\n",
      "       'WA 98052', 'WA 98053', 'WA 98055', 'WA 98056', 'WA 98057', 'WA 98058',\n",
      "       'WA 98059', 'WA 98065', 'WA 98070', 'WA 98072', 'WA 98074', 'WA 98075',\n",
      "       'WA 98077', 'WA 98092', 'WA 98102', 'WA 98103', 'WA 98105', 'WA 98106',\n",
      "       'WA 98107', 'WA 98108', 'WA 98109', 'WA 98112', 'WA 98115', 'WA 98116',\n",
      "       'WA 98117', 'WA 98118', 'WA 98119', 'WA 98122', 'WA 98125', 'WA 98126',\n",
      "       'WA 98133', 'WA 98136', 'WA 98144', 'WA 98146', 'WA 98148', 'WA 98155',\n",
      "       'WA 98166', 'WA 98168', 'WA 98177', 'WA 98178', 'WA 98188', 'WA 98198',\n",
      "       'WA 98199', 'WA 98288', 'WA 98354'],\n",
      "      dtype='object')\n",
      "   bedrooms  bathrooms  sqft_living  sqft_lot  floors  waterfront  view  \\\n",
      "0       3.0       1.50         1340      7912     1.5           0     0   \n",
      "1       3.0       2.00         1930     11947     1.0           0     0   \n",
      "2       3.0       2.25         2000      8030     1.0           0     0   \n",
      "3       2.0       1.00          880      6380     1.0           0     0   \n",
      "4       2.0       2.00         1350      2560     1.0           0     0   \n",
      "\n",
      "   condition  sqft_above  sqft_basement  yr_built  yr_renovated  street  city  \\\n",
      "0          3        1340              0      1955          2005     888    34   \n",
      "1          4        1930              0      1966             0    1299    16   \n",
      "2          4        1000           1000      1963             0    2326     2   \n",
      "3          3         880              0      1938          1994    1980    33   \n",
      "4          3        1350              0      1976             0    1297    29   \n",
      "\n",
      "   statezip  day  month  year  \n",
      "0        60    2      5  2014  \n",
      "1        25    2      5  2014  \n",
      "2         6    2      5  2014  \n",
      "3        52    2      5  2014  \n",
      "4        30    2      5  2014  \n"
     ]
    }
   ],
   "source": [
    "#Use Random forest to select the best features \n",
    "X_Temp = houseDataset.drop(\"price\", axis=1)\n",
    "y_temp = houseDataset[\"price\"]\n",
    "\n",
    "X_Temp_cat = X_Temp.select_dtypes(['object']).copy()\n",
    "for col in X_Temp_cat:\n",
    "    print(col, ':')\n",
    "    codes, uniques = pd.factorize(X_Temp_cat[col], sort=True)\n",
    "    X_Temp[col]=codes\n",
    "    print(uniques)\n",
    "print(X_Temp.head())\n",
    "\n",
    "X_Factorized =  X_Temp.copy()\n"
   ]
  },
  {
   "cell_type": "code",
   "execution_count": 50,
   "metadata": {},
   "outputs": [],
   "source": [
    "X_Temp = X_Temp.drop(\"year\", axis = 1)"
   ]
  },
  {
   "cell_type": "code",
   "execution_count": 51,
   "metadata": {},
   "outputs": [],
   "source": [
    "mean = X_Temp.mean()\n",
    "std = X_Temp.std()\n",
    "\n",
    "X_Temp = (X_Temp - mean) / std"
   ]
  },
  {
   "cell_type": "code",
   "execution_count": 52,
   "metadata": {},
   "outputs": [
    {
     "data": {
      "text/plain": [
       "GridSearchCV(cv=5,\n",
       "             estimator=RandomForestRegressor(max_depth=27, n_estimators=1000),\n",
       "             n_jobs=-1,\n",
       "             param_grid={'max_depth': [3, 9, 27],\n",
       "                         'n_estimators': [10, 100, 1000]},\n",
       "             scoring='neg_mean_squared_error')"
      ]
     },
     "execution_count": 52,
     "metadata": {},
     "output_type": "execute_result"
    }
   ],
   "source": [
    "                            \n",
    "\n",
    "param_grid = {\"n_estimators\" : [10,100,1000] , \n",
    "              'max_depth' : [3,9,27]}\n",
    "\n",
    "rf_reg = ensemble.RandomForestRegressor(n_estimators=1000, max_depth=27)\n",
    "#rf_reg.fit(X_Temp, y_temp) \n",
    "\n",
    "gs_reg = GridSearchCV(rf_reg, param_grid=param_grid, scoring='neg_mean_squared_error', cv= 5, n_jobs=-1)\n",
    "\n",
    "gs_reg.fit(X_Temp, y_temp)\n"
   ]
  },
  {
   "cell_type": "code",
   "execution_count": 53,
   "metadata": {},
   "outputs": [
    {
     "name": "stdout",
     "output_type": "stream",
     "text": [
      "-3957780311.9594584\n",
      "{'max_depth': 27, 'n_estimators': 1000}\n",
      "RandomForestRegressor(max_depth=27, n_estimators=1000)\n"
     ]
    }
   ],
   "source": [
    "print(gs_reg.best_score_)\n",
    "print(gs_reg.best_params_)\n",
    "print(gs_reg.best_estimator_)"
   ]
  },
  {
   "cell_type": "code",
   "execution_count": 54,
   "metadata": {},
   "outputs": [
    {
     "data": {
      "text/plain": [
       "RandomForestRegressor(max_depth=27, n_estimators=1000)"
      ]
     },
     "execution_count": 54,
     "metadata": {},
     "output_type": "execute_result"
    }
   ],
   "source": [
    "rf_reg.fit(X_Temp, y_temp) "
   ]
  },
  {
   "cell_type": "code",
   "execution_count": 55,
   "metadata": {},
   "outputs": [
    {
     "data": {
      "text/html": [
       "<div>\n",
       "<style scoped>\n",
       "    .dataframe tbody tr th:only-of-type {\n",
       "        vertical-align: middle;\n",
       "    }\n",
       "\n",
       "    .dataframe tbody tr th {\n",
       "        vertical-align: top;\n",
       "    }\n",
       "\n",
       "    .dataframe thead th {\n",
       "        text-align: right;\n",
       "    }\n",
       "</style>\n",
       "<table border=\"1\" class=\"dataframe\">\n",
       "  <thead>\n",
       "    <tr style=\"text-align: right;\">\n",
       "      <th></th>\n",
       "      <th>feature</th>\n",
       "      <th>importance</th>\n",
       "    </tr>\n",
       "  </thead>\n",
       "  <tbody>\n",
       "    <tr>\n",
       "      <th>14</th>\n",
       "      <td>statezip</td>\n",
       "      <td>0.180911</td>\n",
       "    </tr>\n",
       "    <tr>\n",
       "      <th>13</th>\n",
       "      <td>city</td>\n",
       "      <td>0.164084</td>\n",
       "    </tr>\n",
       "    <tr>\n",
       "      <th>2</th>\n",
       "      <td>sqft_living</td>\n",
       "      <td>0.148797</td>\n",
       "    </tr>\n",
       "    <tr>\n",
       "      <th>1</th>\n",
       "      <td>bathrooms</td>\n",
       "      <td>0.094659</td>\n",
       "    </tr>\n",
       "    <tr>\n",
       "      <th>3</th>\n",
       "      <td>sqft_lot</td>\n",
       "      <td>0.094297</td>\n",
       "    </tr>\n",
       "    <tr>\n",
       "      <th>12</th>\n",
       "      <td>street</td>\n",
       "      <td>0.070988</td>\n",
       "    </tr>\n",
       "    <tr>\n",
       "      <th>10</th>\n",
       "      <td>yr_built</td>\n",
       "      <td>0.062256</td>\n",
       "    </tr>\n",
       "    <tr>\n",
       "      <th>8</th>\n",
       "      <td>sqft_above</td>\n",
       "      <td>0.055432</td>\n",
       "    </tr>\n",
       "    <tr>\n",
       "      <th>15</th>\n",
       "      <td>day</td>\n",
       "      <td>0.037629</td>\n",
       "    </tr>\n",
       "    <tr>\n",
       "      <th>11</th>\n",
       "      <td>yr_renovated</td>\n",
       "      <td>0.020376</td>\n",
       "    </tr>\n",
       "    <tr>\n",
       "      <th>9</th>\n",
       "      <td>sqft_basement</td>\n",
       "      <td>0.016587</td>\n",
       "    </tr>\n",
       "    <tr>\n",
       "      <th>7</th>\n",
       "      <td>condition</td>\n",
       "      <td>0.015767</td>\n",
       "    </tr>\n",
       "    <tr>\n",
       "      <th>0</th>\n",
       "      <td>bedrooms</td>\n",
       "      <td>0.014242</td>\n",
       "    </tr>\n",
       "    <tr>\n",
       "      <th>16</th>\n",
       "      <td>month</td>\n",
       "      <td>0.010628</td>\n",
       "    </tr>\n",
       "    <tr>\n",
       "      <th>6</th>\n",
       "      <td>view</td>\n",
       "      <td>0.007434</td>\n",
       "    </tr>\n",
       "    <tr>\n",
       "      <th>4</th>\n",
       "      <td>floors</td>\n",
       "      <td>0.005862</td>\n",
       "    </tr>\n",
       "    <tr>\n",
       "      <th>5</th>\n",
       "      <td>waterfront</td>\n",
       "      <td>0.000050</td>\n",
       "    </tr>\n",
       "  </tbody>\n",
       "</table>\n",
       "</div>"
      ],
      "text/plain": [
       "          feature  importance\n",
       "14       statezip    0.180911\n",
       "13           city    0.164084\n",
       "2     sqft_living    0.148797\n",
       "1       bathrooms    0.094659\n",
       "3        sqft_lot    0.094297\n",
       "12         street    0.070988\n",
       "10       yr_built    0.062256\n",
       "8      sqft_above    0.055432\n",
       "15            day    0.037629\n",
       "11   yr_renovated    0.020376\n",
       "9   sqft_basement    0.016587\n",
       "7       condition    0.015767\n",
       "0        bedrooms    0.014242\n",
       "16          month    0.010628\n",
       "6            view    0.007434\n",
       "4          floors    0.005862\n",
       "5      waterfront    0.000050"
      ]
     },
     "execution_count": 55,
     "metadata": {},
     "output_type": "execute_result"
    }
   ],
   "source": [
    "pd.concat((pd.DataFrame(X_Temp.columns, columns = ['feature']), \n",
    "           pd.DataFrame(rf_reg.feature_importances_, columns = ['importance'])), \n",
    "          axis = 1).sort_values(by='importance', ascending = False)"
   ]
  },
  {
   "cell_type": "code",
   "execution_count": 56,
   "metadata": {},
   "outputs": [],
   "source": [
    "#select all the features where importance value >= 0.05 \n",
    "X_Selected = X_Factorized[[\"statezip\", \"city\", \"sqft_living\", \"bathrooms\",\t\"sqft_lot\",\t\"street\", \"yr_built\", \"sqft_above\"]]"
   ]
  },
  {
   "cell_type": "code",
   "execution_count": 57,
   "metadata": {},
   "outputs": [],
   "source": [
    "# Split the data into training and testing data\n",
    "X_train, X_test, y_train, y_test = train_test_split(X_Selected,y_temp, test_size=0.2, random_state=2)"
   ]
  },
  {
   "cell_type": "code",
   "execution_count": 58,
   "metadata": {},
   "outputs": [],
   "source": [
    "#Sacaling the data into a smaller range (-3 to +3)\n",
    "mean = X_train.mean()\n",
    "std = X_train.std()\n",
    "\n",
    "X_train = (X_train - mean) / std\n",
    "X_test = (X_test - mean) / std"
   ]
  },
  {
   "cell_type": "code",
   "execution_count": 59,
   "metadata": {},
   "outputs": [],
   "source": [
    "def drawTrainingAndTestingMAE(x_range, train_mae, test_mae, chartTitle):\n",
    "    #Plot the train & test mae\n",
    "    plt.plot(np.log10(x_range), train_mae, 'bo-', label ='Training MAE')\n",
    "    plt.plot(np.log10(x_range), test_mae, 'ro-', label = 'Testing MAE')\n",
    "\n",
    "    plt.xlabel('log10(C)', fontsize='x-large')\n",
    "    plt.ylabel('Mean Absolute Error', fontsize='x-large')\n",
    "    \n",
    "    plt.title(chartTitle)\n",
    "    plt.legend(loc='best', shadow=True, fontsize='x-large')\n",
    "    plt.show()"
   ]
  },
  {
   "cell_type": "markdown",
   "metadata": {},
   "source": [
    "### Step 2: Select, Train, Evaluate and Fine Tuning the Models\n",
    "Please shortlist two to five promissing models, provide details on how you fining the model hyperparameters (e.g. using Grid Saerch, Random Search and etc.). Feel free to add in more cells. "
   ]
  },
  {
   "cell_type": "markdown",
   "metadata": {},
   "source": [
    "### Regression Model 1- SVM algorithm with polynomial kernal /GridSearchCV Approach"
   ]
  },
  {
   "cell_type": "code",
   "execution_count": 60,
   "metadata": {},
   "outputs": [
    {
     "data": {
      "text/plain": [
       "GridSearchCV(cv=5, estimator=SVR(), n_jobs=-1,\n",
       "             param_grid={'C': [0.01, 0.1, 1, 10, 100, 1000],\n",
       "                         'epsilon': [0.1, 1, 10, 100],\n",
       "                         'gamma': [0.001, 0.01, 0.1, 1, 10],\n",
       "                         'kernel': ['linear', 'rbf']},\n",
       "             scoring='neg_mean_squared_error')"
      ]
     },
     "execution_count": 60,
     "metadata": {},
     "output_type": "execute_result"
    }
   ],
   "source": [
    "# Model 1\n",
    "# Enter your code here:\n",
    "svm_reg = svm.SVR()\n",
    "\n",
    "param_grid = {\"kernel\": ['linear','rbf'],\n",
    "              'epsilon': [0.1,1,10,100],\n",
    "              \"gamma\" : [0.001,0.01,0.1,1,10], \n",
    "              'C' : [0.01,0.1,1,10,100,1000]}\n",
    "\n",
    "gs_reg = GridSearchCV(svm_reg, param_grid=param_grid, scoring='neg_mean_squared_error', cv= 5, n_jobs=-1)\n",
    "# cv: number of partitions for cross validation\n",
    "# n_jobs: number of jobs to run in parallel, -1 means using all processors\n",
    "\n",
    "gs_reg.fit(X_train, y_train) \n"
   ]
  },
  {
   "cell_type": "code",
   "execution_count": 61,
   "metadata": {},
   "outputs": [
    {
     "name": "stdout",
     "output_type": "stream",
     "text": [
      "{'C': 100, 'epsilon': 0.1, 'gamma': 0.001, 'kernel': 'linear'}\n",
      "SVR(C=100, gamma=0.001, kernel='linear')\n"
     ]
    }
   ],
   "source": [
    "print(gs_reg.best_params_)\n",
    "print(gs_reg.best_estimator_)"
   ]
  },
  {
   "cell_type": "code",
   "execution_count": 62,
   "metadata": {},
   "outputs": [],
   "source": [
    "# Understand the impact of C\n",
    "C_range = [0.01,0.1,1,10,100,1000, 10000]\n",
    "train_mae = []\n",
    "test_mae = []\n",
    "\n",
    "for C in C_range:\n",
    "    svm_reg = svm.SVR(kernel=\"linear\",gamma =0.001, C=C, epsilon =0.1)\n",
    "    svm_reg.fit(X_train, y_train) \n",
    "    train_mae.append(mean_absolute_error(svm_reg.predict(X_train), y_train))\n",
    "    test_mae.append(mean_absolute_error(svm_reg.predict(X_test), y_test))\n",
    "    \n"
   ]
  },
  {
   "cell_type": "code",
   "execution_count": 63,
   "metadata": {},
   "outputs": [
    {
     "data": {
      "image/png": "[encoded data removed]",
      "text/plain": [
       "<Figure size 432x288 with 1 Axes>"
      ]
     },
     "metadata": {
      "needs_background": "light"
     },
     "output_type": "display_data"
    }
   ],
   "source": [
    "#draw the training and testing MAE\n",
    "drawTrainingAndTestingMAE(C_range, train_mae, test_mae, \"SVM - Training and Testing MAE\")"
   ]
  },
  {
   "cell_type": "code",
   "execution_count": 64,
   "metadata": {},
   "outputs": [
    {
     "name": "stdout",
     "output_type": "stream",
     "text": [
      "Training MAE: 66482.825350341\n",
      "Test MAE: 70465.44712290971\n"
     ]
    }
   ],
   "source": [
    "#Select the best SVM model and re-train the model\n",
    "svm_reg_best = gs_reg.best_estimator_\n",
    "svm_reg_best.fit(X_train, y_train)\n",
    "\n",
    "print('Training MAE:', mean_absolute_error(svm_reg_best.predict(X_train), y_train))\n",
    "print('Test MAE:', mean_absolute_error(svm_reg_best.predict(X_test), y_test))"
   ]
  },
  {
   "cell_type": "markdown",
   "metadata": {},
   "source": [
    "### Regression Model 2- K-Nearest Neighbours (KNN) /GridSearchCV Approach"
   ]
  },
  {
   "cell_type": "code",
   "execution_count": 65,
   "metadata": {},
   "outputs": [
    {
     "name": "stderr",
     "output_type": "stream",
     "text": [
      "C:\\ProgramData\\Anaconda3\\lib\\site-packages\\sklearn\\model_selection\\_search.py:918: UserWarning: One or more of the test scores are non-finite: [nan nan nan nan nan nan nan nan nan nan nan nan nan nan nan nan nan nan\n",
      " nan nan nan nan nan nan]\n",
      "  warnings.warn(\n"
     ]
    },
    {
     "data": {
      "text/plain": [
       "GridSearchCV(cv=7, estimator=KNeighborsRegressor(), n_jobs=-1,\n",
       "             param_grid={'metric': ['euclidean', 'manhattan'],\n",
       "                         'n_neighbors': [3, 5, 7, 9, 15, 25],\n",
       "                         'weights': ['uniform', 'distance']},\n",
       "             scoring='accuracy')"
      ]
     },
     "execution_count": 65,
     "metadata": {},
     "output_type": "execute_result"
    }
   ],
   "source": [
    "# Model 2\n",
    "# Enter your code here:\n",
    "knn_reg = neighbors.KNeighborsRegressor()\n",
    "\n",
    "\n",
    "#define parameters\n",
    "param_grid = {'n_neighbors' : [3,5,7,9,15, 25], \n",
    "              'weights' : ['uniform', 'distance'], \n",
    "              'metric' : ['euclidean','manhattan'] }\n",
    "\n",
    "\n",
    "\n",
    "#GridSearch approach used to select the best hyperparameters. \n",
    "# cv: No of partitions for Cross Validation\n",
    "# n_jobs: number of jobs to run in parallel, -1 means using all processors.\n",
    "gs_reg = GridSearchCV(knn_reg, param_grid=param_grid, scoring='accuracy', cv= 7, n_jobs=-1)\n",
    "\n",
    "\n",
    "gs_reg.fit(X_train, y_train) \n",
    "\n"
   ]
  },
  {
   "cell_type": "code",
   "execution_count": 66,
   "metadata": {},
   "outputs": [
    {
     "name": "stdout",
     "output_type": "stream",
     "text": [
      "{'metric': 'euclidean', 'n_neighbors': 3, 'weights': 'uniform'}\n",
      "KNeighborsRegressor(metric='euclidean', n_neighbors=3)\n"
     ]
    }
   ],
   "source": [
    "print(gs_reg.best_params_)\n",
    "print(gs_reg.best_estimator_)"
   ]
  },
  {
   "cell_type": "code",
   "execution_count": 67,
   "metadata": {},
   "outputs": [],
   "source": [
    "#calculate training and testing accuracy for different neighbour range\n",
    "neighbor_range = range(4, 26)\n",
    "train_mae = []\n",
    "test_mae = []\n",
    "\n",
    "for n in neighbor_range:\n",
    "    knn_reg = neighbors.KNeighborsRegressor(n_neighbors=n, weights='uniform', metric= 'euclidean')\n",
    "    knn_reg.fit(X_train, y_train) \n",
    "    train_mae.append(mean_absolute_error( knn_reg.predict(X_train), y_train))\n",
    "    test_mae.append(mean_absolute_error( knn_reg.predict(X_test), y_test))"
   ]
  },
  {
   "cell_type": "code",
   "execution_count": 68,
   "metadata": {},
   "outputs": [
    {
     "data": {
      "image/png": "[encoded data removed]",
      "text/plain": [
       "<Figure size 432x288 with 1 Axes>"
      ]
     },
     "metadata": {
      "needs_background": "light"
     },
     "output_type": "display_data"
    }
   ],
   "source": [
    "#draw the training and testing MAE\n",
    "drawTrainingAndTestingMAE(neighbor_range, train_mae, test_mae, \"KNN - Training and Testing MAE\")"
   ]
  },
  {
   "cell_type": "code",
   "execution_count": 69,
   "metadata": {},
   "outputs": [
    {
     "name": "stdout",
     "output_type": "stream",
     "text": [
      "KNN Training MAE: 40970.747114330676\n",
      "KNN Test MAE: 61555.73767657787\n"
     ]
    }
   ],
   "source": [
    "#Select the best KNN model and re-train the model\n",
    "knn_reg_best = gs_reg.best_estimator_\n",
    "knn_reg_best.fit(X_train, y_train)\n",
    "\n",
    "print('KNN Training MAE:', mean_absolute_error(knn_reg_best.predict(X_train), y_train))\n",
    "print('KNN Test MAE:', mean_absolute_error(knn_reg_best.predict(X_test), y_test))"
   ]
  },
  {
   "cell_type": "markdown",
   "metadata": {},
   "source": [
    "### Regression Model 3 - Decision Tree /Bagging Regressor"
   ]
  },
  {
   "cell_type": "code",
   "execution_count": 70,
   "metadata": {},
   "outputs": [
    {
     "data": {
      "text/plain": [
       "BaggingRegressor(base_estimator=DecisionTreeRegressor(), max_samples=350,\n",
       "                 n_estimators=100, n_jobs=-1)"
      ]
     },
     "execution_count": 70,
     "metadata": {},
     "output_type": "execute_result"
    }
   ],
   "source": [
    "# Model 3\n",
    "# Enter your code here:\n",
    "param_grid = {\"n_estimators\" : [10,100,1000] , \n",
    "              'max_depth' : [3,9,27]}\n",
    "\n",
    "\n",
    "#gs_reg = GridSearchCV(rf_reg, param_grid=param_grid, scoring='neg_mean_squared_error', cv= 3, n_jobs=-1)\n",
    "\n",
    "#gs_reg.fit(X_train, y_train)\n",
    "\n",
    "\n",
    "dTree_reg = tree.DecisionTreeRegressor()\n",
    "\n",
    "gs_reg = ensemble.BaggingRegressor(\n",
    "    dTree_reg,\n",
    "    n_estimators = 100, #number of estimator can be used\n",
    "    max_samples = 350, # no of samples for each training \n",
    "    bootstrap=True, #  bootstrap sampling enabled.\n",
    "    n_jobs=-1) # use all cores \n",
    "\n",
    "gs_reg.fit(X_train, y_train)\n"
   ]
  },
  {
   "cell_type": "code",
   "execution_count": 71,
   "metadata": {},
   "outputs": [
    {
     "name": "stdout",
     "output_type": "stream",
     "text": [
      "<bound method BaseEstimator.get_params of BaggingRegressor(base_estimator=DecisionTreeRegressor(), max_samples=350,\n",
      "                 n_estimators=100, n_jobs=-1)>\n",
      "DecisionTreeRegressor()\n"
     ]
    }
   ],
   "source": [
    "print(gs_reg.get_params)\n",
    "print(gs_reg.base_estimator_)"
   ]
  },
  {
   "cell_type": "code",
   "execution_count": 72,
   "metadata": {},
   "outputs": [
    {
     "name": "stdout",
     "output_type": "stream",
     "text": [
      "Decision Tree Training MAE: 32.86852589641434\n",
      "Decision Tree Test MAE: 66544.32553578132\n"
     ]
    }
   ],
   "source": [
    "#Select the best Decision Tree model and re-train the model\n",
    "dtree_reg_best = gs_reg.base_estimator_\n",
    "dtree_reg_best.fit(X_train, y_train)\n",
    "\n",
    "print('Decision Tree Training MAE:', mean_absolute_error(dtree_reg_best.predict(X_train), y_train))\n",
    "print('Decision Tree Test MAE:', mean_absolute_error(dtree_reg_best.predict(X_test), y_test))"
   ]
  },
  {
   "cell_type": "markdown",
   "metadata": {},
   "source": [
    "#### Regression Model 4 - Random Forest Regression"
   ]
  },
  {
   "cell_type": "code",
   "execution_count": 73,
   "metadata": {},
   "outputs": [],
   "source": [
    "# Model 4\n",
    "# Enter your code here:\n",
    "\n",
    "#Random Forest Regression\n",
    "\n",
    "depth_range = range(1,25)\n",
    "train_mae = []\n",
    "test_mae = []\n",
    "\n",
    "for d in depth_range:\n",
    "    rf_reg = ensemble.RandomForestRegressor(n_estimators =30, \n",
    "                                             criterion ='mse', \n",
    "                                             max_depth = d)\n",
    "    rf_reg.fit(X_train, y_train) \n",
    "    train_mae.append(mean_absolute_error(rf_reg.predict(X_train), y_train))\n",
    "    test_mae.append(mean_absolute_error(rf_reg.predict(X_test), y_test))"
   ]
  },
  {
   "cell_type": "code",
   "execution_count": 74,
   "metadata": {},
   "outputs": [
    {
     "data": {
      "image/png": "[encoded data removed]",
      "text/plain": [
       "<Figure size 432x288 with 1 Axes>"
      ]
     },
     "metadata": {
      "needs_background": "light"
     },
     "output_type": "display_data"
    }
   ],
   "source": [
    "#draw the training and testing MAE\n",
    "drawTrainingAndTestingMAE(depth_range, train_mae, test_mae, \"Random Forest - Training and Testing MAE\")"
   ]
  },
  {
   "cell_type": "code",
   "execution_count": 75,
   "metadata": {},
   "outputs": [
    {
     "data": {
      "text/plain": [
       "19"
      ]
     },
     "execution_count": 75,
     "metadata": {},
     "output_type": "execute_result"
    }
   ],
   "source": [
    "1+ np.argmin(test_mae)"
   ]
  },
  {
   "cell_type": "code",
   "execution_count": 76,
   "metadata": {},
   "outputs": [
    {
     "name": "stdout",
     "output_type": "stream",
     "text": [
      "Random Forest Training MAE: 18565.172043419858\n",
      "Random Forest Test MAE: 50977.52969024258\n"
     ]
    }
   ],
   "source": [
    "#Select the best Random Forest model and re-train the model\n",
    "rf_reg_best =  rf_reg = ensemble.RandomForestRegressor(n_estimators =30, \n",
    "                                             criterion ='mse', \n",
    "                                             max_depth = 19)\n",
    "rf_reg_best.fit(X_train, y_train)\n",
    "\n",
    "print('Random Forest Training MAE:', mean_absolute_error(rf_reg_best.predict(X_train), y_train))\n",
    "print('Random Forest Test MAE:', mean_absolute_error(rf_reg_best.predict(X_test), y_test))"
   ]
  },
  {
   "cell_type": "markdown",
   "metadata": {},
   "source": [
    "#### Regression Model 5 - Boosting Regressor"
   ]
  },
  {
   "cell_type": "code",
   "execution_count": 77,
   "metadata": {},
   "outputs": [
    {
     "data": {
      "text/plain": [
       "XGBRegressor(base_score=0.5, booster='gbtree', colsample_bylevel=1,\n",
       "             colsample_bynode=1, colsample_bytree=1, gamma=0, gpu_id=-1,\n",
       "             importance_type='gain', interaction_constraints='',\n",
       "             learning_rate=0.300000012, max_delta_step=0, max_depth=6,\n",
       "             min_child_weight=1, missing=nan, monotone_constraints='()',\n",
       "             n_estimators=100, n_jobs=24, num_parallel_tree=1, random_state=0,\n",
       "             reg_alpha=0, reg_lambda=1, scale_pos_weight=1, subsample=1,\n",
       "             tree_method='exact', validate_parameters=1, verbosity=None)"
      ]
     },
     "execution_count": 77,
     "metadata": {},
     "output_type": "execute_result"
    }
   ],
   "source": [
    "# Model 5\n",
    "# Enter your code here:\n",
    "\n",
    "#Extreme gradient Boosting Regressor \n",
    "xgb_reg = xgboost.XGBRegressor()\n",
    "xgb_reg.fit(X_train, y_train)\n"
   ]
  },
  {
   "cell_type": "code",
   "execution_count": 78,
   "metadata": {},
   "outputs": [
    {
     "name": "stdout",
     "output_type": "stream",
     "text": [
      "Extreme gradient Boosting Regressor - Training MAE: 9109.893989186752\n",
      "Extreme gradient Boosting Regressor - Test MAE: 46842.008120429426\n"
     ]
    }
   ],
   "source": [
    "print('Extreme gradient Boosting Regressor - Training MAE:', mean_absolute_error(xgb_reg.predict(X_train), y_train))\n",
    "print('Extreme gradient Boosting Regressor - Test MAE:', mean_absolute_error(xgb_reg.predict(X_test), y_test))"
   ]
  },
  {
   "cell_type": "markdown",
   "metadata": {},
   "source": [
    "### Step 3: Recommend the Best Model and Explain the Reasons"
   ]
  },
  {
   "cell_type": "markdown",
   "metadata": {},
   "source": [
    "Enter your answer here:\n",
    "\n"
   ]
  },
  {
   "cell_type": "code",
   "execution_count": 79,
   "metadata": {},
   "outputs": [
    {
     "data": {
      "text/plain": [
       "<AxesSubplot:title={'center':'Train & Test MAE for different Regression models'}>"
      ]
     },
     "execution_count": 79,
     "metadata": {},
     "output_type": "execute_result"
    },
    {
     "data": {
      "image/png": "[encoded data removed]",
      "text/plain": [
       "<Figure size 432x288 with 1 Axes>"
      ]
     },
     "metadata": {
      "needs_background": "light"
     },
     "output_type": "display_data"
    }
   ],
   "source": [
    "train_mae = [mean_absolute_error(svm_reg_best.predict(X_train), y_train),\n",
    "                mean_absolute_error(knn_reg_best.predict(X_train), y_train),\n",
    "                mean_absolute_error(dtree_reg_best.predict(X_train), y_train),\n",
    "                mean_absolute_error(rf_reg_best.predict(X_train), y_train),\n",
    "                mean_absolute_error(xgb_reg.predict(X_train), y_train)\n",
    "                ]\n",
    "\n",
    "\n",
    "test_mae =[\n",
    "     mean_absolute_error(svm_reg_best.predict(X_test), y_test),\n",
    " mean_absolute_error(knn_reg_best.predict(X_test), y_test),\n",
    " mean_absolute_error(dtree_reg_best.predict(X_test), y_test),\n",
    " mean_absolute_error(rf_reg_best.predict(X_test), y_test),\n",
    " mean_absolute_error(xgb_reg.predict(X_test), y_test)\n",
    "]\n",
    "label =['SVM', 'KNN', 'Decision Tree', 'Random Forest', 'Boosting Classifier']\n",
    "\n",
    "df_acc = pd.DataFrame({'Training MAE': train_mae,\n",
    "                   'Testing MAE': test_mae}, index=label)\n",
    "\n",
    "df_acc.plot.bar(rot=0, title ='Train & Test MAE for different Regression models')"
   ]
  },
  {
   "cell_type": "code",
   "execution_count": 80,
   "metadata": {},
   "outputs": [
    {
     "data": {
      "text/plain": [
       "4"
      ]
     },
     "execution_count": 80,
     "metadata": {},
     "output_type": "execute_result"
    }
   ],
   "source": [
    "# Enter your code here (if required):\n",
    "np.argmin(test_mae)\n",
    "\n",
    "# Index 4 refers Extreme Boosting algorithm "
   ]
  },
  {
   "cell_type": "markdown",
   "metadata": {},
   "source": [
    "Recommendation \n",
    "===============\n",
    "#### There are five regression algorithms, namely \"SVM\", \"KNN\", \"Decision Tree\", \"Random Forest\" and \"Extreme Boosting \" used for the comparison. Eventually, Extreme Gradient Boosting (XGBoost) based trained model has contributed few errors.\n",
    "#### So SVM based model has been selected as a best regressor for the given house price dataset.\n"
   ]
  },
  {
   "cell_type": "markdown",
   "metadata": {},
   "source": [
    "### Step 4: Use the best model to make prediction\n",
    "Make prediction on the test data and provide the error analysis on the results (e.g. 95% confidence interval, visualization tools and etc.)"
   ]
  },
  {
   "cell_type": "markdown",
   "metadata": {},
   "source": [
    "#### 4.1 Mean Absolute Error"
   ]
  },
  {
   "cell_type": "code",
   "execution_count": 81,
   "metadata": {},
   "outputs": [
    {
     "name": "stdout",
     "output_type": "stream",
     "text": [
      "Extreme gradient Boosting Regressor - Training MAE: 9109.893989186752\n",
      "Extreme gradient Boosting Regressor - Test MAE: 46842.008120429426\n"
     ]
    }
   ],
   "source": [
    "# Enter your code here:\n",
    "y_pred = xgb_reg.predict(X_test)\n",
    "print('Extreme gradient Boosting Regressor - Training MAE:', mean_absolute_error(xgb_reg.predict(X_train), y_train))\n",
    "print('Extreme gradient Boosting Regressor - Test MAE:', mean_absolute_error(xgb_reg.predict(X_test), y_test))"
   ]
  },
  {
   "cell_type": "markdown",
   "metadata": {},
   "source": [
    "#### 4.2 Mean Squared Error"
   ]
  },
  {
   "cell_type": "code",
   "execution_count": 82,
   "metadata": {},
   "outputs": [
    {
     "name": "stdout",
     "output_type": "stream",
     "text": [
      "Extreme gradient Boosting Regressor - Training MSE: 158800248.81125134\n",
      "Extreme gradient Boosting Regressor - Test MSE: 4069616951.6087933\n"
     ]
    }
   ],
   "source": [
    "print('Extreme gradient Boosting Regressor - Training MSE:', mean_squared_error(xgb_reg.predict(X_train), y_train))\n",
    "print('Extreme gradient Boosting Regressor - Test MSE:', mean_squared_error(xgb_reg.predict(X_test), y_test))"
   ]
  },
  {
   "cell_type": "markdown",
   "metadata": {},
   "source": [
    "#### 4.3 Visualize Y-Test and Y-Prediction"
   ]
  },
  {
   "cell_type": "code",
   "execution_count": 83,
   "metadata": {},
   "outputs": [
    {
     "name": "stderr",
     "output_type": "stream",
     "text": [
      "No handles with labels found to put in legend.\n"
     ]
    },
    {
     "data": {
      "text/plain": [
       "<matplotlib.legend.Legend at 0x1f4e5ccba30>"
      ]
     },
     "execution_count": 83,
     "metadata": {},
     "output_type": "execute_result"
    },
    {
     "data": {
      "image/png": "[encoded data removed]",
      "text/plain": [
       "<Figure size 432x288 with 1 Axes>"
      ]
     },
     "metadata": {
      "needs_background": "light"
     },
     "output_type": "display_data"
    }
   ],
   "source": [
    "# Visualize y_test & y_pred\n",
    "colors = ['b', 'c', 'y', 'm', 'r']\n",
    "\n",
    "lo = plt.scatter(y_test.values[0],y_test.values[0], marker='o', color='b')\n",
    "ll = plt.scatter(y_pred[0], y_pred[0], marker='o', color='r')\n",
    "\n",
    "plt.scatter(y_test, y_pred, color='b')\n",
    "plt.plot([0, 500000], [0,500000], 'r-')\n",
    "plt.title(\"House Price Prediction Model - Actual vs Predicted\")\n",
    "plt.legend(loc='best', shadow=True, fontsize='x-large')\n",
    "plt.xlabel('Y-Testing')\n",
    "plt.ylabel('Y-Prediction')\n",
    "\n",
    "\n",
    "plt.legend((lo, ll),\n",
    "           ('Actual', 'Prediction'),\n",
    "           scatterpoints=1,\n",
    "           loc='best',\n",
    "           ncol=3,\n",
    "           fontsize=8)\n"
   ]
  },
  {
   "cell_type": "markdown",
   "metadata": {},
   "source": [
    "#### 4.4 Regression with Error Bars"
   ]
  },
  {
   "cell_type": "code",
   "execution_count": 84,
   "metadata": {},
   "outputs": [
    {
     "data": {
      "image/png": "[encoded data removed]",
      "text/plain": [
       "<Figure size 432x288 with 1 Axes>"
      ]
     },
     "metadata": {
      "needs_background": "light"
     },
     "output_type": "display_data"
    }
   ],
   "source": [
    "#import matplotlib.pyplot as plt\n",
    "#import numpy as np\n",
    "\n",
    "\n",
    "coef = np.polyfit(y_test, y_pred, 1)\n",
    "poly1d_fn = np.poly1d(coef)  # to create a linear function with coefficients\n",
    "\n",
    "plt.plot(y_test, y_pred, 'ro', y_test, poly1d_fn(y_test), '-g')\n",
    "plt.errorbar(y_test, poly1d_fn(y_test), yerr=poly1d_fn(y_test) - y_pred, fmt='.g', )\n",
    "plt.title('Extreme Gradient Boosting Regressor with Error Bars')\n",
    "plt.show()"
   ]
  },
  {
   "cell_type": "markdown",
   "metadata": {},
   "source": [
    "### Step 5: Save the Best Model for Future Use"
   ]
  },
  {
   "cell_type": "code",
   "execution_count": 85,
   "metadata": {},
   "outputs": [
    {
     "data": {
      "text/plain": [
       "['best_regression_model.pkl']"
      ]
     },
     "execution_count": 85,
     "metadata": {},
     "output_type": "execute_result"
    }
   ],
   "source": [
    "# Enter your code here:\n",
    "\n",
    "joblib.dump(xgb_reg, \"best_regression_model.pkl\")"
   ]
  },
  {
   "cell_type": "markdown",
   "metadata": {},
   "source": [
    " \n",
    " \n",
    "## <center>End of Assignment<center>\n",
    "---"
   ]
  }
 ],
 "metadata": {
  "anaconda-cloud": {},
  "celltoolbar": "Raw Cell Format",
  "kernelspec": {
   "display_name": "Python 3",
   "language": "python",
   "name": "python3"
  },
  "language_info": {
   "codemirror_mode": {
    "name": "ipython",
    "version": 3
   },
   "file_extension": ".py",
   "mimetype": "text/x-python",
   "name": "python",
   "nbconvert_exporter": "python",
   "pygments_lexer": "ipython3",
   "version": "3.8.8"
  }
 },
 "nbformat": 4,
 "nbformat_minor": 1
}
