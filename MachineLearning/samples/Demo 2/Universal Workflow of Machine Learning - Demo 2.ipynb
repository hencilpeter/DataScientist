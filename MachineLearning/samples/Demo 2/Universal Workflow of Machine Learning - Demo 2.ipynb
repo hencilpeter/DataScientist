{
 "cells": [
  {
   "cell_type": "markdown",
   "metadata": {},
   "source": [
    "<table class=\"table table-bordered\">\n",
    "    <tr>\n",
    "        <th style=\"width:250px\"><img src='https://www.np.edu.sg/PublishingImages/Pages/default/odp/ICT.jpg' style=\"width: 100%; height: 125px; \"></th>\n",
    "        <th style=\"text-align:center;\"><h1>Introduction to Machine Learning</h1><h2>Universal Workflow of Machine Learning - Demo 2</h2><h3>The Data School</h3></th>\n",
    "    </tr>\n",
    "</table>"
   ]
  },
  {
   "cell_type": "markdown",
   "metadata": {},
   "source": [
    "## Objectives\n",
    "##### After completing this practical demo, you should be able to:\n",
    "1. [Perform Data Preparation on a Dataset](#p1)\n",
    "2. [Train a Simple Regression Machine Learning Model](#p2)\n",
    "3. [Fine Tune a Simple Regression Model](#p3)\n",
    "4. [Evaluate a Regression Machine Learning Model](#p4)\n",
    "5. [Save a Trained Model for Future Use](#p5)"
   ]
  },
  {
   "cell_type": "markdown",
   "metadata": {},
   "source": [
    "## 1. Perform Data Preparation on a Dataset <a id='p1' />\n",
    "### 1.1 Importing data from CSV file into a Pandas DataFrame"
   ]
  },
  {
   "cell_type": "code",
   "execution_count": 1,
   "metadata": {},
   "outputs": [],
   "source": [
    "# Import required libraries\n",
    "import numpy as np\n",
    "import pandas as pd"
   ]
  },
  {
   "cell_type": "code",
   "execution_count": 2,
   "metadata": {},
   "outputs": [],
   "source": [
    "#Load the Boston Housing Data Set from sklearn.datasets and print it\n",
    "from sklearn.datasets import load_boston\n",
    "boston = load_boston()"
   ]
  },
  {
   "cell_type": "code",
   "execution_count": 3,
   "metadata": {},
   "outputs": [
    {
     "name": "stdout",
     "output_type": "stream",
     "text": [
      "[[6.3200e-03 1.8000e+01 2.3100e+00 ... 1.5300e+01 3.9690e+02 4.9800e+00]\n",
      " [2.7310e-02 0.0000e+00 7.0700e+00 ... 1.7800e+01 3.9690e+02 9.1400e+00]\n",
      " [2.7290e-02 0.0000e+00 7.0700e+00 ... 1.7800e+01 3.9283e+02 4.0300e+00]\n",
      " ...\n",
      " [6.0760e-02 0.0000e+00 1.1930e+01 ... 2.1000e+01 3.9690e+02 5.6400e+00]\n",
      " [1.0959e-01 0.0000e+00 1.1930e+01 ... 2.1000e+01 3.9345e+02 6.4800e+00]\n",
      " [4.7410e-02 0.0000e+00 1.1930e+01 ... 2.1000e+01 3.9690e+02 7.8800e+00]]\n",
      "['CRIM' 'ZN' 'INDUS' 'CHAS' 'NOX' 'RM' 'AGE' 'DIS' 'RAD' 'TAX' 'PTRATIO'\n",
      " 'B' 'LSTAT']\n",
      "[24.  21.6 34.7 33.4 36.2 28.7 22.9 27.1 16.5 18.9 15.  18.9 21.7 20.4\n",
      " 18.2 19.9 23.1 17.5 20.2 18.2 13.6 19.6 15.2 14.5 15.6 13.9 16.6 14.8\n",
      " 18.4 21.  12.7 14.5 13.2 13.1 13.5 18.9 20.  21.  24.7 30.8 34.9 26.6\n",
      " 25.3 24.7 21.2 19.3 20.  16.6 14.4 19.4 19.7 20.5 25.  23.4 18.9 35.4\n",
      " 24.7 31.6 23.3 19.6 18.7 16.  22.2 25.  33.  23.5 19.4 22.  17.4 20.9\n",
      " 24.2 21.7 22.8 23.4 24.1 21.4 20.  20.8 21.2 20.3 28.  23.9 24.8 22.9\n",
      " 23.9 26.6 22.5 22.2 23.6 28.7 22.6 22.  22.9 25.  20.6 28.4 21.4 38.7\n",
      " 43.8 33.2 27.5 26.5 18.6 19.3 20.1 19.5 19.5 20.4 19.8 19.4 21.7 22.8\n",
      " 18.8 18.7 18.5 18.3 21.2 19.2 20.4 19.3 22.  20.3 20.5 17.3 18.8 21.4\n",
      " 15.7 16.2 18.  14.3 19.2 19.6 23.  18.4 15.6 18.1 17.4 17.1 13.3 17.8\n",
      " 14.  14.4 13.4 15.6 11.8 13.8 15.6 14.6 17.8 15.4 21.5 19.6 15.3 19.4\n",
      " 17.  15.6 13.1 41.3 24.3 23.3 27.  50.  50.  50.  22.7 25.  50.  23.8\n",
      " 23.8 22.3 17.4 19.1 23.1 23.6 22.6 29.4 23.2 24.6 29.9 37.2 39.8 36.2\n",
      " 37.9 32.5 26.4 29.6 50.  32.  29.8 34.9 37.  30.5 36.4 31.1 29.1 50.\n",
      " 33.3 30.3 34.6 34.9 32.9 24.1 42.3 48.5 50.  22.6 24.4 22.5 24.4 20.\n",
      " 21.7 19.3 22.4 28.1 23.7 25.  23.3 28.7 21.5 23.  26.7 21.7 27.5 30.1\n",
      " 44.8 50.  37.6 31.6 46.7 31.5 24.3 31.7 41.7 48.3 29.  24.  25.1 31.5\n",
      " 23.7 23.3 22.  20.1 22.2 23.7 17.6 18.5 24.3 20.5 24.5 26.2 24.4 24.8\n",
      " 29.6 42.8 21.9 20.9 44.  50.  36.  30.1 33.8 43.1 48.8 31.  36.5 22.8\n",
      " 30.7 50.  43.5 20.7 21.1 25.2 24.4 35.2 32.4 32.  33.2 33.1 29.1 35.1\n",
      " 45.4 35.4 46.  50.  32.2 22.  20.1 23.2 22.3 24.8 28.5 37.3 27.9 23.9\n",
      " 21.7 28.6 27.1 20.3 22.5 29.  24.8 22.  26.4 33.1 36.1 28.4 33.4 28.2\n",
      " 22.8 20.3 16.1 22.1 19.4 21.6 23.8 16.2 17.8 19.8 23.1 21.  23.8 23.1\n",
      " 20.4 18.5 25.  24.6 23.  22.2 19.3 22.6 19.8 17.1 19.4 22.2 20.7 21.1\n",
      " 19.5 18.5 20.6 19.  18.7 32.7 16.5 23.9 31.2 17.5 17.2 23.1 24.5 26.6\n",
      " 22.9 24.1 18.6 30.1 18.2 20.6 17.8 21.7 22.7 22.6 25.  19.9 20.8 16.8\n",
      " 21.9 27.5 21.9 23.1 50.  50.  50.  50.  50.  13.8 13.8 15.  13.9 13.3\n",
      " 13.1 10.2 10.4 10.9 11.3 12.3  8.8  7.2 10.5  7.4 10.2 11.5 15.1 23.2\n",
      "  9.7 13.8 12.7 13.1 12.5  8.5  5.   6.3  5.6  7.2 12.1  8.3  8.5  5.\n",
      " 11.9 27.9 17.2 27.5 15.  17.2 17.9 16.3  7.   7.2  7.5 10.4  8.8  8.4\n",
      " 16.7 14.2 20.8 13.4 11.7  8.3 10.2 10.9 11.   9.5 14.5 14.1 16.1 14.3\n",
      " 11.7 13.4  9.6  8.7  8.4 12.8 10.5 17.1 18.4 15.4 10.8 11.8 14.9 12.6\n",
      " 14.1 13.  13.4 15.2 16.1 17.8 14.9 14.1 12.7 13.5 14.9 20.  16.4 17.7\n",
      " 19.5 20.2 21.4 19.9 19.  19.1 19.1 20.1 19.9 19.6 23.2 29.8 13.8 13.3\n",
      " 16.7 12.  14.6 21.4 23.  23.7 25.  21.8 20.6 21.2 19.1 20.6 15.2  7.\n",
      "  8.1 13.6 20.1 21.8 24.5 23.1 19.7 18.3 21.2 17.5 16.8 22.4 20.6 23.9\n",
      " 22.  11.9]\n"
     ]
    }
   ],
   "source": [
    "print(boston.data) # view data of features\n",
    "print(boston.feature_names) # view column names\n",
    "print(boston.target) # view housing prices"
   ]
  },
  {
   "cell_type": "code",
   "execution_count": 4,
   "metadata": {},
   "outputs": [],
   "source": [
    "# Create dataframes for input features (X) and target output (y)\n",
    "dfX = pd.DataFrame(boston.data, columns = boston.feature_names)\n",
    "dfy = pd.DataFrame(boston.target, columns = [\"PRICE\"])"
   ]
  },
  {
   "cell_type": "code",
   "execution_count": 5,
   "metadata": {},
   "outputs": [
    {
     "data": {
      "text/html": [
       "<div>\n",
       "<style scoped>\n",
       "    .dataframe tbody tr th:only-of-type {\n",
       "        vertical-align: middle;\n",
       "    }\n",
       "\n",
       "    .dataframe tbody tr th {\n",
       "        vertical-align: top;\n",
       "    }\n",
       "\n",
       "    .dataframe thead th {\n",
       "        text-align: right;\n",
       "    }\n",
       "</style>\n",
       "<table border=\"1\" class=\"dataframe\">\n",
       "  <thead>\n",
       "    <tr style=\"text-align: right;\">\n",
       "      <th></th>\n",
       "      <th>CRIM</th>\n",
       "      <th>ZN</th>\n",
       "      <th>INDUS</th>\n",
       "      <th>CHAS</th>\n",
       "      <th>NOX</th>\n",
       "      <th>RM</th>\n",
       "      <th>AGE</th>\n",
       "      <th>DIS</th>\n",
       "      <th>RAD</th>\n",
       "      <th>TAX</th>\n",
       "      <th>PTRATIO</th>\n",
       "      <th>B</th>\n",
       "      <th>LSTAT</th>\n",
       "    </tr>\n",
       "  </thead>\n",
       "  <tbody>\n",
       "    <tr>\n",
       "      <td>0</td>\n",
       "      <td>0.00632</td>\n",
       "      <td>18.0</td>\n",
       "      <td>2.31</td>\n",
       "      <td>0.0</td>\n",
       "      <td>0.538</td>\n",
       "      <td>6.575</td>\n",
       "      <td>65.2</td>\n",
       "      <td>4.0900</td>\n",
       "      <td>1.0</td>\n",
       "      <td>296.0</td>\n",
       "      <td>15.3</td>\n",
       "      <td>396.90</td>\n",
       "      <td>4.98</td>\n",
       "    </tr>\n",
       "    <tr>\n",
       "      <td>1</td>\n",
       "      <td>0.02731</td>\n",
       "      <td>0.0</td>\n",
       "      <td>7.07</td>\n",
       "      <td>0.0</td>\n",
       "      <td>0.469</td>\n",
       "      <td>6.421</td>\n",
       "      <td>78.9</td>\n",
       "      <td>4.9671</td>\n",
       "      <td>2.0</td>\n",
       "      <td>242.0</td>\n",
       "      <td>17.8</td>\n",
       "      <td>396.90</td>\n",
       "      <td>9.14</td>\n",
       "    </tr>\n",
       "    <tr>\n",
       "      <td>2</td>\n",
       "      <td>0.02729</td>\n",
       "      <td>0.0</td>\n",
       "      <td>7.07</td>\n",
       "      <td>0.0</td>\n",
       "      <td>0.469</td>\n",
       "      <td>7.185</td>\n",
       "      <td>61.1</td>\n",
       "      <td>4.9671</td>\n",
       "      <td>2.0</td>\n",
       "      <td>242.0</td>\n",
       "      <td>17.8</td>\n",
       "      <td>392.83</td>\n",
       "      <td>4.03</td>\n",
       "    </tr>\n",
       "    <tr>\n",
       "      <td>3</td>\n",
       "      <td>0.03237</td>\n",
       "      <td>0.0</td>\n",
       "      <td>2.18</td>\n",
       "      <td>0.0</td>\n",
       "      <td>0.458</td>\n",
       "      <td>6.998</td>\n",
       "      <td>45.8</td>\n",
       "      <td>6.0622</td>\n",
       "      <td>3.0</td>\n",
       "      <td>222.0</td>\n",
       "      <td>18.7</td>\n",
       "      <td>394.63</td>\n",
       "      <td>2.94</td>\n",
       "    </tr>\n",
       "    <tr>\n",
       "      <td>4</td>\n",
       "      <td>0.06905</td>\n",
       "      <td>0.0</td>\n",
       "      <td>2.18</td>\n",
       "      <td>0.0</td>\n",
       "      <td>0.458</td>\n",
       "      <td>7.147</td>\n",
       "      <td>54.2</td>\n",
       "      <td>6.0622</td>\n",
       "      <td>3.0</td>\n",
       "      <td>222.0</td>\n",
       "      <td>18.7</td>\n",
       "      <td>396.90</td>\n",
       "      <td>5.33</td>\n",
       "    </tr>\n",
       "  </tbody>\n",
       "</table>\n",
       "</div>"
      ],
      "text/plain": [
       "      CRIM    ZN  INDUS  CHAS    NOX     RM   AGE     DIS  RAD    TAX  \\\n",
       "0  0.00632  18.0   2.31   0.0  0.538  6.575  65.2  4.0900  1.0  296.0   \n",
       "1  0.02731   0.0   7.07   0.0  0.469  6.421  78.9  4.9671  2.0  242.0   \n",
       "2  0.02729   0.0   7.07   0.0  0.469  7.185  61.1  4.9671  2.0  242.0   \n",
       "3  0.03237   0.0   2.18   0.0  0.458  6.998  45.8  6.0622  3.0  222.0   \n",
       "4  0.06905   0.0   2.18   0.0  0.458  7.147  54.2  6.0622  3.0  222.0   \n",
       "\n",
       "   PTRATIO       B  LSTAT  \n",
       "0     15.3  396.90   4.98  \n",
       "1     17.8  396.90   9.14  \n",
       "2     17.8  392.83   4.03  \n",
       "3     18.7  394.63   2.94  \n",
       "4     18.7  396.90   5.33  "
      ]
     },
     "execution_count": 5,
     "metadata": {},
     "output_type": "execute_result"
    }
   ],
   "source": [
    "# View first 5 records of the DataFrame\n",
    "dfX.head()"
   ]
  },
  {
   "cell_type": "markdown",
   "metadata": {},
   "source": [
    "### 1.2. Examine the State of the Data"
   ]
  },
  {
   "cell_type": "code",
   "execution_count": 6,
   "metadata": {},
   "outputs": [
    {
     "name": "stdout",
     "output_type": "stream",
     "text": [
      "<class 'pandas.core.frame.DataFrame'>\n",
      "RangeIndex: 506 entries, 0 to 505\n",
      "Data columns (total 13 columns):\n",
      "CRIM       506 non-null float64\n",
      "ZN         506 non-null float64\n",
      "INDUS      506 non-null float64\n",
      "CHAS       506 non-null float64\n",
      "NOX        506 non-null float64\n",
      "RM         506 non-null float64\n",
      "AGE        506 non-null float64\n",
      "DIS        506 non-null float64\n",
      "RAD        506 non-null float64\n",
      "TAX        506 non-null float64\n",
      "PTRATIO    506 non-null float64\n",
      "B          506 non-null float64\n",
      "LSTAT      506 non-null float64\n",
      "dtypes: float64(13)\n",
      "memory usage: 51.5 KB\n"
     ]
    }
   ],
   "source": [
    "# View number of items and data type of each column\n",
    "dfX.info()"
   ]
  },
  {
   "cell_type": "code",
   "execution_count": 7,
   "metadata": {},
   "outputs": [
    {
     "name": "stdout",
     "output_type": "stream",
     "text": [
      "<class 'pandas.core.frame.DataFrame'>\n",
      "RangeIndex: 506 entries, 0 to 505\n",
      "Data columns (total 1 columns):\n",
      "PRICE    506 non-null float64\n",
      "dtypes: float64(1)\n",
      "memory usage: 4.1 KB\n"
     ]
    }
   ],
   "source": [
    "dfy.info()"
   ]
  },
  {
   "cell_type": "code",
   "execution_count": 8,
   "metadata": {},
   "outputs": [
    {
     "data": {
      "text/html": [
       "<div>\n",
       "<style scoped>\n",
       "    .dataframe tbody tr th:only-of-type {\n",
       "        vertical-align: middle;\n",
       "    }\n",
       "\n",
       "    .dataframe tbody tr th {\n",
       "        vertical-align: top;\n",
       "    }\n",
       "\n",
       "    .dataframe thead th {\n",
       "        text-align: right;\n",
       "    }\n",
       "</style>\n",
       "<table border=\"1\" class=\"dataframe\">\n",
       "  <thead>\n",
       "    <tr style=\"text-align: right;\">\n",
       "      <th></th>\n",
       "      <th>AGE</th>\n",
       "      <th>B</th>\n",
       "      <th>CHAS</th>\n",
       "      <th>CRIM</th>\n",
       "      <th>DIS</th>\n",
       "      <th>INDUS</th>\n",
       "      <th>LSTAT</th>\n",
       "      <th>NOX</th>\n",
       "      <th>PTRATIO</th>\n",
       "      <th>RAD</th>\n",
       "      <th>RM</th>\n",
       "      <th>TAX</th>\n",
       "      <th>ZN</th>\n",
       "    </tr>\n",
       "  </thead>\n",
       "  <tbody>\n",
       "    <tr>\n",
       "      <td>0</td>\n",
       "      <td>65.2</td>\n",
       "      <td>396.90</td>\n",
       "      <td>0.0</td>\n",
       "      <td>0.00632</td>\n",
       "      <td>4.0900</td>\n",
       "      <td>2.31</td>\n",
       "      <td>4.98</td>\n",
       "      <td>0.538</td>\n",
       "      <td>15.3</td>\n",
       "      <td>1.0</td>\n",
       "      <td>6.575</td>\n",
       "      <td>296.0</td>\n",
       "      <td>18.0</td>\n",
       "    </tr>\n",
       "    <tr>\n",
       "      <td>1</td>\n",
       "      <td>78.9</td>\n",
       "      <td>396.90</td>\n",
       "      <td>0.0</td>\n",
       "      <td>0.02731</td>\n",
       "      <td>4.9671</td>\n",
       "      <td>7.07</td>\n",
       "      <td>9.14</td>\n",
       "      <td>0.469</td>\n",
       "      <td>17.8</td>\n",
       "      <td>2.0</td>\n",
       "      <td>6.421</td>\n",
       "      <td>242.0</td>\n",
       "      <td>0.0</td>\n",
       "    </tr>\n",
       "    <tr>\n",
       "      <td>2</td>\n",
       "      <td>61.1</td>\n",
       "      <td>392.83</td>\n",
       "      <td>0.0</td>\n",
       "      <td>0.02729</td>\n",
       "      <td>4.9671</td>\n",
       "      <td>7.07</td>\n",
       "      <td>4.03</td>\n",
       "      <td>0.469</td>\n",
       "      <td>17.8</td>\n",
       "      <td>2.0</td>\n",
       "      <td>7.185</td>\n",
       "      <td>242.0</td>\n",
       "      <td>0.0</td>\n",
       "    </tr>\n",
       "    <tr>\n",
       "      <td>3</td>\n",
       "      <td>45.8</td>\n",
       "      <td>394.63</td>\n",
       "      <td>0.0</td>\n",
       "      <td>0.03237</td>\n",
       "      <td>6.0622</td>\n",
       "      <td>2.18</td>\n",
       "      <td>2.94</td>\n",
       "      <td>0.458</td>\n",
       "      <td>18.7</td>\n",
       "      <td>3.0</td>\n",
       "      <td>6.998</td>\n",
       "      <td>222.0</td>\n",
       "      <td>0.0</td>\n",
       "    </tr>\n",
       "    <tr>\n",
       "      <td>4</td>\n",
       "      <td>54.2</td>\n",
       "      <td>396.90</td>\n",
       "      <td>0.0</td>\n",
       "      <td>0.06905</td>\n",
       "      <td>6.0622</td>\n",
       "      <td>2.18</td>\n",
       "      <td>5.33</td>\n",
       "      <td>0.458</td>\n",
       "      <td>18.7</td>\n",
       "      <td>3.0</td>\n",
       "      <td>7.147</td>\n",
       "      <td>222.0</td>\n",
       "      <td>0.0</td>\n",
       "    </tr>\n",
       "  </tbody>\n",
       "</table>\n",
       "</div>"
      ],
      "text/plain": [
       "    AGE       B  CHAS     CRIM     DIS  INDUS  LSTAT    NOX  PTRATIO  RAD  \\\n",
       "0  65.2  396.90   0.0  0.00632  4.0900   2.31   4.98  0.538     15.3  1.0   \n",
       "1  78.9  396.90   0.0  0.02731  4.9671   7.07   9.14  0.469     17.8  2.0   \n",
       "2  61.1  392.83   0.0  0.02729  4.9671   7.07   4.03  0.469     17.8  2.0   \n",
       "3  45.8  394.63   0.0  0.03237  6.0622   2.18   2.94  0.458     18.7  3.0   \n",
       "4  54.2  396.90   0.0  0.06905  6.0622   2.18   5.33  0.458     18.7  3.0   \n",
       "\n",
       "      RM    TAX    ZN  \n",
       "0  6.575  296.0  18.0  \n",
       "1  6.421  242.0   0.0  \n",
       "2  7.185  242.0   0.0  \n",
       "3  6.998  222.0   0.0  \n",
       "4  7.147  222.0   0.0  "
      ]
     },
     "execution_count": 8,
     "metadata": {},
     "output_type": "execute_result"
    }
   ],
   "source": [
    "# Sort dfX columns in alphabetical order\n",
    "dfX = dfX.reindex(sorted(dfX.columns), axis=1)\n",
    "dfX.head()"
   ]
  },
  {
   "cell_type": "markdown",
   "metadata": {},
   "source": [
    "### 1.3 Basic Statistical Analysis"
   ]
  },
  {
   "cell_type": "code",
   "execution_count": 9,
   "metadata": {},
   "outputs": [
    {
     "data": {
      "text/html": [
       "<div>\n",
       "<style scoped>\n",
       "    .dataframe tbody tr th:only-of-type {\n",
       "        vertical-align: middle;\n",
       "    }\n",
       "\n",
       "    .dataframe tbody tr th {\n",
       "        vertical-align: top;\n",
       "    }\n",
       "\n",
       "    .dataframe thead th {\n",
       "        text-align: right;\n",
       "    }\n",
       "</style>\n",
       "<table border=\"1\" class=\"dataframe\">\n",
       "  <thead>\n",
       "    <tr style=\"text-align: right;\">\n",
       "      <th></th>\n",
       "      <th>AGE</th>\n",
       "      <th>B</th>\n",
       "      <th>CHAS</th>\n",
       "      <th>CRIM</th>\n",
       "      <th>DIS</th>\n",
       "      <th>INDUS</th>\n",
       "      <th>LSTAT</th>\n",
       "      <th>NOX</th>\n",
       "      <th>PTRATIO</th>\n",
       "      <th>RAD</th>\n",
       "      <th>RM</th>\n",
       "      <th>TAX</th>\n",
       "      <th>ZN</th>\n",
       "    </tr>\n",
       "  </thead>\n",
       "  <tbody>\n",
       "    <tr>\n",
       "      <td>count</td>\n",
       "      <td>506.000000</td>\n",
       "      <td>506.000000</td>\n",
       "      <td>506.000000</td>\n",
       "      <td>506.000000</td>\n",
       "      <td>506.000000</td>\n",
       "      <td>506.000000</td>\n",
       "      <td>506.000000</td>\n",
       "      <td>506.000000</td>\n",
       "      <td>506.000000</td>\n",
       "      <td>506.000000</td>\n",
       "      <td>506.000000</td>\n",
       "      <td>506.000000</td>\n",
       "      <td>506.000000</td>\n",
       "    </tr>\n",
       "    <tr>\n",
       "      <td>mean</td>\n",
       "      <td>68.574901</td>\n",
       "      <td>356.674032</td>\n",
       "      <td>0.069170</td>\n",
       "      <td>3.613524</td>\n",
       "      <td>3.795043</td>\n",
       "      <td>11.136779</td>\n",
       "      <td>12.653063</td>\n",
       "      <td>0.554695</td>\n",
       "      <td>18.455534</td>\n",
       "      <td>9.549407</td>\n",
       "      <td>6.284634</td>\n",
       "      <td>408.237154</td>\n",
       "      <td>11.363636</td>\n",
       "    </tr>\n",
       "    <tr>\n",
       "      <td>std</td>\n",
       "      <td>28.148861</td>\n",
       "      <td>91.294864</td>\n",
       "      <td>0.253994</td>\n",
       "      <td>8.601545</td>\n",
       "      <td>2.105710</td>\n",
       "      <td>6.860353</td>\n",
       "      <td>7.141062</td>\n",
       "      <td>0.115878</td>\n",
       "      <td>2.164946</td>\n",
       "      <td>8.707259</td>\n",
       "      <td>0.702617</td>\n",
       "      <td>168.537116</td>\n",
       "      <td>23.322453</td>\n",
       "    </tr>\n",
       "    <tr>\n",
       "      <td>min</td>\n",
       "      <td>2.900000</td>\n",
       "      <td>0.320000</td>\n",
       "      <td>0.000000</td>\n",
       "      <td>0.006320</td>\n",
       "      <td>1.129600</td>\n",
       "      <td>0.460000</td>\n",
       "      <td>1.730000</td>\n",
       "      <td>0.385000</td>\n",
       "      <td>12.600000</td>\n",
       "      <td>1.000000</td>\n",
       "      <td>3.561000</td>\n",
       "      <td>187.000000</td>\n",
       "      <td>0.000000</td>\n",
       "    </tr>\n",
       "    <tr>\n",
       "      <td>25%</td>\n",
       "      <td>45.025000</td>\n",
       "      <td>375.377500</td>\n",
       "      <td>0.000000</td>\n",
       "      <td>0.082045</td>\n",
       "      <td>2.100175</td>\n",
       "      <td>5.190000</td>\n",
       "      <td>6.950000</td>\n",
       "      <td>0.449000</td>\n",
       "      <td>17.400000</td>\n",
       "      <td>4.000000</td>\n",
       "      <td>5.885500</td>\n",
       "      <td>279.000000</td>\n",
       "      <td>0.000000</td>\n",
       "    </tr>\n",
       "    <tr>\n",
       "      <td>50%</td>\n",
       "      <td>77.500000</td>\n",
       "      <td>391.440000</td>\n",
       "      <td>0.000000</td>\n",
       "      <td>0.256510</td>\n",
       "      <td>3.207450</td>\n",
       "      <td>9.690000</td>\n",
       "      <td>11.360000</td>\n",
       "      <td>0.538000</td>\n",
       "      <td>19.050000</td>\n",
       "      <td>5.000000</td>\n",
       "      <td>6.208500</td>\n",
       "      <td>330.000000</td>\n",
       "      <td>0.000000</td>\n",
       "    </tr>\n",
       "    <tr>\n",
       "      <td>75%</td>\n",
       "      <td>94.075000</td>\n",
       "      <td>396.225000</td>\n",
       "      <td>0.000000</td>\n",
       "      <td>3.677083</td>\n",
       "      <td>5.188425</td>\n",
       "      <td>18.100000</td>\n",
       "      <td>16.955000</td>\n",
       "      <td>0.624000</td>\n",
       "      <td>20.200000</td>\n",
       "      <td>24.000000</td>\n",
       "      <td>6.623500</td>\n",
       "      <td>666.000000</td>\n",
       "      <td>12.500000</td>\n",
       "    </tr>\n",
       "    <tr>\n",
       "      <td>max</td>\n",
       "      <td>100.000000</td>\n",
       "      <td>396.900000</td>\n",
       "      <td>1.000000</td>\n",
       "      <td>88.976200</td>\n",
       "      <td>12.126500</td>\n",
       "      <td>27.740000</td>\n",
       "      <td>37.970000</td>\n",
       "      <td>0.871000</td>\n",
       "      <td>22.000000</td>\n",
       "      <td>24.000000</td>\n",
       "      <td>8.780000</td>\n",
       "      <td>711.000000</td>\n",
       "      <td>100.000000</td>\n",
       "    </tr>\n",
       "  </tbody>\n",
       "</table>\n",
       "</div>"
      ],
      "text/plain": [
       "              AGE           B        CHAS        CRIM         DIS       INDUS  \\\n",
       "count  506.000000  506.000000  506.000000  506.000000  506.000000  506.000000   \n",
       "mean    68.574901  356.674032    0.069170    3.613524    3.795043   11.136779   \n",
       "std     28.148861   91.294864    0.253994    8.601545    2.105710    6.860353   \n",
       "min      2.900000    0.320000    0.000000    0.006320    1.129600    0.460000   \n",
       "25%     45.025000  375.377500    0.000000    0.082045    2.100175    5.190000   \n",
       "50%     77.500000  391.440000    0.000000    0.256510    3.207450    9.690000   \n",
       "75%     94.075000  396.225000    0.000000    3.677083    5.188425   18.100000   \n",
       "max    100.000000  396.900000    1.000000   88.976200   12.126500   27.740000   \n",
       "\n",
       "            LSTAT         NOX     PTRATIO         RAD          RM         TAX  \\\n",
       "count  506.000000  506.000000  506.000000  506.000000  506.000000  506.000000   \n",
       "mean    12.653063    0.554695   18.455534    9.549407    6.284634  408.237154   \n",
       "std      7.141062    0.115878    2.164946    8.707259    0.702617  168.537116   \n",
       "min      1.730000    0.385000   12.600000    1.000000    3.561000  187.000000   \n",
       "25%      6.950000    0.449000   17.400000    4.000000    5.885500  279.000000   \n",
       "50%     11.360000    0.538000   19.050000    5.000000    6.208500  330.000000   \n",
       "75%     16.955000    0.624000   20.200000   24.000000    6.623500  666.000000   \n",
       "max     37.970000    0.871000   22.000000   24.000000    8.780000  711.000000   \n",
       "\n",
       "               ZN  \n",
       "count  506.000000  \n",
       "mean    11.363636  \n",
       "std     23.322453  \n",
       "min      0.000000  \n",
       "25%      0.000000  \n",
       "50%      0.000000  \n",
       "75%     12.500000  \n",
       "max    100.000000  "
      ]
     },
     "execution_count": 9,
     "metadata": {},
     "output_type": "execute_result"
    }
   ],
   "source": [
    "# View five-number summary of numeric variables\n",
    "dfX.describe()"
   ]
  },
  {
   "cell_type": "code",
   "execution_count": 10,
   "metadata": {},
   "outputs": [
    {
     "data": {
      "text/html": [
       "<div>\n",
       "<style scoped>\n",
       "    .dataframe tbody tr th:only-of-type {\n",
       "        vertical-align: middle;\n",
       "    }\n",
       "\n",
       "    .dataframe tbody tr th {\n",
       "        vertical-align: top;\n",
       "    }\n",
       "\n",
       "    .dataframe thead th {\n",
       "        text-align: right;\n",
       "    }\n",
       "</style>\n",
       "<table border=\"1\" class=\"dataframe\">\n",
       "  <thead>\n",
       "    <tr style=\"text-align: right;\">\n",
       "      <th></th>\n",
       "      <th>PRICE</th>\n",
       "    </tr>\n",
       "  </thead>\n",
       "  <tbody>\n",
       "    <tr>\n",
       "      <td>count</td>\n",
       "      <td>506.000000</td>\n",
       "    </tr>\n",
       "    <tr>\n",
       "      <td>mean</td>\n",
       "      <td>22.532806</td>\n",
       "    </tr>\n",
       "    <tr>\n",
       "      <td>std</td>\n",
       "      <td>9.197104</td>\n",
       "    </tr>\n",
       "    <tr>\n",
       "      <td>min</td>\n",
       "      <td>5.000000</td>\n",
       "    </tr>\n",
       "    <tr>\n",
       "      <td>25%</td>\n",
       "      <td>17.025000</td>\n",
       "    </tr>\n",
       "    <tr>\n",
       "      <td>50%</td>\n",
       "      <td>21.200000</td>\n",
       "    </tr>\n",
       "    <tr>\n",
       "      <td>75%</td>\n",
       "      <td>25.000000</td>\n",
       "    </tr>\n",
       "    <tr>\n",
       "      <td>max</td>\n",
       "      <td>50.000000</td>\n",
       "    </tr>\n",
       "  </tbody>\n",
       "</table>\n",
       "</div>"
      ],
      "text/plain": [
       "            PRICE\n",
       "count  506.000000\n",
       "mean    22.532806\n",
       "std      9.197104\n",
       "min      5.000000\n",
       "25%     17.025000\n",
       "50%     21.200000\n",
       "75%     25.000000\n",
       "max     50.000000"
      ]
     },
     "execution_count": 10,
     "metadata": {},
     "output_type": "execute_result"
    }
   ],
   "source": [
    "# View five-number summary of target variable\n",
    "dfy.describe()"
   ]
  },
  {
   "cell_type": "markdown",
   "metadata": {},
   "source": [
    "## 2. Training a Simple Regression Machine Learning Model <a id='p2' />\n",
    "\n",
    "Let us train a simple Multiple Linear Regression model to predict housing price based on the Boston housing dataset."
   ]
  },
  {
   "cell_type": "code",
   "execution_count": 11,
   "metadata": {},
   "outputs": [],
   "source": [
    "# import required libraries \n",
    "# for modelling\n",
    "import statsmodels.api as sm\n",
    "from sklearn.model_selection import train_test_split \n",
    "from sklearn import linear_model\n",
    "from sklearn import metrics\n",
    "from sklearn import model_selection\n",
    "from sklearn.metrics import mean_squared_error, mean_absolute_error\n",
    "from math import sqrt\n",
    "import random\n",
    "\n",
    "# for visualisation\n",
    "import matplotlib.pyplot as plt \n",
    "%matplotlib inline"
   ]
  },
  {
   "cell_type": "markdown",
   "metadata": {},
   "source": [
    "### 2.1 Define Model Inputs (X) & Output (y)"
   ]
  },
  {
   "cell_type": "code",
   "execution_count": 12,
   "metadata": {},
   "outputs": [],
   "source": [
    "# Convert dfX & dfy (Pandas Dataframes) to X & y (Numpy Arrays) for modelling purpose\n",
    "X = dfX.values\n",
    "y = dfy.values"
   ]
  },
  {
   "cell_type": "code",
   "execution_count": 13,
   "metadata": {},
   "outputs": [],
   "source": [
    "# Split both Inputs (X) and Output (y) into training set (70%) and testing set (30%)\n",
    "X_train, X_test, y_train, y_test = train_test_split(X, y, test_size=0.3, random_state=2)\n",
    "\n",
    "# Random state ensure consistent random samples are selected"
   ]
  },
  {
   "cell_type": "markdown",
   "metadata": {},
   "source": [
    "### 2.1 Train a Base Model"
   ]
  },
  {
   "cell_type": "code",
   "execution_count": 14,
   "metadata": {},
   "outputs": [
    {
     "data": {
      "text/plain": [
       "LinearRegression(copy_X=True, fit_intercept=True, n_jobs=None, normalize=False)"
      ]
     },
     "execution_count": 14,
     "metadata": {},
     "output_type": "execute_result"
    }
   ],
   "source": [
    "#Initialize the linear regression model\n",
    "lm = linear_model.LinearRegression()\n",
    "\n",
    "# Fit the model to the training set\n",
    "lm.fit(X_train,y_train)"
   ]
  },
  {
   "cell_type": "markdown",
   "metadata": {},
   "source": [
    "Recall equation for multiple linear regression: `y = b0 + b1.x1 + b2.x2 + ... + b13.x13`"
   ]
  },
  {
   "cell_type": "code",
   "execution_count": 15,
   "metadata": {
    "scrolled": true
   },
   "outputs": [
    {
     "name": "stdout",
     "output_type": "stream",
     "text": [
      "Index(['AGE', 'B', 'CHAS', 'CRIM', 'DIS', 'INDUS', 'LSTAT', 'NOX', 'PTRATIO',\n",
      "       'RAD', 'RM', 'TAX', 'ZN'],\n",
      "      dtype='object')\n"
     ]
    },
    {
     "data": {
      "text/plain": [
       "array([[ 1.89769212e-02,  1.25396786e-02,  3.19555762e+00,\n",
       "        -9.32979504e-02, -1.26552555e+00, -1.81754255e-02,\n",
       "        -6.07618971e-01, -1.51042926e+01, -1.08963451e+00,\n",
       "         3.22156319e-01,  3.50102142e+00, -1.09456764e-02,\n",
       "         3.11368143e-02]])"
      ]
     },
     "execution_count": 15,
     "metadata": {},
     "output_type": "execute_result"
    }
   ],
   "source": [
    "# Display coefficient value of each input feature\n",
    "print(dfX.columns)\n",
    "lm.coef_"
   ]
  },
  {
   "cell_type": "code",
   "execution_count": 16,
   "metadata": {},
   "outputs": [
    {
     "data": {
      "text/plain": [
       "array([37.1625413])"
      ]
     },
     "execution_count": 16,
     "metadata": {},
     "output_type": "execute_result"
    }
   ],
   "source": [
    "# Display intercept (b0) of lm model\n",
    "lm.intercept_"
   ]
  },
  {
   "cell_type": "code",
   "execution_count": 17,
   "metadata": {},
   "outputs": [
    {
     "data": {
      "text/plain": [
       "0.7330247212691926"
      ]
     },
     "execution_count": 17,
     "metadata": {},
     "output_type": "execute_result"
    }
   ],
   "source": [
    "# Display the R-squared value of the regression model\n",
    "lm.score(X_test, y_test)"
   ]
  },
  {
   "cell_type": "code",
   "execution_count": 18,
   "metadata": {
    "scrolled": true
   },
   "outputs": [
    {
     "data": {
      "text/plain": [
       "array([[22.59264407],\n",
       "       [33.43591624],\n",
       "       [20.57260562],\n",
       "       [20.87032745],\n",
       "       [20.96336386],\n",
       "       [21.67859636],\n",
       "       [26.96872909],\n",
       "       [33.07981034],\n",
       "       [25.75420221],\n",
       "       [32.44484226],\n",
       "       [20.98756151],\n",
       "       [41.08622409],\n",
       "       [15.54043479],\n",
       "       [ 9.31516691],\n",
       "       [23.41247705],\n",
       "       [13.18057863],\n",
       "       [28.89268771],\n",
       "       [16.77230332],\n",
       "       [26.56279793],\n",
       "       [39.27551713],\n",
       "       [34.86324692],\n",
       "       [35.25569317],\n",
       "       [22.10523467],\n",
       "       [29.22205188],\n",
       "       [24.92886717],\n",
       "       [43.12511664],\n",
       "       [19.58096762],\n",
       "       [22.92892649],\n",
       "       [17.21831688],\n",
       "       [27.37541209],\n",
       "       [34.35808417],\n",
       "       [26.05550016],\n",
       "       [27.23249907],\n",
       "       [23.60848248],\n",
       "       [38.65539061],\n",
       "       [20.89023593],\n",
       "       [32.98193239],\n",
       "       [32.54116136],\n",
       "       [-5.21297056],\n",
       "       [19.876661  ],\n",
       "       [17.37875785],\n",
       "       [11.59315301],\n",
       "       [24.19183415],\n",
       "       [40.08085683],\n",
       "       [34.59211808],\n",
       "       [15.9591701 ],\n",
       "       [34.28495578],\n",
       "       [17.08435408],\n",
       "       [11.95262846],\n",
       "       [30.51317769],\n",
       "       [23.81309801],\n",
       "       [22.70513662],\n",
       "       [19.60315583],\n",
       "       [14.31101641],\n",
       "       [24.05562963],\n",
       "       [27.13119577],\n",
       "       [17.55074675],\n",
       "       [32.33429329],\n",
       "       [25.90600952],\n",
       "       [13.45425775],\n",
       "       [21.10521641],\n",
       "       [19.8106486 ],\n",
       "       [18.43631987],\n",
       "       [23.59670206],\n",
       "       [25.61659579],\n",
       "       [15.75345867],\n",
       "       [19.15102127],\n",
       "       [17.30389352],\n",
       "       [ 8.79425945],\n",
       "       [34.73436729],\n",
       "       [13.77673251],\n",
       "       [34.81136169],\n",
       "       [34.4004453 ],\n",
       "       [20.23236487],\n",
       "       [19.58413516],\n",
       "       [ 2.38785331],\n",
       "       [10.95767354],\n",
       "       [ 9.07154921],\n",
       "       [18.17049544],\n",
       "       [ 9.96807614],\n",
       "       [25.5845883 ],\n",
       "       [15.91402787],\n",
       "       [19.7106465 ],\n",
       "       [35.80470963],\n",
       "       [27.23931936],\n",
       "       [22.77200485],\n",
       "       [28.35739425],\n",
       "       [25.64457635],\n",
       "       [30.54177985],\n",
       "       [27.83689828],\n",
       "       [18.70091448],\n",
       "       [12.84244849],\n",
       "       [42.00726353],\n",
       "       [23.0820444 ],\n",
       "       [14.68246098],\n",
       "       [12.59927713],\n",
       "       [38.04182269],\n",
       "       [33.02126332],\n",
       "       [13.28322309],\n",
       "       [19.8160625 ],\n",
       "       [25.6853486 ],\n",
       "       [33.48869004],\n",
       "       [29.1398756 ],\n",
       "       [ 6.39669845],\n",
       "       [24.72754535],\n",
       "       [27.26344929],\n",
       "       [27.87020145],\n",
       "       [ 0.30109097],\n",
       "       [30.29904134],\n",
       "       [35.57498008],\n",
       "       [13.95278264],\n",
       "       [21.21669769],\n",
       "       [28.01032279],\n",
       "       [30.76447659],\n",
       "       [30.24867909],\n",
       "       [26.97465427],\n",
       "       [17.09680876],\n",
       "       [22.53085509],\n",
       "       [20.1173471 ],\n",
       "       [28.47594377],\n",
       "       [24.78765703],\n",
       "       [21.44113295],\n",
       "       [20.26300391],\n",
       "       [11.38328331],\n",
       "       [25.69523411],\n",
       "       [18.36161977],\n",
       "       [24.06336452],\n",
       "       [13.97577067],\n",
       "       [29.65638668],\n",
       "       [41.94987322],\n",
       "       [20.843329  ],\n",
       "       [23.99323375],\n",
       "       [25.65819027],\n",
       "       [17.63034852],\n",
       "       [20.9762942 ],\n",
       "       [25.98879066],\n",
       "       [24.09897604],\n",
       "       [21.55125181],\n",
       "       [28.10240825],\n",
       "       [20.18217411],\n",
       "       [36.01707864],\n",
       "       [13.42415319],\n",
       "       [17.99604771],\n",
       "       [24.44939919],\n",
       "       [19.16303049],\n",
       "       [18.12518252],\n",
       "       [25.55536416],\n",
       "       [16.21018459],\n",
       "       [26.0928188 ],\n",
       "       [23.01734304],\n",
       "       [21.01359732],\n",
       "       [34.21672825],\n",
       "       [12.25554504],\n",
       "       [22.89775844],\n",
       "       [15.52310229],\n",
       "       [38.22165353],\n",
       "       [29.53464611],\n",
       "       [22.19771925],\n",
       "       [27.75975026],\n",
       "       [20.57117211],\n",
       "       [15.40302864],\n",
       "       [19.23104084],\n",
       "       [23.47058142],\n",
       "       [23.1487319 ],\n",
       "       [17.07271865],\n",
       "       [15.63030104],\n",
       "       [19.14963572],\n",
       "       [24.31055418],\n",
       "       [16.83747768],\n",
       "       [19.88914282],\n",
       "       [21.31330035],\n",
       "       [22.0186475 ],\n",
       "       [13.79175737],\n",
       "       [11.76265251],\n",
       "       [23.03332865],\n",
       "       [22.28541712],\n",
       "       [ 8.69634741],\n",
       "       [29.10617554],\n",
       "       [32.06661537],\n",
       "       [26.16492841],\n",
       "       [11.4503614 ],\n",
       "       [19.52461663],\n",
       "       [38.42475962],\n",
       "       [11.53131672],\n",
       "       [27.4053952 ],\n",
       "       [21.09277447],\n",
       "       [32.37108516],\n",
       "       [44.05793989],\n",
       "       [15.73510633],\n",
       "       [16.82635347],\n",
       "       [ 6.1742528 ],\n",
       "       [20.45656752],\n",
       "       [11.695656  ],\n",
       "       [13.14331134],\n",
       "       [20.71382239],\n",
       "       [20.58162199],\n",
       "       [30.60073396],\n",
       "       [32.61675547],\n",
       "       [17.87246401],\n",
       "       [22.6725142 ],\n",
       "       [28.19977805],\n",
       "       [11.92761369],\n",
       "       [27.69396817],\n",
       "       [36.32895338],\n",
       "       [21.04101249],\n",
       "       [24.46081801],\n",
       "       [19.97766605],\n",
       "       [11.63623918],\n",
       "       [19.35828171],\n",
       "       [17.81821286],\n",
       "       [11.9648667 ],\n",
       "       [30.87389989],\n",
       "       [19.85227593],\n",
       "       [22.06194555],\n",
       "       [23.9430153 ],\n",
       "       [16.7078529 ],\n",
       "       [29.03082973],\n",
       "       [15.07762306],\n",
       "       [20.01792542],\n",
       "       [15.78038758],\n",
       "       [22.58209191],\n",
       "       [30.33993985],\n",
       "       [28.17722579],\n",
       "       [13.59543906],\n",
       "       [24.63096538],\n",
       "       [30.99671542],\n",
       "       [14.40747712],\n",
       "       [20.52355804],\n",
       "       [24.0303904 ],\n",
       "       [20.9455586 ],\n",
       "       [30.1058576 ],\n",
       "       [33.19462645],\n",
       "       [ 9.88475283],\n",
       "       [28.52449697],\n",
       "       [19.14693806],\n",
       "       [17.44124411],\n",
       "       [13.17310412],\n",
       "       [30.1669889 ],\n",
       "       [12.62890888],\n",
       "       [35.36906321],\n",
       "       [21.24711314],\n",
       "       [36.31581849],\n",
       "       [ 6.29769966],\n",
       "       [23.61726698],\n",
       "       [18.25072818],\n",
       "       [15.42177397],\n",
       "       [14.76724917],\n",
       "       [27.04129501],\n",
       "       [20.33046696],\n",
       "       [38.74041762],\n",
       "       [22.9312423 ],\n",
       "       [31.21157775],\n",
       "       [29.44664058],\n",
       "       [20.58307139],\n",
       "       [27.75013986],\n",
       "       [18.52193956],\n",
       "       [36.07486133],\n",
       "       [21.62128314],\n",
       "       [18.98987172],\n",
       "       [27.17244839],\n",
       "       [22.40150147],\n",
       "       [25.16642821],\n",
       "       [ 7.91138692],\n",
       "       [24.83707272],\n",
       "       [18.4798696 ],\n",
       "       [21.86229016],\n",
       "       [23.69927563],\n",
       "       [20.209424  ],\n",
       "       [18.91027206],\n",
       "       [17.633227  ],\n",
       "       [12.96171414],\n",
       "       [27.7840066 ],\n",
       "       [12.94038934],\n",
       "       [23.92384433],\n",
       "       [22.87844806],\n",
       "       [18.65179857],\n",
       "       [15.73875411],\n",
       "       [27.29022045],\n",
       "       [24.22099219],\n",
       "       [24.88510296],\n",
       "       [24.90230112],\n",
       "       [24.9649673 ],\n",
       "       [16.42380883],\n",
       "       [19.76019928],\n",
       "       [24.76065082],\n",
       "       [23.17744009],\n",
       "       [ 5.57665976],\n",
       "       [21.51017013],\n",
       "       [ 8.73298857],\n",
       "       [18.21218538],\n",
       "       [20.69898813],\n",
       "       [10.21694937],\n",
       "       [37.55748179],\n",
       "       [26.41711591],\n",
       "       [15.96661361],\n",
       "       [15.27723622],\n",
       "       [17.24036518],\n",
       "       [28.58226325],\n",
       "       [17.38011299],\n",
       "       [17.57454569],\n",
       "       [ 7.39543602],\n",
       "       [21.6126239 ],\n",
       "       [19.99121376],\n",
       "       [21.30518764],\n",
       "       [28.19695346],\n",
       "       [27.74124284],\n",
       "       [28.03926593],\n",
       "       [15.72098927],\n",
       "       [18.4811161 ],\n",
       "       [21.58893282],\n",
       "       [17.08223719],\n",
       "       [21.10836008],\n",
       "       [14.50485364],\n",
       "       [28.35326459],\n",
       "       [36.24101667],\n",
       "       [31.47697991],\n",
       "       [24.46661242],\n",
       "       [19.85837805],\n",
       "       [21.26828792],\n",
       "       [15.69495816],\n",
       "       [21.90275519],\n",
       "       [14.14539347],\n",
       "       [22.50644329],\n",
       "       [20.20396159],\n",
       "       [24.5925658 ],\n",
       "       [21.56258542],\n",
       "       [15.11726653],\n",
       "       [35.64189991],\n",
       "       [18.80363401],\n",
       "       [40.24506657],\n",
       "       [23.16875235],\n",
       "       [25.59217899],\n",
       "       [23.67443958],\n",
       "       [19.62289699],\n",
       "       [ 7.36830411],\n",
       "       [25.55432041],\n",
       "       [26.92791775],\n",
       "       [21.32006137],\n",
       "       [18.19570592],\n",
       "       [24.63785443],\n",
       "       [21.24992142],\n",
       "       [28.70325895],\n",
       "       [16.6455291 ],\n",
       "       [42.18998743],\n",
       "       [35.33169867],\n",
       "       [24.05699104],\n",
       "       [23.73483157],\n",
       "       [13.68617178],\n",
       "       [31.53369879],\n",
       "       [15.632435  ],\n",
       "       [23.98698448],\n",
       "       [20.53691212],\n",
       "       [19.49440448],\n",
       "       [26.905869  ]])"
      ]
     },
     "execution_count": 18,
     "metadata": {},
     "output_type": "execute_result"
    }
   ],
   "source": [
    "# Calculate the fitted values for training set\n",
    "y_fitted = lm.predict(X_train) # returns housing price fitted to lm model\n",
    "y_fitted"
   ]
  },
  {
   "cell_type": "code",
   "execution_count": 19,
   "metadata": {},
   "outputs": [],
   "source": [
    "# Use the lm model to perform prediction on test data and save the predicted output\n",
    "y_pred = lm.predict(X_test)"
   ]
  },
  {
   "cell_type": "code",
   "execution_count": 20,
   "metadata": {},
   "outputs": [
    {
     "data": {
      "image/png": "[encoded data removed]",
      "text/plain": [
       "<Figure size 432x288 with 1 Axes>"
      ]
     },
     "metadata": {
      "needs_background": "light"
     },
     "output_type": "display_data"
    }
   ],
   "source": [
    "# Plot the y_test (actual price) against the y_pred (predicted price)\n",
    "# Set x and y tick values\n",
    "x_axis = np.linspace(0, 50, 50)\n",
    "y_axis = x_axis\n",
    "\n",
    "# Plot y_test vs y_pred chart\n",
    "plt.plot(y_test, y_pred, '.')\n",
    "plt.title(label='Comparison', fontsize=20)\n",
    "plt.xlabel(xlabel='y_test (Actual Price)', fontsize=12)\n",
    "plt.ylabel(ylabel='y_pred (Predicted Price)', fontsize=12)\n",
    "plt.plot(x_axis, y_axis)\n",
    "plt.show()"
   ]
  },
  {
   "cell_type": "markdown",
   "metadata": {},
   "source": [
    "## 3. Fine Tune a Simple Regression Model <a id='p3' />"
   ]
  },
  {
   "cell_type": "markdown",
   "metadata": {},
   "source": [
    "To fine tune the model, we need to utilize the `statsmodel` package to find out the p-value for each coefficient so as to understand our confidence levels on the coefficient of each feature."
   ]
  },
  {
   "cell_type": "code",
   "execution_count": 21,
   "metadata": {},
   "outputs": [],
   "source": [
    "# We will now train a Logistic Regression model using the statsmodel package\n",
    "# Add a constant to the X_train dataset and rename is as X_train_sm\n",
    "X_train_sm = sm.add_constant(X_train)"
   ]
  },
  {
   "cell_type": "code",
   "execution_count": 22,
   "metadata": {},
   "outputs": [],
   "source": [
    "# Create another model using statsmodel's Ordinary Least Squares (OLS) method for model fitting\n",
    "lm2 = sm.OLS(y_train, X_train_sm).fit()"
   ]
  },
  {
   "cell_type": "code",
   "execution_count": 23,
   "metadata": {},
   "outputs": [
    {
     "data": {
      "text/html": [
       "<table class=\"simpletable\">\n",
       "<caption>OLS Regression Results</caption>\n",
       "<tr>\n",
       "  <th>Dep. Variable:</th>            <td>y</td>        <th>  R-squared:         </th> <td>   0.736</td>\n",
       "</tr>\n",
       "<tr>\n",
       "  <th>Model:</th>                   <td>OLS</td>       <th>  Adj. R-squared:    </th> <td>   0.726</td>\n",
       "</tr>\n",
       "<tr>\n",
       "  <th>Method:</th>             <td>Least Squares</td>  <th>  F-statistic:       </th> <td>   72.94</td>\n",
       "</tr>\n",
       "<tr>\n",
       "  <th>Date:</th>             <td>Sun, 26 Jul 2020</td> <th>  Prob (F-statistic):</th> <td>6.06e-90</td>\n",
       "</tr>\n",
       "<tr>\n",
       "  <th>Time:</th>                 <td>16:29:27</td>     <th>  Log-Likelihood:    </th> <td> -1050.0</td>\n",
       "</tr>\n",
       "<tr>\n",
       "  <th>No. Observations:</th>      <td>   354</td>      <th>  AIC:               </th> <td>   2128.</td>\n",
       "</tr>\n",
       "<tr>\n",
       "  <th>Df Residuals:</th>          <td>   340</td>      <th>  BIC:               </th> <td>   2182.</td>\n",
       "</tr>\n",
       "<tr>\n",
       "  <th>Df Model:</th>              <td>    13</td>      <th>                     </th>     <td> </td>   \n",
       "</tr>\n",
       "<tr>\n",
       "  <th>Covariance Type:</th>      <td>nonrobust</td>    <th>                     </th>     <td> </td>   \n",
       "</tr>\n",
       "</table>\n",
       "<table class=\"simpletable\">\n",
       "<tr>\n",
       "    <td></td>       <th>coef</th>     <th>std err</th>      <th>t</th>      <th>P>|t|</th>  <th>[0.025</th>    <th>0.975]</th>  \n",
       "</tr>\n",
       "<tr>\n",
       "  <th>const</th> <td>   37.1625</td> <td>    6.104</td> <td>    6.088</td> <td> 0.000</td> <td>   25.156</td> <td>   49.169</td>\n",
       "</tr>\n",
       "<tr>\n",
       "  <th>x1</th>    <td>    0.0190</td> <td>    0.016</td> <td>    1.172</td> <td> 0.242</td> <td>   -0.013</td> <td>    0.051</td>\n",
       "</tr>\n",
       "<tr>\n",
       "  <th>x2</th>    <td>    0.0125</td> <td>    0.003</td> <td>    3.875</td> <td> 0.000</td> <td>    0.006</td> <td>    0.019</td>\n",
       "</tr>\n",
       "<tr>\n",
       "  <th>x3</th>    <td>    3.1956</td> <td>    1.047</td> <td>    3.052</td> <td> 0.002</td> <td>    1.136</td> <td>    5.255</td>\n",
       "</tr>\n",
       "<tr>\n",
       "  <th>x4</th>    <td>   -0.0933</td> <td>    0.037</td> <td>   -2.537</td> <td> 0.012</td> <td>   -0.166</td> <td>   -0.021</td>\n",
       "</tr>\n",
       "<tr>\n",
       "  <th>x5</th>    <td>   -1.2655</td> <td>    0.232</td> <td>   -5.454</td> <td> 0.000</td> <td>   -1.722</td> <td>   -0.809</td>\n",
       "</tr>\n",
       "<tr>\n",
       "  <th>x6</th>    <td>   -0.0182</td> <td>    0.071</td> <td>   -0.255</td> <td> 0.799</td> <td>   -0.158</td> <td>    0.122</td>\n",
       "</tr>\n",
       "<tr>\n",
       "  <th>x7</th>    <td>   -0.6076</td> <td>    0.063</td> <td>   -9.652</td> <td> 0.000</td> <td>   -0.731</td> <td>   -0.484</td>\n",
       "</tr>\n",
       "<tr>\n",
       "  <th>x8</th>    <td>  -15.1043</td> <td>    4.558</td> <td>   -3.314</td> <td> 0.001</td> <td>  -24.070</td> <td>   -6.138</td>\n",
       "</tr>\n",
       "<tr>\n",
       "  <th>x9</th>    <td>   -1.0896</td> <td>    0.163</td> <td>   -6.692</td> <td> 0.000</td> <td>   -1.410</td> <td>   -0.769</td>\n",
       "</tr>\n",
       "<tr>\n",
       "  <th>x10</th>   <td>    0.3222</td> <td>    0.077</td> <td>    4.173</td> <td> 0.000</td> <td>    0.170</td> <td>    0.474</td>\n",
       "</tr>\n",
       "<tr>\n",
       "  <th>x11</th>   <td>    3.5010</td> <td>    0.475</td> <td>    7.371</td> <td> 0.000</td> <td>    2.567</td> <td>    4.435</td>\n",
       "</tr>\n",
       "<tr>\n",
       "  <th>x12</th>   <td>   -0.0109</td> <td>    0.004</td> <td>   -2.541</td> <td> 0.011</td> <td>   -0.019</td> <td>   -0.002</td>\n",
       "</tr>\n",
       "<tr>\n",
       "  <th>x13</th>   <td>    0.0311</td> <td>    0.017</td> <td>    1.799</td> <td> 0.073</td> <td>   -0.003</td> <td>    0.065</td>\n",
       "</tr>\n",
       "</table>\n",
       "<table class=\"simpletable\">\n",
       "<tr>\n",
       "  <th>Omnibus:</th>       <td>91.516</td> <th>  Durbin-Watson:     </th> <td>   2.026</td>\n",
       "</tr>\n",
       "<tr>\n",
       "  <th>Prob(Omnibus):</th> <td> 0.000</td> <th>  Jarque-Bera (JB):  </th> <td> 296.637</td>\n",
       "</tr>\n",
       "<tr>\n",
       "  <th>Skew:</th>          <td> 1.139</td> <th>  Prob(JB):          </th> <td>3.86e-65</td>\n",
       "</tr>\n",
       "<tr>\n",
       "  <th>Kurtosis:</th>      <td> 6.863</td> <th>  Cond. No.          </th> <td>1.49e+04</td>\n",
       "</tr>\n",
       "</table><br/><br/>Warnings:<br/>[1] Standard Errors assume that the covariance matrix of the errors is correctly specified.<br/>[2] The condition number is large, 1.49e+04. This might indicate that there are<br/>strong multicollinearity or other numerical problems."
      ],
      "text/plain": [
       "<class 'statsmodels.iolib.summary.Summary'>\n",
       "\"\"\"\n",
       "                            OLS Regression Results                            \n",
       "==============================================================================\n",
       "Dep. Variable:                      y   R-squared:                       0.736\n",
       "Model:                            OLS   Adj. R-squared:                  0.726\n",
       "Method:                 Least Squares   F-statistic:                     72.94\n",
       "Date:                Sun, 26 Jul 2020   Prob (F-statistic):           6.06e-90\n",
       "Time:                        16:29:27   Log-Likelihood:                -1050.0\n",
       "No. Observations:                 354   AIC:                             2128.\n",
       "Df Residuals:                     340   BIC:                             2182.\n",
       "Df Model:                          13                                         \n",
       "Covariance Type:            nonrobust                                         \n",
       "==============================================================================\n",
       "                 coef    std err          t      P>|t|      [0.025      0.975]\n",
       "------------------------------------------------------------------------------\n",
       "const         37.1625      6.104      6.088      0.000      25.156      49.169\n",
       "x1             0.0190      0.016      1.172      0.242      -0.013       0.051\n",
       "x2             0.0125      0.003      3.875      0.000       0.006       0.019\n",
       "x3             3.1956      1.047      3.052      0.002       1.136       5.255\n",
       "x4            -0.0933      0.037     -2.537      0.012      -0.166      -0.021\n",
       "x5            -1.2655      0.232     -5.454      0.000      -1.722      -0.809\n",
       "x6            -0.0182      0.071     -0.255      0.799      -0.158       0.122\n",
       "x7            -0.6076      0.063     -9.652      0.000      -0.731      -0.484\n",
       "x8           -15.1043      4.558     -3.314      0.001     -24.070      -6.138\n",
       "x9            -1.0896      0.163     -6.692      0.000      -1.410      -0.769\n",
       "x10            0.3222      0.077      4.173      0.000       0.170       0.474\n",
       "x11            3.5010      0.475      7.371      0.000       2.567       4.435\n",
       "x12           -0.0109      0.004     -2.541      0.011      -0.019      -0.002\n",
       "x13            0.0311      0.017      1.799      0.073      -0.003       0.065\n",
       "==============================================================================\n",
       "Omnibus:                       91.516   Durbin-Watson:                   2.026\n",
       "Prob(Omnibus):                  0.000   Jarque-Bera (JB):              296.637\n",
       "Skew:                           1.139   Prob(JB):                     3.86e-65\n",
       "Kurtosis:                       6.863   Cond. No.                     1.49e+04\n",
       "==============================================================================\n",
       "\n",
       "Warnings:\n",
       "[1] Standard Errors assume that the covariance matrix of the errors is correctly specified.\n",
       "[2] The condition number is large, 1.49e+04. This might indicate that there are\n",
       "strong multicollinearity or other numerical problems.\n",
       "\"\"\""
      ]
     },
     "execution_count": 23,
     "metadata": {},
     "output_type": "execute_result"
    }
   ],
   "source": [
    "# Print out the Model Summary\n",
    "lm2.summary()"
   ]
  },
  {
   "cell_type": "code",
   "execution_count": 24,
   "metadata": {},
   "outputs": [
    {
     "data": {
      "text/plain": [
       "Index(['AGE', 'B', 'CHAS', 'CRIM', 'DIS', 'INDUS', 'LSTAT', 'NOX', 'PTRATIO',\n",
       "       'RAD', 'RM', 'TAX', 'ZN'],\n",
       "      dtype='object')"
      ]
     },
     "execution_count": 24,
     "metadata": {},
     "output_type": "execute_result"
    }
   ],
   "source": [
    "# Recall the column names of df\n",
    "dfX.columns"
   ]
  },
  {
   "cell_type": "markdown",
   "metadata": {},
   "source": [
    "Features with p-value smaller than 0.05 can be recognized as the strong indicators. \n",
    "\n",
    "The identified features are: x2, x3, x4, x5, x7, x8, x9, x10, x11 and x12, namely B, CHAS, CRIM, DIS, LSTAT, NOX, PTRATIO, RAD, RM and TAX."
   ]
  },
  {
   "cell_type": "code",
   "execution_count": 25,
   "metadata": {},
   "outputs": [],
   "source": [
    "# Select only features identified with high p-value by statsmodel\n",
    "dfX_new = dfX[['B','CHAS','CRIM','DIS','LSTAT','NOX','PTRATIO','RAD','RM','TAX']]"
   ]
  },
  {
   "cell_type": "code",
   "execution_count": 26,
   "metadata": {},
   "outputs": [
    {
     "data": {
      "text/plain": [
       "0.7272412745090272"
      ]
     },
     "execution_count": 26,
     "metadata": {},
     "output_type": "execute_result"
    }
   ],
   "source": [
    "# Repeat training process using sklearn methoud with reduced features\n",
    "X_new = dfX_new.values\n",
    "X_new\n",
    "X_train_new, X_test_new, y_train_new, y_test_new = train_test_split(X_new, y, test_size=0.3, random_state=2)\n",
    "lm3 = linear_model.LinearRegression()\n",
    "lm3.fit(X_train_new,y_train_new)\n",
    "lm3.score(X_test_new,y_test_new)"
   ]
  },
  {
   "cell_type": "markdown",
   "metadata": {},
   "source": [
    "## 4. Evaluate a Regression Machine Learning Model <a id='p4' />\n",
    "### Holdout Validation Approach - Train and Test Set Split"
   ]
  },
  {
   "cell_type": "markdown",
   "metadata": {},
   "source": [
    "### 4.1 Using R-squared Value"
   ]
  },
  {
   "cell_type": "code",
   "execution_count": 27,
   "metadata": {},
   "outputs": [
    {
     "name": "stdout",
     "output_type": "stream",
     "text": [
      "R-squared: 0.733\n"
     ]
    }
   ],
   "source": [
    "# Calculate the R-squared value of lm - Base\n",
    "r1 = lm.score(X_test, y_test)\n",
    "print(\"R-squared: {:.3f}\".format(r1))"
   ]
  },
  {
   "cell_type": "code",
   "execution_count": 28,
   "metadata": {},
   "outputs": [
    {
     "name": "stdout",
     "output_type": "stream",
     "text": [
      "R-squared: 0.727\n"
     ]
    }
   ],
   "source": [
    "# Calculate the R-squared value of lm3 - With reduced features\n",
    "r3 = lm3.score(X_test_new, y_test_new)\n",
    "print(\"R-squared: {:.3f}\".format(r3))"
   ]
  },
  {
   "cell_type": "markdown",
   "metadata": {},
   "source": [
    "### 4.2 Using Error Value"
   ]
  },
  {
   "cell_type": "code",
   "execution_count": 29,
   "metadata": {},
   "outputs": [],
   "source": [
    "# Create functions to calcuate RMSE and MAE\n",
    "def Root_Mean_SE(actual, pred):\n",
    "    rmse = np.sqrt((np.sum((actual - pred)**2))/len(pred))\n",
    "    return rmse\n",
    "\n",
    "def Mean_Abs_E(actual, pred):\n",
    "    mae = (np.sum(abs(actual - pred)))/len(pred)\n",
    "    return mae"
   ]
  },
  {
   "cell_type": "code",
   "execution_count": 30,
   "metadata": {},
   "outputs": [
    {
     "name": "stdout",
     "output_type": "stream",
     "text": [
      "RMSE of Model 1: 4.80\n",
      "MAE of Model 1: 3.39\n"
     ]
    }
   ],
   "source": [
    "# Alternative method to calculate RMSE and MAE using mean_squared_error and mean_absolute_error packages\n",
    "# RMSE of base model\n",
    "MSE1 = mean_squared_error(y_test, y_pred)\n",
    "RMSE1 = sqrt(MSE1)\n",
    "\n",
    "#MAE of base model\n",
    "MAE1 = mean_absolute_error(y_test, y_pred)\n",
    "\n",
    "print('RMSE of Model 1: {:.2f}'.format(RMSE1))\n",
    "print('MAE of Model 1: {:.2f}'.format(MAE1))"
   ]
  },
  {
   "cell_type": "code",
   "execution_count": 31,
   "metadata": {},
   "outputs": [],
   "source": [
    "# Use the lm3 model to perform prediction on test data and save the predicted output\n",
    "y_pred3 = lm3.predict(X_test_new)"
   ]
  },
  {
   "cell_type": "code",
   "execution_count": 32,
   "metadata": {},
   "outputs": [
    {
     "name": "stdout",
     "output_type": "stream",
     "text": [
      "RMSE of Model 1: 4.85\n",
      "MAE of Model 1: 3.47\n"
     ]
    }
   ],
   "source": [
    "# RMSE of base model\n",
    "MSE3 = mean_squared_error(y_test_new, y_pred3)\n",
    "RMSE3 = sqrt(MSE3)\n",
    "\n",
    "#MAE of base model\n",
    "MAE3 = mean_absolute_error(y_test_new, y_pred3)\n",
    "\n",
    "print('RMSE of Model 1: {:.2f}'.format(RMSE3))\n",
    "print('MAE of Model 1: {:.2f}'.format(MAE3))"
   ]
  },
  {
   "cell_type": "markdown",
   "metadata": {},
   "source": [
    "Let's plot bar charts to compare the performance of the models using R-squared and RMSE."
   ]
  },
  {
   "cell_type": "code",
   "execution_count": 33,
   "metadata": {},
   "outputs": [
    {
     "data": {
      "image/png": "[encoded data removed]",
      "text/plain": [
       "<Figure size 360x360 with 1 Axes>"
      ]
     },
     "metadata": {
      "needs_background": "light"
     },
     "output_type": "display_data"
    }
   ],
   "source": [
    "# Define x-axis and y-axis data values\n",
    "x_labels = ['Model 1', 'Model 3']\n",
    "rsquared = [r1, r3]\n",
    "\n",
    "# Set the label locations and width of the bars\n",
    "x = np.arange(len(x_labels))  \n",
    "width = 0.3\n",
    "\n",
    "plt.figure(figsize=(5,5))\n",
    "\n",
    "# Plot side-by-side bars\n",
    "bar = plt.bar(x, rsquared, width, label='R-squared')\n",
    "\n",
    "# Customise the plot\n",
    "plt.title('Comparison of Model Performance', fontsize = 20)\n",
    "plt.ylabel('R-squared Value', fontsize = 15)\n",
    "plt.xlabel('Models', fontsize = 15)\n",
    "plt.xticks(x, x_labels)\n",
    "plt.ylim(bottom = 0, top = 1.0)\n",
    "plt.legend()\n",
    "\n",
    "# Create a function to display data labels/annotations for each bar\n",
    "def autolabel(bars):\n",
    "    for each in bars:\n",
    "        val = each.get_height()\n",
    "        plt.annotate('{:.3f}'.format(val),\n",
    "                    xy=(each.get_x() + each.get_width() / 2, val),\n",
    "                    xytext=(0, 2),  # 2 points vertical offset\n",
    "                    textcoords=\"offset points\",\n",
    "                    ha='center', va='bottom')\n",
    "        \n",
    "# Use the autolabel function to display data label for each bar       \n",
    "autolabel(bar)"
   ]
  },
  {
   "cell_type": "code",
   "execution_count": 34,
   "metadata": {},
   "outputs": [
    {
     "data": {
      "image/png": "[encoded data removed]",
      "text/plain": [
       "<Figure size 360x360 with 1 Axes>"
      ]
     },
     "metadata": {
      "needs_background": "light"
     },
     "output_type": "display_data"
    }
   ],
   "source": [
    "# Define x-axis and y-axis data values\n",
    "x_labels = ['Model 1', 'Model 3']\n",
    "rmse = [RMSE1, RMSE3]\n",
    "\n",
    "# Set the label locations and width of the bars\n",
    "x = np.arange(len(x_labels))  \n",
    "width = 0.3\n",
    "\n",
    "plt.figure(figsize=(5,5))\n",
    "\n",
    "# Plot side-by-side bars\n",
    "bar = plt.bar(x + width/2, rmse, width, color='orange', label='RMSE')\n",
    "\n",
    "# Customise the plot\n",
    "plt.title('Comparison of Model Performance', fontsize = 20)\n",
    "plt.ylabel('RMSE', fontsize = 15)\n",
    "plt.xlabel('Models', fontsize = 15)\n",
    "plt.xticks(x, x_labels)\n",
    "plt.ylim(bottom = 0, top = 6)\n",
    "plt.legend()\n",
    "\n",
    "# Create a function to display data labels/annotations for each bar\n",
    "def autolabel(bars):\n",
    "    for each in bars:\n",
    "        val = each.get_height()\n",
    "        plt.annotate('{:.3f}'.format(val),\n",
    "                    xy=(each.get_x() + each.get_width() / 2, val),\n",
    "                    xytext=(0, 2),  # 2 points vertical offset\n",
    "                    textcoords=\"offset points\",\n",
    "                    ha='center', va='bottom')\n",
    "        \n",
    "# Use the autolabel function to display data label for each bar       \n",
    "autolabel(bar)"
   ]
  },
  {
   "cell_type": "markdown",
   "metadata": {},
   "source": [
    "As we can see, Model 1 (lm) - the base model, yielded the higher R-squared value and lower RMSE, suggesting that it is the better regression model to predict Boston housing prices.\n",
    "\n",
    "However, considering that Model 3 (lm3) requires less features, with minimal compromise to R-squared value and RMSE, it can be considered as a candidate model when data is hard to gather."
   ]
  },
  {
   "cell_type": "markdown",
   "metadata": {},
   "source": [
    "## 5. Save a Trained Model for Future Use <a id='p5' />\n",
    "### 5.1 Use `joblib` package to save trained models"
   ]
  },
  {
   "cell_type": "code",
   "execution_count": 35,
   "metadata": {},
   "outputs": [],
   "source": [
    "# import required library to save trained models\n",
    "import joblib"
   ]
  },
  {
   "cell_type": "code",
   "execution_count": 36,
   "metadata": {},
   "outputs": [
    {
     "data": {
      "text/plain": [
       "['my_lm_model.pkl']"
      ]
     },
     "execution_count": 36,
     "metadata": {},
     "output_type": "execute_result"
    }
   ],
   "source": [
    "# Name the file (in pickle format)\n",
    "file = \"my_lm_model.pkl\" \n",
    "\n",
    "# Save the parameters of the trained model in the file\n",
    "joblib.dump(lm, file)"
   ]
  },
  {
   "cell_type": "markdown",
   "metadata": {},
   "source": [
    "### 5.2 Load Trained Models"
   ]
  },
  {
   "cell_type": "code",
   "execution_count": 37,
   "metadata": {},
   "outputs": [
    {
     "data": {
      "text/plain": [
       "LinearRegression(copy_X=True, fit_intercept=True, n_jobs=None, normalize=False)"
      ]
     },
     "execution_count": 37,
     "metadata": {},
     "output_type": "execute_result"
    }
   ],
   "source": [
    "# Load model from pickle file\n",
    "lm_loaded = joblib.load(file)\n",
    "lm_loaded"
   ]
  },
  {
   "cell_type": "code",
   "execution_count": 38,
   "metadata": {},
   "outputs": [
    {
     "data": {
      "text/plain": [
       "0.7330247212691926"
      ]
     },
     "execution_count": 38,
     "metadata": {},
     "output_type": "execute_result"
    }
   ],
   "source": [
    "# Use the model to perform scoring using test data\n",
    "lm_loaded.score(X_test, y_test)"
   ]
  }
 ],
 "metadata": {
  "anaconda-cloud": {},
  "celltoolbar": "Raw Cell Format",
  "kernelspec": {
   "display_name": "Python 3",
   "language": "python",
   "name": "python3"
  },
  "language_info": {
   "codemirror_mode": {
    "name": "ipython",
    "version": 3
   },
   "file_extension": ".py",
   "mimetype": "text/x-python",
   "name": "python",
   "nbconvert_exporter": "python",
   "pygments_lexer": "ipython3",
   "version": "3.7.4"
  }
 },
 "nbformat": 4,
 "nbformat_minor": 1
}
